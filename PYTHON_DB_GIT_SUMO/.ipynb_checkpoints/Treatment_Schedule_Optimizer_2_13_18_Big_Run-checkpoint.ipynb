{
 "cells": [
  {
   "cell_type": "markdown",
   "metadata": {},
   "source": [
    "## LAST WORKED ON 2/13/2018\n",
    "# currently replacing a road twice breaks it...?"
   ]
  },
  {
   "cell_type": "code",
   "execution_count": null,
   "metadata": {
    "collapsed": true
   },
   "outputs": [],
   "source": [
    "import pulp # PLP.pulpTestAll()\n",
    "import pandas as pd\n",
    "pd.set_option('display.max_rows', 999,\"display.max_columns\",999)\n",
    "pd.set_option('precision', 5)\n",
    "import numpy as np\n",
    "np.set_printoptions(precision = 2, linewidth = 400)\n",
    "# from random import Random\n",
    "import random\n",
    "#from _optiHelper import optiHelper as _opti\n",
    "\n",
    "class _opti:\n",
    "#     from pymprog import model\n",
    "    import pandas as pd\n",
    "    import numpy as np\n",
    "    # import sumoPython_git_A as SP\n",
    "    import openpyxl as OPENxlsx\n",
    "    \n",
    "    def makeDataFrames_age(roads, timeHORIZON):\n",
    "        age_i_0 = np.array(np.random.randint(1,11,(roads,1)))\n",
    "#         M = [(i,t) for i in range(roads) for t in range(timeHORIZON+1)]\n",
    "#         age_i_0 = np.array([[1],[2],[3],[4],[5],[6],[7],[8],[9],[10]])\n",
    "#         age_i_0 = np.array([[6],[7],[8],[9],[10]])\n",
    "        age_i_t_DF = pd.DataFrame(np.zeros((roads,timeHORIZON+1)))\n",
    "        roadlist = list()\n",
    "        timeHORIZONlist = list()\n",
    "        for t in range(0,timeHORIZON+1):\n",
    "            timeHORIZONlist.append('T_'+str(t))\n",
    "        for i in range(len(age_i_0)):\n",
    "            roadlist.append('Road'+str(i))\n",
    "        age_i_t_DF = pd.DataFrame(np.zeros((roads,timeHORIZON+1)), index=roadlist, columns=timeHORIZONlist)\n",
    "        for i in range(len(age_i_0)):\n",
    "            age_i_t_DF.iloc[i,0] = age_i_0[i,0]\n",
    "        for (i,t) in M[::]:\n",
    "            if t != 0:\n",
    "                age_i_t_DF.iloc[i,t] = age_i_t_DF.iloc[i,t-1]+1\n",
    "        return age_i_t_DF\n",
    "    \n",
    "        \n",
    "    def makeDataFrames_Activities(roads, timeHORIZON,age_i_t_DF):\n",
    "        M = [(i,t) for i in range(roads) for t in range(timeHORIZON+1)]\n",
    "        timeHORIZONlist = list()\n",
    "        roadlist = list()\n",
    "        counter = 0\n",
    "        DFcolumns = ['Road_ID_t','Age_0','xl_Primal','xs_Primal','Cost_i_t','T_age']\n",
    "        # for t in range(0,timeHORIZON):\n",
    "            # timeHORIZONlist.append('T_'+str(t+1))\n",
    "        for i in M[1::2]:\n",
    "            roadlist.append('Road_'+str(counter))\n",
    "            counter += 1\n",
    "        XLnXS_i_t_DF = pd.DataFrame(np.zeros((roads,len(DFcolumns))), index=roadlist, columns=DFcolumns)\n",
    "        counter = 0\n",
    "        for i,t in M[1::2]:\n",
    "            if t == 0:\n",
    "                XLnXS_i_t_DF.iloc[i,t] = str(i)\n",
    "            else:\n",
    "                XLnXS_i_t_DF.iloc[i,t] = str(age_i_t_DF.iloc[i,t])\n",
    "                counter += 1\n",
    "        return XLnXS_i_t_DF\n",
    "\n",
    "    def ageing_function(age_i_t_minus1,xl_t_minus1,xs_t_minus1):\n",
    "        age_i_t = (age_i_t_minus1) - ( ((xl_t_minus1) * (age_i_t_minus1)) + ( ((xs_t_minus1) * .33) * (age_i_t_minus1) ) ) + (1 - ( (xl_t_minus1) + (xs_t_minus1) ))\n",
    "        return age_i_t\n",
    "    def testing_junk_from_ageing_function():\n",
    "        ####TEST TEST TEST FOR (agent_i_t-1,xl,xs,)\n",
    "        # xls_term = PYM._math.__mul__(PYM._math.__mul__((xs[asset,1]),.33),(age_i_t[asset][0]))\n",
    "        # xls_termII = PYM._math.__pow__(1,1)\n",
    "        # p.st(age_i_t[asset][1].value >= ((age_i_t[asset][0]) -(PYM._math.__mul__((age_i_t[asset][1]),(xl[asset,1])) + PYM._math.__mul__(                 )))\n",
    "        # age_i_t_minus1 = 4\n",
    "        # var_from_above = .85\n",
    "        # print(testing_function(4,1,0) == 0 , testing_function(4,0,1) == age_i_t_minus1 - var_from_above * age_i_t_minus1, testing_function(4,0,0) == age_i_t_minus1 +1,\"\\nxl Used:\",testing_function(4,1,0) ,\"\\n\", \"xs Used: \", testing_function(4,0,1) ,\"\\nNothing Used:\", testing_function(4,0,0))\n",
    "        ###GOOD TEST BELOW###\n",
    "        # age_i_t_minus1 = 4 #XLnXS_i_t_DF.loc[XLnXS_i_t_DF['Road_ID_t'].str.contains(str(i)),'Age_0'][0]\n",
    "        # xl_t_minus1 = 0#xl[i].primal\n",
    "        # xs_t_minus1 = 0#xs[i].primal\n",
    "        ##END TEST INPUT VARIABLES##\n",
    "        # age_i_t = (age_i_t_minus1) - ( ((xl_t_minus1) * (age_i_t_minus1)) + ( ((xs_t_minus1) * .33) * (age_i_t_minus1) ) ) + (1 - ( (xl_t_minus1) + (xs_t_minus1) ))\n",
    "        ### old function signs on last term swapped to make easier decoding ###\n",
    "        #age_i_t = ((age_i_t_minus1) - ( ((xl_t_minus1) * (age_i_t_minus1)) + ( ((xs_t_minus1) * .33) * (age_i_t_minus1)) - (1 - ( (xl_t_minus1) + (xs_t_minus1) )) ) )\n",
    "        # age_i_t_1 = (age_i_t_minus1) - ( ((xl_t_minus1) * (age_i_t_minus1)) )\n",
    "        # age_i_t_2 = (age_i_t_minus1) - ( ((xl_t_minus1) * (age_i_t_minus1)) + ( ((xs_t_minus1) * .33) * (age_i_t_minus1) ) ) \n",
    "        # age_i_t_3 = (age_i_t_minus1) - ( ((xl_t_minus1) * (age_i_t_minus1)) + ( ((xs_t_minus1) * .33) * (age_i_t_minus1) ) ) + (1 - ( (xl_t_minus1) + (xs_t_minus1) ))\n",
    "        # print(\"age_i_t_minus1 = \",age_i_t_minus1,\"\\nxl = \",xl_t_minus1,\"\\nxs = \",xs_t_minus1, \"\\nage_i_t_1...\", age_i_t_1,\"\\nage_i_t_2...\" ,age_i_t_2,\"\\nage_i_t_3...\" , age_i_t_3,\"\\nage_i_t...\" , age_i_t)\n",
    "        # w10 = ageing_function(7,1,0)\n",
    "        # w01 = ageing_function(7,0,1)\n",
    "        # w00 = ageing_function(7,0,0)\n",
    "        ###END TESTING###\n",
    "        pass\n",
    "    \n",
    "    ## Can I use a function to set variables... we will see... no so....\n",
    "    def to_fix_specified_road_i_defect_constraint_Maker(RD_ID,treatmentID_LIST,treatDICT2): ###need to\n",
    "        treatment = 0\n",
    "        for treatmentID in treatmentID_LIST:\n",
    "            if treatmentID != 0: ## If treatmentID = replace, the action must take place in 2 timeHORIZON periods\n",
    "                 treatment = treatDICT2[treatmentID] #any other treatment can happen at any timeHORIZON\n",
    "            return pulp.lpSum( [treatment[(RD_ID,t)] for t in range(1,timeHORIZON)]) == 1\n",
    "                #     pulp.lpSum( ACT_X[(RD_ID,t)] for t in range(1,timeHORIZON+1)])\n",
    "#         for treatmentID in treatmentID_LIST:\n",
    "#             if treatmentID == 0: ## If treatmentID = replace, the action must take place in 2 timeHORIZON periods\n",
    "#                 treatment = treatDICT2[treatmentID]\n",
    "#                 return pulp.lpSum([ACT_rep[(RD_ID,t)] for t in range(1,3)]) == 1\n",
    "#             else:\n",
    "#                 treatment = treatDICT2[treatmentID] #any other treatment can happen at any timeHORIZON\n",
    "#                 return pulp.lpSum( [treatment[(RD_ID,t)] for t in range(1,timeHORIZON)]) == 1\n",
    "#                 #     pulp.lpSum( ACT_X[(RD_ID,t)] for t in range(1,timeHORIZON+1)])\n",
    "\n",
    "    def printsolresults(constraintName):\n",
    "        ACT_i_a_t_DFsol = pd.DataFrame(np.zeros((roads,timeHORIZON+1)),index=road_iList, columns=actcolLIST)\n",
    "        rd_ageLIST = list()\n",
    "        for rd in range(roads):\n",
    "            rd_ageLIST.append(age_i_t[rd,timeHORIZON].value())\n",
    "            for t in range(1,timeHORIZON+1):\n",
    "                for ACT_x in range(len(act_list)):\n",
    "        #             print(ACT_x,rd,t)\n",
    "        #             print(treatDICT2[ACT_x][rd,t].name)\n",
    "                    if treatDICT2[ACT_x][rd,t].varValue == 1:\n",
    "                        ACT_i_a_t_DFsol.iloc[rd,t] = treatDICT[ACT_x]\n",
    "    #     ACT_i_a_t_DF.style.set_caption('Actions taken with budget constraints\\nTotal cost is $'+ str(pulp.value(prob2.objective)))\n",
    "        ACT_i_a_t_DFsol['Initial_age'] = age_i_t_DF[timelist[0]].values\n",
    "        ACT_i_a_t_DFsol['Final_age'] = age_i_t_DF[timelist[timeHORIZON]].values\n",
    "        for rd in range(roads):\n",
    "#             ACT_i_a_t_DFsol.loc[road_iList[rd],'Initial_age'] = rd_ageLIST[rd]\n",
    "            ACT_i_a_t_DFsol.loc[road_iList[rd],'Final_age'] = rd_ageLIST[rd]\n",
    "        return ACT_i_a_t_DFsol.style.set_caption('Actions taken when with '+constraintName+' constraints.  Total cost is $'+ format(pulp.value(prob2.objective),',.2f'))\n",
    "    \n",
    "    def printvarValues():\n",
    "        for rd in range(roads):\n",
    "            for t in range(1,timeHORIZON+1):\n",
    "                for ACT_x in range(len(act_list)):\n",
    "        #             print(ACT_x,rd,t)\n",
    "                    if treatDICT2[ACT_x][rd,t].varValue != 0:\n",
    "                        print(\"\\n\\t\\t\\t\",treatDICT2[ACT_x][rd,t].name,\" = \", treatDICT2[ACT_x][rd,t].varValue)\n",
    "#                     else:\n",
    "#                         print(treatDICT2[ACT_x][rd,t].name,\" = \", treatDICT2[ACT_x][rd,t].varValue)\n",
    "\n",
    "    def printageDF():\n",
    "        # for v in prob.variables():\n",
    "        #     print(v.name, \"=\", v.varValue)\n",
    "        #print(\"\\n\\n Total cost is \", pulp.value(prob2.objective))\n",
    "        age_i_t_DF_sol = pd.DataFrame(age_i_t_DF.values, index=road_iList, columns=timelist)\n",
    "        # for v in prob.variables():\n",
    "        #     print(v.name, \"=\", v.varValue)\n",
    "        # print(\"\\n\\n Total cost is \", pulp.value(prob.objective))\n",
    "        for (i,t) in M_it_long[::]:\n",
    "                age_i_t_DF_sol.iloc[i,t] = age_i_t[i,t].varValue\n",
    "        if pulp.value(prob2.objective) == None:\n",
    "            return age_i_t_DF_sol.style.set_caption(\"Age Change\")\n",
    "        else:\n",
    "            return age_i_t_DF_sol.style.set_caption(\"Age Change - Total cost is $\"+ format(pulp.value(prob2.objective),',.2f'))\n",
    "                        \n",
    "    def roadway_volume_n_class(roads):\n",
    "        import pandas as pd\n",
    "        mu, sigma = 10371.24194, 6806.257782 # mean and standard deviation \n",
    "        AADT = abs(np.random.normal(mu, sigma,roads))\n",
    "    #     print(AADT)\n",
    "        AADT_2_typeLIST =  list()\n",
    "        for rd in range(len(AADT)): #http://www.dot7.state.pa.us/BPR_pdf_files/Documents/Traffic/Highway_Statistics/2013_FHWA_FC_Guidelines.pdf\n",
    "            if AADT[rd] <= 14000:\n",
    "                AADT_2_typeLIST.append(\"Minor_Arterial\")\n",
    "            elif AADT[rd] > 14000 and AADT[rd]  <= 27000:\n",
    "                AADT_2_typeLIST.append(\"Principle_Arterial\")\n",
    "            else:\n",
    "                AADT_2_typeLIST.append(\"Freeway\")\n",
    "        AADT_DF = pd.DataFrame(np.array(AADT))\n",
    "        RoadType = pd.DataFrame(np.array(AADT_2_typeLIST))\n",
    "        rd_class = pd.concat([AADT_DF,RoadType], axis=1, ignore_index=True)\n",
    "        return rd_class\n",
    "    \n",
    "    def roadway_remaining_service_life(age,AADT):\n",
    "#         https://www.nap.edu/read/22782/chapter/6#123\n",
    "# https://ac.els-cdn.com/S1877705815034256/1-s2.0-S1877705815034256-main.pdf?_tid=250eae56-0b82-11e8-a7e5-00000aab0f6c&acdnat=1517951603_2464945708ca5e4e667c9f2e3894617c\n",
    "#  what data is needed https://www.scag.ca.gov/programs/Documents/CaltransPresentation040214.pdf\n",
    "# BINGO! https://docs.lib.purdue.edu/cgi/viewcontent.cgi?article=1540&context=jtrp IRI and RUT\n",
    "##!# Effects of asphalt condition https://pdfs.semanticscholar.org/9486/aa7ac3f18fa2699629f568821e1a57f98c29.pdf\n",
    "# Original PCI and ESAL paper http://onlinepubs.trb.org/Onlinepubs/trr/1989/1215/1215-001.pdf\n",
    "# https://vtechworks.lib.vt.edu/bitstream/handle/10919/56457/ICMPA9-000071.PDF?sequence=2&isAllowed=y\n",
    "# PennDOT Bullshit http://www.dot.state.pa.us/public/Bureaus/BOPD/2017_QAW/Asphalt/PAMS-HalleyCole.pdf\n",
    "# from BINGO!\n",
    "    #IRI = 52+8.1*AGE+0.0009*AADT for overlay ## RUT = -0.0007+0.026*AGE+0.000002*AADT\n",
    "        IRI = 52+8.1*age+0.0009*AADT\n",
    "        return IRI\n",
    "    \n",
    "    def makeDataFrames_IRI(roads, timeHORIZON,age_i_t_DF,AADT_rd_LIST):\n",
    "#         mu, sigma = 10371.24194, 6806.257782 # mean and standard deviation \n",
    "#         AADT_rd_LIST = abs(np.random.normal(mu, sigma,roads))\n",
    "        IRI_i_0 = np.array(np.random.randint(75,100,(roads,1)))\n",
    "#         CI_i_t_DF = pd.DataFrame(np.zeros((roads,timeHORIZON+1)))\n",
    "#         rd_randADT = np.array(np.random.randint(547500,36500000,(roads,1)))\n",
    "        roadlist = list()\n",
    "        timeHORIZONlist = list()\n",
    "        for t in range(0,timeHORIZON+1):\n",
    "            timeHORIZONlist.append('T_'+str(t))\n",
    "        for i in range(roads):\n",
    "#         for i in range(len(IRI_i_0)):\n",
    "            roadlist.append('Road'+str(i))\n",
    "        IRI_i_t_DF = pd.DataFrame(np.zeros((roads,timeHORIZON+1)), index=roadlist, columns=timeHORIZONlist)\n",
    "#         for i in range(len(IRI_i_0)):\n",
    "#             IRI_i_t_DF.iloc[i,0] = IRI_i_0[i,0]\n",
    "        for (rd,t) in M[::]:\n",
    "            IRI_i_t_DF.iloc[rd,t] = 52+8.1*(age_i_t_DF.iloc[rd,0]+t)+0.0009*AADT_rd_LIST[rd]\n",
    "        #             if t != 0:\n",
    "#                 IRI_i_t_DF.iloc[rd,t] = 52+8.1*(age_i_t_DF.iloc[rd,0]+t)+0.0009*AADT[rd]\n",
    "        return IRI_i_t_DF\n",
    "\n",
    "    def makeDataFrame_Defect(roads, timeHORIZON):\n",
    "        roadlist = list()\n",
    "        timeHORIZONlist = list()\n",
    "        for t in range(0,timeHORIZON+1):\n",
    "            timeHORIZONlist.append('T_'+str(t))\n",
    "        for i in range(roads):\n",
    "            roadlist.append('Road'+str(i))\n",
    "        rd_defect_DF = pd.DataFrame(np.zeros((roads,2)), index=roadlist, columns=(\"Inital Defect\",\"Final Defect\"),dtype=object)\n",
    "        defect_0 = np.array(np.random.randint(0,3,(roads,1)))\n",
    "        for rd in range(roads):\n",
    "            defect_list = list()\n",
    "            for defect_i in range(random.randrange(0,4)):\n",
    "                rand_defect = random.randint(0,3)\n",
    "                if rand_defect in defect_list:\n",
    "                    rand_defect = random.randint(0,4)\n",
    "                else:\n",
    "                    defect_list.append(rand_defect)\n",
    "                #print(defect_list)\n",
    "            rd_defect_DF.iloc[rd,0]= defect_list\n",
    "        return rd_defect_DF\n",
    "\n",
    "    def single_IRI(act_effect_list,age_i_t_DF,AADT_rd_LIST,IRI_t_minus_1,timeHORIZON,action,road_id):\n",
    "        #how does a single road change?\n",
    "        t = timeHORIZON\n",
    "        IRI_0 = 52+8.1*(age_i_t_DF.iloc[road_id,0])+0.0009*AADT_rd_LIST[road_id]\n",
    "        if action == 99:\n",
    "            IRI = 52+8.1*(age_i_t_DF.iloc[road_id,0]+t)+0.0009*AADT_rd_LIST[road_id]\n",
    "        else:\n",
    "            IRI = IRI_t_minus_1 - (IRI_t_minus_1 - IRI_0) * act_effect_list[action]\n",
    "        return IRI\n",
    "    \n",
    "    def make_AADT_list(roads):\n",
    "        mu, sigma = 10371.24194, 6806.257782 # mean and standard deviation \n",
    "        AADT_rd_LIST = abs(np.random.normal(mu, sigma,roads))\n",
    "        return AADT_rd_LIST\n",
    "    \n",
    "    def make_condition_idex():\n",
    "#         http://onlinepubs.trb.org/Onlinepubs/trr/1989/1215/1215-001.pdf\n",
    "#         PCR(t) = 90 - a * [exp(Age^b)-1] * log(ESAL/SNC^c) a = 0.6349; b = 0.4203; and c = 2.7062\n",
    "    \n",
    "        return\n"
   ]
  },
  {
   "cell_type": "code",
   "execution_count": null,
   "metadata": {
    "collapsed": true
   },
   "outputs": [],
   "source": [
    "# # Instantiate the model    # Create the 'prob' variable to contain the problem data\n",
    "# prob2.solve(solver=pulp.solvers.GLPK_CMD)\n",
    "prob2 = pulp.LpProblem(\"Roadway Treatment Scheduler\",pulp.LpMinimize)\n",
    "rand = random.random()\n",
    "roads = 5\n",
    "timeHORIZON = 30 #I want to try 50 when we are ready\n",
    "rep_threshold = 9 # periods old\n",
    "buffer = 1\n",
    "AADT_rd_LIST = _opti.make_AADT_list(roads)\n",
    "# initializing indices\n",
    "M = [(i,t) for i in range(roads) for t in range(timeHORIZON+1)] # timeHORIZON + 1 b/c we want to go out \"timeHORIZON\" periods and not count To\n",
    "M_it_long = [(i,t) for i in range(roads) for t in range(timeHORIZON+1)]\n",
    "M_act = [(i,t) for i in range(roads) for t in range(1,timeHORIZON+1)]\n",
    "M_act_no0_long = [(i,t) for i in range(roads) for t in range(1,timeHORIZON+1)]\n",
    "age_i_t_DF = _opti.makeDataFrames_age(roads, timeHORIZON)\n",
    "IRI_i_t_DF = _opti.makeDataFrames_IRI(roads, timeHORIZON,age_i_t_DF,AADT_rd_LIST)\n",
    "age_i_t_DForg = pd.DataFrame(age_i_t_DF.values)\n",
    "IRI_i_t_DForg = pd.DataFrame(IRI_i_t_DF.values)\n",
    "rd_defect_DF = _opti.makeDataFrame_Defect(roads, timeHORIZON)"
   ]
  },
  {
   "cell_type": "code",
   "execution_count": null,
   "metadata": {
    "collapsed": true
   },
   "outputs": [],
   "source": [
    "### # Preparing to Declarr Activity Variables\n",
    "# https://pythonhosted.org/PuLP/pulp.html#pulp.LpVariable  # xl_1_1 = pulp.LpVariable(\"xl(1:1)\",0,1,pulp.LpInteger)\n",
    "\n",
    "road_iList = list()\n",
    "actcolLIST = list()\n",
    "timelist = list()\n",
    "roadlist = list()\n",
    "xl_list = list()\n",
    "xs_list = list()\n",
    "xlDICT = dict()\n",
    "xsDICT = dict()\n",
    "ageDICT = dict()\n",
    "itno0DICT = dict()\n",
    "itno0DICT_long = dict()\n",
    "itDICT = dict()\n",
    "itDICT_long = dict()\n",
    "period_list = list()\n",
    "period_budgeLIST =  list()\n",
    "for i in range(roads):\n",
    "    road_iList.append('Road'+str(i))\n",
    "for t in range(0,timeHORIZON+1):\n",
    "    timelist.append('T_'+str(t))\n",
    "    actcolLIST.append(\"Action_t_\"+str(t))\n",
    "for i,t in M[::]:#1::2]:\n",
    "    roadlist.append(str(str(i)+str(t)))\n",
    "    ageDICT.update( {str(str(i)+str(t)) : str( age_i_t_DF.iloc[i,t] )} )\n",
    "    itDICT.update({(i,t) : str(0)})\n",
    "    if t != 0:\n",
    "        xl_list.append(str(str(i)+str(t)))\n",
    "        xlDICT.update( {str(str(i)+str(t)) : str( 0 )} )\n",
    "        xsDICT.update( {str(str(i)+str(t)) : str( 0 )} )\n",
    "        itno0DICT.update({(i,t) : str(0)})\n",
    "for i,t in M_act_no0_long[::]:\n",
    "    itno0DICT_long.update({(i,t) : str(0)})\n",
    "for i,t in M_it_long[::]:\n",
    "    itDICT_long.update({(i,t) : str(0)})\n",
    "\n",
    "        \n",
    "rd_class = _opti.roadway_volume_n_class(roads)\n",
    "[period_list.append(str(\"t_\"+str(t))) for t in range(timeHORIZON+buffer)] #plus one b/c not counting activities initial period\n",
    "[period_budgeLIST.append(2000) for t in range(timeHORIZON + buffer)]\n",
    "# age_i_t_DForg = pd.DataFrame(age_i_t_DF.values, index=road_iList, columns=timeHORIZON+1) #!!!!!!!!!!!!!!!!!!I CHANGED THIS\n",
    "act_list = ['replacement','seal_n_patch','resurface','thin_overlay']\n",
    "act_index = [0,1,2,3]\n",
    "treatmentDICT = {0:'replacement',1:'seal_n_patch',2:'resurface',3:'thin_overlay',}\n",
    "treatDICT = {0:'ACT_rep',1:'ACT_snp',2:'ACT_rsf',3:'ACT_ovl'}\n",
    "# act_cost_DF = pd.DataFrame([[1000,1000,1000,1000,1000,1000],[10,10,10,10,10,10],[400,400,400,400,400,400],[175,175,175,175,175,175],[0,0,0,0,0,0]],index=act_index, columns=period_list, dtype=int)\n",
    "act_cost_DF = pd.DataFrame([[1000],[100],[400],[275]],index=act_index, columns=['t_0'], dtype=int)\n",
    "# act_effect_list = np.array([[1],[.1],[.75],[.45],[0]])\n",
    "act_effect_list = (1,.15,.45,.25)\n",
    "# act_cost_DF.loc[0,'t_0']\n",
    "defect_fixed_by_ACTa_DICT={'cracking' : (0,1,2,3) , 'pot_hole_1_sf' : (0,1,2,3), 'rutting' : (0,2,3), 'low_roughness' : (0,2,3), 'sink_hole':(0), 'structural_damage':(0)}\n",
    "defect_type_DICT={0:'cracking', 1:'pot_hole_1_sf', 2:'rutting', 3:'low_roughness', 4:'sink_hole', 5:'structural_damage'}"
   ]
  },
  {
   "cell_type": "code",
   "execution_count": null,
   "metadata": {
    "collapsed": true
   },
   "outputs": [],
   "source": [
    "activity_type_DF = pd.DataFrame(act_list[:], index=act_index[:], columns=['treatment_type'])\n",
    "# activity_type_DF['initial_age'] = age_i_t_DForg[0].values\n",
    "activity_type_DF['act_initial_cost']=act_cost_DF['t_0'].values\n",
    "activity_type_DF['act_effectiveness'] = act_effect_list\n",
    "# there is a way to smartly code below with the dictionaries setup above, but I'm sleepy\n",
    "act_to_defect_DF = pd.DataFrame([[('cracking', 'pot_hole_1_sf','rutting','low_roughness','sink_hole','structural_damage')],[('cracking', 'pot_hole_1_sf')],[('cracking', 'pot_hole_1_sf','rutting','low_roughness')],[('cracking','pot_hole_1_sf','rutting')]],index=act_index, columns=['act_treats'])\n",
    "activity_type_DF['act_treats'] = act_to_defect_DF.values\n",
    "##for smarter coding days\n",
    "# type_to_defect_DICT = dict()\n",
    "# for type in activity_type_DF.index[::]:\n",
    "# #     print(type)\n",
    "# #     print(act_list.index(type))\n",
    "#     for defects in defect_fixed_by_ACTa_DICT.keys():\n",
    "#         type_to_defect_DICT.update({type:defect_fixed_by_ACTa_DICT[defects]})\n",
    "# print(type_to_defect_DICT.values())"
   ]
  },
  {
   "cell_type": "code",
   "execution_count": null,
   "metadata": {},
   "outputs": [],
   "source": [
    "######## good for final output formate put code or name of treatment in each time slot per road\n",
    "ACT_i_a_t_DF = pd.DataFrame(np.zeros((roads,timeHORIZON+1)),index=road_iList, columns=actcolLIST) # set up form to fill out. What activity a was used on road i at time t\n",
    "### SET UP REQUEST METRIX \n",
    "ACT_i_a_t_reqDF = pd.DataFrame(ACT_i_a_t_DF.values,index=road_iList, columns=timelist)\n",
    "ACT_i_a_t_DF['initial_age'] = age_i_t_DForg[0].values #'t_0'\n",
    "ACT_i_a_t_DF['initial_IRI'] = IRI_i_t_DForg[0].values #'t_0'\n",
    "\n",
    "# ACT_i_a_t_DF.loc['Road0','Action_t_0']=99\n",
    "#https://pandas.pydata.org/pandas-docs/stable/style.html\n",
    "ACT_i_a_t_DF.style.set_table_styles([{'alignment':'center'}])\n",
    "# ACT_i_a_t_DF.style.set_table_styles(\n",
    "ACT_i_a_t_DF.style.set_caption('What Actions When? Where?') #good for presentation, but we need a more robust way of handeling specific acitivities over a optional time period"
   ]
  },
  {
   "cell_type": "code",
   "execution_count": null,
   "metadata": {
    "scrolled": true
   },
   "outputs": [],
   "source": [
    "activity_type_DF.style.set_caption('Possible Treatment Options and Info')\n"
   ]
  },
  {
   "cell_type": "code",
   "execution_count": null,
   "metadata": {
    "collapsed": true
   },
   "outputs": [],
   "source": [
    "# _opti.makeDataFrames_IRI(roads, time,age_i_t_DF)"
   ]
  },
  {
   "cell_type": "code",
   "execution_count": null,
   "metadata": {
    "collapsed": true
   },
   "outputs": [],
   "source": [
    "# for rd in range(1):\n",
    "#     print(\"\\nRoad\"+str(rd)+\" has defects: \")\n",
    "#     if rd_defect_DF.iloc[rd][0] !=[]:\n",
    "#         for defect_i in rd_defect_DF.iloc[rd][0]:\n",
    "#             print(defect_i)\n",
    "#             treatmentID_LIST = defect_fixed_by_ACTa_DICT[defect_type_DICT[defect_i]]\n",
    "#             for treatmentID in treatmentID_LIST:\n",
    "#                 treatment = treatDICT2[treatmentID]\n",
    "#                 print(\"treatmentID_LIST = \",treatment)\n",
    "#                 treatment = treatDICT2[treatmentID]"
   ]
  },
  {
   "cell_type": "markdown",
   "metadata": {},
   "source": [
    "# Declaring Variables"
   ]
  },
  {
   "cell_type": "code",
   "execution_count": null,
   "metadata": {
    "collapsed": true
   },
   "outputs": [],
   "source": [
    "# Declaring Variables\n",
    "ACT_rep = pulp.LpVariable.dicts(\"ACT_rep\",itno0DICT_long, cat='Binary')\n",
    "ACT_snp = pulp.LpVariable.dicts(\"ACT_snp\",itno0DICT_long, cat='Binary')\n",
    "ACT_rsf = pulp.LpVariable.dicts(\"ACT_rsf\",itno0DICT_long, cat='Binary')\n",
    "ACT_ovl = pulp.LpVariable.dicts(\"ACT_ovl\",itno0DICT_long, cat='Binary')\n",
    "age_i_t = pulp.LpVariable.dicts(\"age_i_t\",itDICT_long, cat='Integer')   #itDICT)\n",
    "IRI_i_t = pulp.LpVariable.dicts(\"IRI_i_t\",itDICT_long)\n",
    "slack_i_t = pulp.LpVariable.dicts(\"slack_i_t\",itno0DICT_long, cat='Integer')\n",
    "treatDICT2 = {0:ACT_rep,1:ACT_snp,2:ACT_rsf,3:ACT_ovl}"
   ]
  },
  {
   "cell_type": "markdown",
   "metadata": {},
   "source": [
    "# Defining the objective function, minimize the cost of the selected treatments"
   ]
  },
  {
   "cell_type": "code",
   "execution_count": null,
   "metadata": {
    "collapsed": true
   },
   "outputs": [],
   "source": [
    "##Define an objective function\n",
    "###Time value of money. ie cheaper in the future\n",
    "## Linear CPI Extrapolation Function= 4.588*N – 9003.1\n",
    "## Nyr constaint $ = 1st yr constaint $ * ([CPI_yr_1]/[CPI_yrN] )\n",
    "prob2 += pulp.lpSum([ACT_rep[(rd,t)]*(1000*(1- 0.0125*t)) for rd,t in M_act_no0_long[::]])\n",
    "# prob2 += pulp.lpSum([ACT_rep[(rd,t)]*(1000*(1+ 0.0125*t)) + ACT_snp[(rd,t)] * (10*(1+ 0.0125*t)) + ACT_rsf[(rd,t)] * (400*(1+ 0.0125*t)) + ACT_ovl[(rd,t)] * (175*(1+ 0.0125*t)) for rd,t in M_act_no0_long[::]])\n",
    "#     prob2 += pulp.lpSum([ACT_rep[(i,t)]*(1000*(1+ 0.0125*t)) + ACT_snp[(i,t)] * (10*(1+ 0.0125*t)) + ACT_rsf[(i,t)] * (400*(1+ 0.0125*t)) + ACT_ovl[(i,t)] * (175*(1+ 0.0125*t)) for i,t in M_act[::]])"
   ]
  },
  {
   "cell_type": "markdown",
   "metadata": {},
   "source": [
    "# Subject to...\n",
    "# Declaring Tricky constraint I really want this to work but, IRI_i_t-1 isn't constant and PuLP doesn't like it\n",
    "for i,t in M_act_no0_long[::]:\n",
    "        prob2 += (IRI_i_t[i,t]) == ( (IRI_i_t[i,t-1]) - ( ((ACT_rep[i,t]) * (act_effect_list[0]) * (IRI_i_t[i,t-1])) + ((ACT_snp[i,t]) * (act_effect_list[1]) * (IRI_i_t[i,t-1])) + ((ACT_rsf[i,t]) * (act_effect_list[2]) * (IRI_i_t[i,t-1])) + ((ACT_ovl[i,t]) * (act_effect_list[3]) * (IRI_i_t[i,t-1])) - ( 1 - (ACT_rep[i,t]) + (ACT_snp[i,t]) + (ACT_rsf[i,t]) + (ACT_ovl[i,t])) ) ) \n"
   ]
  },
  {
   "cell_type": "code",
   "execution_count": null,
   "metadata": {
    "collapsed": true
   },
   "outputs": [],
   "source": [
    "#Subject to...\n",
    "# Declaring Tricky nexk age constraint\n",
    "for i,t in M_act_no0_long[::]:\n",
    "    prob2 += (age_i_t[i,t]) == ( (age_i_t[i,t-1]) - ( ((ACT_rep[i,t]) * (act_effect_list[0]) * (age_i_t_DF.iloc[i,t-1]))) + ( 1 - (ACT_rep[i,t]) ))   \n",
    "# if it is replaced twice then it breaks..."
   ]
  },
  {
   "cell_type": "code",
   "execution_count": null,
   "metadata": {},
   "outputs": [],
   "source": [
    "prob2"
   ]
  },
  {
   "cell_type": "markdown",
   "metadata": {},
   "source": [
    "# Constraint Declaration: Set Initial conditions  "
   ]
  },
  {
   "cell_type": "code",
   "execution_count": null,
   "metadata": {
    "collapsed": true
   },
   "outputs": [],
   "source": [
    "#Constraint Declarations  set initial conditions  \n",
    "for rd,t in M[::]:#0::2]: ##https://pythonhosted.org/PuLP/pulp.html#pulp.LpVariable.setInitialValue\n",
    "    if t == 0:\n",
    "        prob2 += age_i_t[rd,t] == age_i_t_DF.iloc[rd,t]\n",
    "        prob2 += IRI_i_t[rd,t] == IRI_i_t_DF.iloc[rd,t]\n",
    "#Defining more contrains, keeping them in seperate for loops to make output nicer when writing to file\n",
    "for rd,t in M[::]:#1::2]: #Defining more contrains about max life\n",
    "    if t != 0:\n",
    "        prob2 += age_i_t[rd,t] <= 12  + slack_i_t[rd,t] #rep_threshold #There should be a lag term to allow for non-prioritized roads to go a little longer\n",
    "        if rd_class.iloc[rd,1] == \"Principle_Arterial\":\n",
    "            prob2 += slack_i_t[rd,t] <=1\n",
    "        else:\n",
    "            prob2 += slack_i_t[rd,t] <=3\n",
    "\n"
   ]
  },
  {
   "cell_type": "markdown",
   "metadata": {},
   "source": [
    "# You can write the problem to a file"
   ]
  },
  {
   "cell_type": "code",
   "execution_count": null,
   "metadata": {
    "collapsed": true
   },
   "outputs": [],
   "source": [
    "# prob2.writeLP(\"Task Selection Over Time_Treatment_Schedule_Optimizer_1_24_18\")\n",
    "# prob2"
   ]
  },
  {
   "cell_type": "code",
   "execution_count": null,
   "metadata": {},
   "outputs": [],
   "source": [
    "# Is this needed now?\n",
    "prob2.solve()\n",
    "# prob2.solve(pulp.solvers.GLPK_CMD()) ##e.g prob.solve(CPLEX())  from #https://pythonhosted.org/PuLP/CaseStudies/a_blending_problem.html#solution-to-simplified-problem\n",
    "print(pulp.LpStatus[prob2.status])\n",
    "_opti.printsolresults('age')"
   ]
  },
  {
   "cell_type": "code",
   "execution_count": null,
   "metadata": {},
   "outputs": [],
   "source": [
    "age_i_t_DForg"
   ]
  },
  {
   "cell_type": "code",
   "execution_count": null,
   "metadata": {},
   "outputs": [],
   "source": [
    "_opti.printageDF()"
   ]
  },
  {
   "cell_type": "code",
   "execution_count": null,
   "metadata": {},
   "outputs": [],
   "source": [
    "act_list\n",
    "ACT_rep[0,1].value()\n"
   ]
  },
  {
   "cell_type": "code",
   "execution_count": null,
   "metadata": {
    "collapsed": true
   },
   "outputs": [],
   "source": [
    "prob3 = pulp.LpProblem(\"Roadway Treatment Scheduler_second_Step\",pulp.LpMinimize)"
   ]
  },
  {
   "cell_type": "code",
   "execution_count": null,
   "metadata": {
    "collapsed": true
   },
   "outputs": [],
   "source": []
  },
  {
   "cell_type": "code",
   "execution_count": null,
   "metadata": {},
   "outputs": [],
   "source": [
    "#Magic changing formula?\n",
    "# age_i_t_DF\n",
    "# age_i_t[i,tt-1].varValue\n",
    "# print(i,t)\n",
    "\n",
    "for rd in range(roads):\n",
    "    counter = 0\n",
    "    for t in range(1,timeHORIZON+1):\n",
    "        if ACT_rep[rd,t].value() == 1:\n",
    "            counter += 1\n",
    "#             prob3+=age_i_t[rd,t-1] == 1# + (tt-t)\n",
    "            print(\"ACT_rep[\",rd,\",\",t,\"].value() = \",ACT_rep[rd,t].value(), \"Counter = \", counter)\n",
    "            for tt in range(t,timeHORIZON+1):\n",
    "                age_i_t_DF.iloc[rd,tt] = 1 + (tt-t)\n",
    "                 #age_i_t_DF[rd,tt].value()  #age_i_t_DF.iloc[rd,tt] = 1 + (tt-t) #\n",
    "#                 print(1+(tt-t))\n",
    "            prob3+= age_i_t[rd,t-1] == age_i_t_DF.iloc[rd,t-1]\n",
    "        prob3 += (age_i_t[rd,t]) <= ( (age_i_t[rd,t-1]) - ( ((ACT_rep[rd,t]) * (act_effect_list[0]) * (age_i_t_DF.iloc[rd,t-1]))) + ( 1 - (ACT_rep[rd,t]) ))         \n",
    "        print(\"age_i_t_DF.iloc[\",rd,t-1,\"] = \",age_i_t_DF.iloc[rd,t-1])\n",
    "age_i_t_DF                #Constraint Declarations  set initial conditions  \n"
   ]
  },
  {
   "cell_type": "code",
   "execution_count": null,
   "metadata": {
    "collapsed": true
   },
   "outputs": [],
   "source": [
    "for rd,t in M[::]:#0::2]: ##https://pythonhosted.org/PuLP/pulp.html#pulp.LpVariable.setInitialValue\n",
    "    if t == 0:\n",
    "#         prob3 += age_i_t[rd,t] == age_i_t_DF.iloc[rd,t]\n",
    "        prob3 += IRI_i_t[rd,t] == IRI_i_t_DF.iloc[rd,t]\n",
    "#Defining more contrains, keeping them in seperate for loops to make output nicer when writing to file\n",
    "for rd,t in M[::]:#1::2]: #Defining more contrains about max life\n",
    "    if t != 0:\n",
    "#         prob3 += age_i_t[rd,t] <= 12  + slack_i_t[rd,t] #rep_threshold #There should be a lag term to allow for non-prioritized roads to go a little longer\n",
    "        if rd_class.iloc[rd,1] == \"Principle_Arterial\":\n",
    "            prob3 += slack_i_t[rd,t] <=1\n",
    "        else:\n",
    "            prob3 += slack_i_t[rd,t] <=3"
   ]
  },
  {
   "cell_type": "code",
   "execution_count": null,
   "metadata": {},
   "outputs": [],
   "source": [
    "prob3"
   ]
  },
  {
   "cell_type": "code",
   "execution_count": null,
   "metadata": {},
   "outputs": [],
   "source": [
    "# for rd,t in M_act_no0_long[::]:\n",
    "#     prob2 += (age_i_t[rd,t]) == ( (age_i_t[rd,t-1]) - ( ((ACT_rep[rd,t]) * (act_effect_list[0]) * (age_i_t_DF.iloc[rd,t-1]))) + ( 1 - (ACT_rep[rd,t])) )    \n",
    "#     prob3 += (age_i_t[i,t]) == ( (age_i_t[i,t-1]) - ( ((ACT_rep[i,t]) * (act_effect_list[0]) * (age_i_t_DF.iloc[i,t-1])) + ((ACT_snp[i,t]) * (act_effect_list[1]) * (age_i_t_DF.iloc[i,t-1])) + ((ACT_rsf[i,t]) * (act_effect_list[2]) * (age_i_t_DF.iloc[i,t-1])) + ((ACT_ovl[i,t]) * (act_effect_list[3]) * (age_i_t_DF.iloc[i,t-1])) - ( 1 - (ACT_rep[i,t]) + (ACT_snp[i,t]) + (ACT_rsf[i,t]) + (ACT_ovl[i,t])) ) )\n",
    "prob3.solve()\n",
    "# prob2.solve(pulp.solvers.GLPK_CMD()) ##e.g prob.solve(CPLEX())  from #https://pythonhosted.org/PuLP/CaseStudies/a_blending_problem.html#solution-to-simplified-problem\n",
    "print(pulp.LpStatus[prob3.status])\n",
    "_opti.printsolresults('age with more options')"
   ]
  },
  {
   "cell_type": "code",
   "execution_count": null,
   "metadata": {
    "collapsed": true
   },
   "outputs": [],
   "source": []
  },
  {
   "cell_type": "code",
   "execution_count": null,
   "metadata": {
    "collapsed": true
   },
   "outputs": [],
   "source": [
    "# _opti.printvarValues()\n",
    "# _opti.printsolresults(\"SS\")"
   ]
  },
  {
   "cell_type": "code",
   "execution_count": null,
   "metadata": {},
   "outputs": [],
   "source": [
    "age_i_t_DF.style.set_caption(\"Age without Updating DataFrame\")"
   ]
  },
  {
   "cell_type": "code",
   "execution_count": null,
   "metadata": {},
   "outputs": [],
   "source": [
    "age_i_t_DF_sol_1 = pd.DataFrame(age_i_t_DF.values, index=road_iList, columns=timelist)\n",
    "# for v in prob.variables():\n",
    "#     print(v.name, \"=\", v.varValue)\n",
    "# print(\"\\n\\n Total cost is \", pulp.value(prob.objective))\n",
    "for (i,t) in M_it_long[::]:\n",
    "        age_i_t_DF_sol_1.iloc[i,t] = age_i_t[i,t].varValue\n",
    "age_i_t_DF_sol_1.style.set_caption('New Roadway Ages given after actions')"
   ]
  },
  {
   "cell_type": "code",
   "execution_count": null,
   "metadata": {},
   "outputs": [],
   "source": [
    "# This cell below is an attempt to rewrite age_i_t_DF so that the problem can be reset with new initial values. \n",
    "# This was an attempt before age function was revamped.... Maybe\n",
    "change_list =  list()\n",
    "for rd in range(roads):\n",
    "    for t in range(timeHORIZON+1):\n",
    "        if age_i_t_DForg.iloc[rd,t] != age_i_t[rd,t].value():\n",
    "            change_list.append(\"Road \"+ str(rd) +\" Time \"+ str(t)+\" Age = \" + str(age_i_t[rd,t].varValue))\n",
    "            age_i_t_DF.iloc[rd,t]=0\n",
    "            for tt in range(t,timeHORIZON+1):\n",
    "                age_i_t_DF.iloc[rd,tt] += 1 #age_i_t[rd,tt].value()+1\n",
    "            break\n",
    "change_list"
   ]
  },
  {
   "cell_type": "code",
   "execution_count": null,
   "metadata": {
    "collapsed": true
   },
   "outputs": [],
   "source": []
  },
  {
   "cell_type": "code",
   "execution_count": null,
   "metadata": {},
   "outputs": [],
   "source": [
    "age_i_t_DForg"
   ]
  },
  {
   "cell_type": "code",
   "execution_count": null,
   "metadata": {},
   "outputs": [],
   "source": [
    "age_i_t[2,11].value()"
   ]
  },
  {
   "cell_type": "code",
   "execution_count": null,
   "metadata": {},
   "outputs": [],
   "source": [
    "_opti.printvarValues()\n",
    "# age_i_t[24,15].value()"
   ]
  },
  {
   "cell_type": "markdown",
   "metadata": {},
   "source": [
    "## Constraint for Budget"
   ]
  },
  {
   "cell_type": "code",
   "execution_count": null,
   "metadata": {
    "collapsed": true
   },
   "outputs": [],
   "source": [
    "C1 = pulp.LpVariable(\"Budget_Slack\",0)"
   ]
  },
  {
   "cell_type": "code",
   "execution_count": null,
   "metadata": {
    "collapsed": true
   },
   "outputs": [],
   "source": [
    "## Constraint for Budget\n",
    "## RANDOME BUDGET SOON rdmbjLIST = np.random.randint(500,1500, (1,time+buffer))\n",
    "for t in range(1,timeHORIZON+buffer):\n",
    "    prob2 += pulp.lpSum([ACT_rep[(rd,t)]*(1000*(1+ 0.0125*t)) + ACT_snp[(rd,t)] * (10*(1+ 0.0125*t)) + ACT_rsf[(rd,t)] * (400*(1+ 0.0125*t)) + ACT_ovl[(rd,t)] * (175*(1+ 0.0125*t)) for rd in range(roads)]) <= period_budgeLIST[t] + C1\n",
    "# prob.solve(solver=pulp.solvers.GLPK_CMD)\n",
    "###### https://stackoverflow.com/questions/36245856/how-do-i-specify-multiple-variable-constraints-using-integer-programming-in-pulp\n",
    "# prob2.writeLP(\"Task Selection Over Time_Treatment_Schedule_Optimizer_1_24_18\")\n",
    "# prob2.solve()\n",
    "# # prob2.solve(pulp.solvers.GLPK_CMD()) ##e.g prob.solve(CPLEX())  from #https://pythonhosted.org/PuLP/CaseStudies/a_blending_problem.html#solution-to-simplified-problem\n",
    "# print(pulp.LpStatus[prob2.status])\n",
    "# _opti.printsolresults('budget')"
   ]
  },
  {
   "cell_type": "code",
   "execution_count": null,
   "metadata": {
    "collapsed": true
   },
   "outputs": [],
   "source": []
  },
  {
   "cell_type": "code",
   "execution_count": null,
   "metadata": {
    "collapsed": true
   },
   "outputs": [],
   "source": [
    "# t = 1\n",
    "# for trys in range(1000):\n",
    "#     prob2.solve()\n",
    "#     if pulp.LpStatus[prob2.status] != \"Optimal\":\n",
    "#         for rd in range(roads):\n",
    "#             IRI_t_minus_1 = IRI_i_t[rd,t-1].value()\n",
    "#             prob2 += (IRI_i_t[rd,t]) == ( (IRI_t_minus_1) - ( ((ACT_rep[rd,t]) * (act_effect_list[0]) * (IRI_t_minus_1)) + ((ACT_snp[rd,t]) * (act_effect_list[1]) * (IRI_t_minus_1)) + ((ACT_rsf[rd,t]) * (act_effect_list[2]) * (IRI_t_minus_1)) + ((ACT_ovl[rd,t]) * (act_effect_list[3]) * (IRI_t_minus_1)) - ( 1 - (ACT_rep[rd,t]) + (ACT_snp[rd,t]) + (ACT_rsf[rd,t]) + (ACT_ovl[rd,t])) ) )    \n",
    "#         t += 1"
   ]
  },
  {
   "cell_type": "code",
   "execution_count": null,
   "metadata": {
    "collapsed": true
   },
   "outputs": [],
   "source": [
    "# IRI_i_t[1,0].value()"
   ]
  },
  {
   "cell_type": "code",
   "execution_count": null,
   "metadata": {},
   "outputs": [],
   "source": [
    "prob2.solve()\n",
    "# prob2.solve(pulp.solvers.GLPK_CMD()) ##e.g prob.solve(CPLEX())  from #https://pythonhosted.org/PuLP/CaseStudies/a_blending_problem.html#solution-to-simplified-problem\n",
    "print(pulp.LpStatus[prob2.status],\"Budge Slack Variable = \",C1.varValue)\n",
    "_opti.printsolresults('budget')"
   ]
  },
  {
   "cell_type": "code",
   "execution_count": null,
   "metadata": {
    "collapsed": true
   },
   "outputs": [],
   "source": [
    "while pulp.LpStatus[prob2.status] != \"Optimal\":\n",
    "    prob2.solve()\n",
    "    C_max += (C1.varValue+1000)\n",
    "    prob2 += C1 <= C_max\n",
    "    # prob2.solve(pulp.solvers.GLPK_CMD()) ##e.g prob.solve(CPLEX())  from #https://pythonhosted.org/PuLP/CaseStudies/a_blending_problem.html#solution-to-simplified-problem\n",
    "    print(pulp.LpStatus[prob2.status])\n",
    "    _opti.printsolresults('budget')"
   ]
  },
  {
   "cell_type": "code",
   "execution_count": null,
   "metadata": {
    "collapsed": true
   },
   "outputs": [],
   "source": [
    "prob2 += C1 <=1000"
   ]
  },
  {
   "cell_type": "code",
   "execution_count": null,
   "metadata": {},
   "outputs": [],
   "source": [
    "C1.varValue"
   ]
  },
  {
   "cell_type": "code",
   "execution_count": null,
   "metadata": {},
   "outputs": [],
   "source": [
    "_opti.printvarValues()\n"
   ]
  },
  {
   "cell_type": "code",
   "execution_count": null,
   "metadata": {},
   "outputs": [],
   "source": [
    "print(age_i_t_DF)\n"
   ]
  },
  {
   "cell_type": "markdown",
   "metadata": {},
   "source": [
    "# Adding other actions "
   ]
  },
  {
   "cell_type": "code",
   "execution_count": null,
   "metadata": {},
   "outputs": [],
   "source": [
    "prob2 += pulp.lpSum([ACT_rep[(rd,t)]*(1000*(1- 0.0125*t)) + ACT_snp[(rd,t)] * (10*(1- 0.0125*t)) + ACT_rsf[(rd,t)] * (400*(1- 0.0125*t)) + ACT_ovl[(rd,t)] * (175*(1- 0.0125*t)) for rd,t in M_act_no0_long[::]])"
   ]
  },
  {
   "cell_type": "code",
   "execution_count": null,
   "metadata": {},
   "outputs": [],
   "source": [
    "age_i_t_DF_sol_1 = pd.DataFrame(age_i_t_DF.values, index=road_iList, columns=timelist)\n",
    "# for v in prob.variables():\n",
    "#     print(v.name, \"=\", v.varValue)\n",
    "# print(\"\\n\\n Total cost is \", pulp.value(prob.objective))\n",
    "for (i,t) in M_it_long[::]:\n",
    "        age_i_t_DF_sol_1.iloc[i,t] = age_i_t[i,t].varValue\n",
    "age_i_t_DF_sol_1.style.set_caption('New Roadway Ages given after actions')"
   ]
  },
  {
   "cell_type": "code",
   "execution_count": null,
   "metadata": {
    "collapsed": true
   },
   "outputs": [],
   "source": [
    "# for rd,t in M_act_no0_long[::]:\n",
    "#     if age_i_t_DF.iloc[rd,t] != age_i_t[rd,t].value():\n",
    "#         print(\"Changing things/nRoad \",rd,\" Time \",t,\" Age = \",age_i_t[rd,t].varValue)\n",
    "#         age_i_t_DF.iloc[rd,t] == age_i_t[rd,t].value()\n",
    "# # prob2.solve()"
   ]
  },
  {
   "cell_type": "code",
   "execution_count": null,
   "metadata": {},
   "outputs": [],
   "source": [
    "age_i_t_DF\n",
    "for v in prob2.variables():\n",
    "    print(v.name, \"=\", v.varValue)"
   ]
  },
  {
   "cell_type": "code",
   "execution_count": null,
   "metadata": {
    "collapsed": true
   },
   "outputs": [],
   "source": [
    "for i,t in M_act_no0_long[::]:\n",
    "# PuLP don't like this one below\n",
    "#     prob2 += (IRI_i_t[i,t]) == ( (IRI_i_t[i,t-1]) - ( ((ACT_rep[i,t]) * (act_effect_list[0]) * (IRI_i_t[i,t-1])) + ((ACT_snp[i,t]) * (act_effect_list[1]) * (IRI_i_t[i,t-1])) + ((ACT_rsf[i,t]) * (act_effect_list[2]) * (IRI_i_t[i,t-1])) + ((ACT_ovl[i,t]) * (act_effect_list[3]) * (IRI_i_t[i,t-1])) - ( 1 - (ACT_rep[i,t]) + (ACT_snp[i,t]) + (ACT_rsf[i,t]) + (ACT_ovl[i,t])) ) ) \n",
    "# Modifing the IRI based on activity selected\n",
    "    prob2 += (IRI_i_t[i,t]) == ( (IRI_i_t[i,t-1]) - ( ((ACT_rep[i,t]) * (act_effect_list[0]) * (IRI_i_t_DF.iloc[i,t-1])) + ((ACT_snp[i,t]) * (act_effect_list[1]) * (IRI_i_t_DF.iloc[i,t-1])) + ((ACT_rsf[i,t]) * (act_effect_list[2]) * (IRI_i_t_DF.iloc[i,t-1])) + ((ACT_ovl[i,t]) * (act_effect_list[3]) * (IRI_i_t_DF.iloc[i,t-1])) - ( 1 - (ACT_rep[i,t]) + (ACT_snp[i,t]) + (ACT_rsf[i,t]) + (ACT_ovl[i,t])) ) )    \n",
    "# Increasing age by 1\n",
    "#     prob2 += age_i_t[i,t] == age_i_t[i,t-1]+1"
   ]
  },
  {
   "cell_type": "code",
   "execution_count": null,
   "metadata": {},
   "outputs": [],
   "source": [
    "prob2"
   ]
  },
  {
   "cell_type": "code",
   "execution_count": null,
   "metadata": {
    "collapsed": true
   },
   "outputs": [],
   "source": [
    "for rd,t in M[::]:#1::2]: #Defining constraints about Roughness limit\n",
    "    if t != 0:\n",
    "        prob2 += IRI_i_t[rd,t] <= 105   "
   ]
  },
  {
   "cell_type": "code",
   "execution_count": null,
   "metadata": {},
   "outputs": [],
   "source": [
    "IRI_i_t_DF"
   ]
  },
  {
   "cell_type": "code",
   "execution_count": null,
   "metadata": {
    "scrolled": true
   },
   "outputs": [],
   "source": [
    "prob2.solve()\n",
    "# prob2.solve(pulp.solvers.GLPK_CMD()) ##e.g prob.solve(CPLEX())  from #https://pythonhosted.org/PuLP/CaseStudies/a_blending_problem.html#solution-to-simplified-problem\n",
    "print(pulp.LpStatus[prob2.status])\n",
    "_opti.printsolresults('roughtness limitation')"
   ]
  },
  {
   "cell_type": "code",
   "execution_count": null,
   "metadata": {},
   "outputs": [],
   "source": [
    "AADT_rd_LIST"
   ]
  },
  {
   "cell_type": "code",
   "execution_count": null,
   "metadata": {},
   "outputs": [],
   "source": [
    "#print change in roughness\n",
    "IRI_i_t_DF_sol_1 = pd.DataFrame(IRI_i_t_DF.values, index=road_iList, columns=timelist)\n",
    "# for v in prob.variables():\n",
    "#     print(v.name, \"=\", v.varValue)\n",
    "# print(\"\\n\\n Total cost is \", pulp.value(prob.objective))\n",
    "for (rd,t) in M_it_long[::]:\n",
    "        IRI_i_t_DF_sol_1.iloc[rd,t] = IRI_i_t[rd,t].varValue\n",
    "        IRI_i_t_DF_sol_1['Initial_AADT'] = AADT_rd_LIST[rd]\n",
    "IRI_i_t_DF_sol_1"
   ]
  },
  {
   "cell_type": "code",
   "execution_count": null,
   "metadata": {
    "collapsed": true
   },
   "outputs": [],
   "source": [
    "#break constraints above and solve here"
   ]
  },
  {
   "cell_type": "code",
   "execution_count": null,
   "metadata": {
    "collapsed": true
   },
   "outputs": [],
   "source": [
    "# # Constraint Every road should be replaced at least once per 10 year cycle\n",
    "# for rd in range(roads):# O                      #,t in M_act_no0_long[::]:#1::2]:\n",
    "# #     for range(rd...intial_age,10): #I don't think this fully captures a non-homogenous age pop. \n",
    "# #     While loop? - need a \"last last replaced, diff from inital value since it could be altered by previous treatment\n",
    "#     prob2 += pulp.lpSum([treatDICT2[0][rd,t] for t in range(1,time + 1)]) == 1 #ACT_x in range(len(act_list))]) <=1  #sum all the jobs for road_i during a period_t <=1"
   ]
  },
  {
   "cell_type": "code",
   "execution_count": null,
   "metadata": {
    "collapsed": true
   },
   "outputs": [],
   "source": [
    "# Constraint Only 1 activity per road per peroid\n",
    "for rd in range(roads):# O                      #,t in M_act_no0_long[::]:#1::2]:\n",
    "    for t in range(1,timeHORIZON + 1):#!!!!!!!!!!! gosh darn it why not!!!!!!!!!!!!!!! treatDICT2.keys:\n",
    "        prob2 += 0 <= pulp.lpSum([treatDICT2[ACT_x][rd,t] for ACT_x in range(len(act_list))]) <=1  #sum all the jobs for road_i during a period_t <=1 \n",
    "        prob2 += pulp.lpSum([ACT_rep[rd,t] for rd in range(roads)]) <=2\n",
    "   "
   ]
  },
  {
   "cell_type": "code",
   "execution_count": null,
   "metadata": {},
   "outputs": [],
   "source": [
    "prob2.solve()\n",
    "# prob2.solve(pulp.solvers.GLPK_CMD()) ##e.g prob.solve(CPLEX())  from #https://pythonhosted.org/PuLP/CaseStudies/a_blending_problem.html#solution-to-simplified-problem\n",
    "print(pulp.LpStatus[prob2.status])\n",
    "_opti.printsolresults('replace')"
   ]
  },
  {
   "cell_type": "code",
   "execution_count": null,
   "metadata": {
    "collapsed": true
   },
   "outputs": [],
   "source": [
    "while pulp.LpStatus[prob2.status] != \"Optimal\":\n",
    "    prob2.solve()\n",
    "    C_max += (C1.varValue+1000)\n",
    "    prob2 += C1 <= C_max\n",
    "    # prob2.solve(pulp.solvers.GLPK_CMD()) ##e.g prob.solve(CPLEX())  from #https://pythonhosted.org/PuLP/CaseStudies/a_blending_problem.html#solution-to-simplified-problem\n",
    "    print(pulp.LpStatus[prob2.status])\n",
    "    _opti.printsolresults('budget')"
   ]
  },
  {
   "cell_type": "code",
   "execution_count": null,
   "metadata": {},
   "outputs": [],
   "source": [
    "##Desired: after else statement call ACT_X[(RD_ID,t)] for t in range(1,time+1)])\n",
    "# treatment = treatDICT2[1]\n",
    "# treatment[(0,1)]\n",
    "treatDICT2[0][(0,1)]#.varValue"
   ]
  },
  {
   "cell_type": "code",
   "execution_count": null,
   "metadata": {},
   "outputs": [],
   "source": [
    "prob2"
   ]
  },
  {
   "cell_type": "code",
   "execution_count": null,
   "metadata": {},
   "outputs": [],
   "source": [
    "# prob2.solve(solver=pulp.solvers.GLPK_CMD)\n",
    "###### https://stackoverflow.com/questions/36245856/how-do-i-specify-multiple-variable-constraints-using-integer-programming-in-pulp\n",
    "# prob2.writeLP(\"Task Selection Over Time_Treatment_Schedule_Optimizer_1_24_18\")\n",
    "# aa = pulp.solvers.LpSolver_CMD.solve()\n",
    "# GLPK_CMD\n",
    "# print(aa)\n",
    "prob2.solve()\n",
    "# prob2.solve(pulp.solvers.GLPK_CMD()) ##e.g prob.solve(CPLEX())  from #https://pythonhosted.org/PuLP/CaseStudies/a_blending_problem.html#solution-to-simplified-problem\n",
    "# prob.solve(solver=pulp.solvers.GLPK_CMD) # prob.solver.GLPK_CMD\n",
    "print(pulp.LpStatus[prob2.status])\n",
    "_opti.printsolresults('no business xsacascsacsadvsdv')"
   ]
  },
  {
   "cell_type": "code",
   "execution_count": null,
   "metadata": {
    "collapsed": true
   },
   "outputs": [],
   "source": [
    "\n",
    "# # age_i_t_DForg = pd.DataFrame(age_i_t_DForg)\n",
    "# age_i_t_DForg# = pd.DataFrame(age_i_t_DF.values, index=road_iList, columns=timelist)\n",
    "# age_i_t_DForg.style.set_caption('Roadway ages given no actions') #if only run once"
   ]
  },
  {
   "cell_type": "code",
   "execution_count": null,
   "metadata": {},
   "outputs": [],
   "source": [
    "# for v in prob.variables():\n",
    "#     print(v.name, \"=\", v.varValue)\n",
    "# print(\"\\n\\n Total cost is $\", format(pulp.value(prob2.objective),',.2f'))\n",
    "age_i_t_DF_sol_1 = pd.DataFrame(age_i_t_DF.values, index=road_iList, columns=timelist)\n",
    "# for v in prob.variables():\n",
    "#     print(v.name, \"=\", v.varValue)\n",
    "# print(\"\\n\\n Total cost is \", pulp.value(prob.objective))\n",
    "for (i,t) in M_it_long[::]:\n",
    "        age_i_t_DF_sol_1.iloc[i,t] = age_i_t[i,t].varValue\n",
    "age_i_t_DF_sol_1.style.set_caption(\"Age Change - Total cost is $\"+ format(pulp.value(prob2.objective),',.2f'))"
   ]
  },
  {
   "cell_type": "code",
   "execution_count": null,
   "metadata": {},
   "outputs": [],
   "source": [
    "print(\"Total cost is $\", format(pulp.value(prob2.objective),',.2f'))"
   ]
  },
  {
   "cell_type": "code",
   "execution_count": null,
   "metadata": {
    "collapsed": true
   },
   "outputs": [],
   "source": [
    "# ##Constraint for Budget\n",
    "# ## RANDOME BUDGET SOON rdmbjLIST = np.random.randint(500,1500, (1,time+buffer))\n",
    "# for t in range(1,time+buffer):\n",
    "#     prob2 += pulp.lpSum([ACT_rep[(rd,t)]*(1000*(1+ 0.0125*t)) + ACT_snp[(rd,t)] * (10*(1+ 0.0125*t)) + ACT_rsf[(rd,t)] * (400*(1+ 0.0125*t)) + ACT_ovl[(rd,t)] * (175*(1+ 0.0125*t)) for rd in range(roads)]) <= period_budgeLIST[t]\n",
    "# # prob.solve(solver=pulp.solvers.GLPK_CMD)\n",
    "# ###### https://stackoverflow.com/questions/36245856/how-do-i-specify-multiple-variable-constraints-using-integer-programming-in-pulp\n",
    "# prob2.writeLP(\"Task Selection Over Time_Treatment_Schedule_Optimizer_1_24_18\")\n",
    "# prob2.solve()\n",
    "# # prob2.solve(pulp.solvers.GLPK_CMD()) ##e.g prob.solve(CPLEX())  from #https://pythonhosted.org/PuLP/CaseStudies/a_blending_problem.html#solution-to-simplified-problem\n",
    "# print(pulp.LpStatus[prob2.status])\n",
    "# _opti.printsolresults('budget')"
   ]
  },
  {
   "cell_type": "code",
   "execution_count": null,
   "metadata": {},
   "outputs": [],
   "source": [
    "# # for v in prob.variables():\n",
    "# #     print(v.name, \"=\", v.varValue)\n",
    "# print(\"\\n\\n Total cost is \", pulp.value(prob2.objective))\n",
    "# age_i_t_DF_sol_2 = pd.DataFrame(age_i_t_DF.values, index=road_iList, columns=timelist)\n",
    "# # for v in prob.variables():\n",
    "# #     print(v.name, \"=\", v.varValue)\n",
    "# # print(\"\\n\\n Total cost is \", pulp.value(prob.objective))\n",
    "# for (i,t) in M_it_long[::]:\n",
    "#         age_i_t_DF_sol_2.iloc[i,t] = age_i_t[i,t].varValue\n",
    "# age_i_t_DF_sol_2\n",
    "_opti.printageDF()"
   ]
  },
  {
   "cell_type": "code",
   "execution_count": null,
   "metadata": {
    "collapsed": true
   },
   "outputs": [],
   "source": [
    "#Constrations no more than 2 ACT_ovl ever....\n",
    "# prob2 += pulp.lpSum([ACT_ovl[rd,t] for rd,t in M_act[::]]) <=2\n",
    "for t in range(1,timeHORIZON+1):\n",
    "    prob2 += pulp.lpSum([ACT_ovl[rd,t] for rd in range(roads)]) <=5\n"
   ]
  },
  {
   "cell_type": "code",
   "execution_count": null,
   "metadata": {
    "collapsed": true,
    "scrolled": false
   },
   "outputs": [],
   "source": [
    "# prob2"
   ]
  },
  {
   "cell_type": "code",
   "execution_count": null,
   "metadata": {},
   "outputs": [],
   "source": [
    "age_i_t[1,3].value()"
   ]
  },
  {
   "cell_type": "code",
   "execution_count": null,
   "metadata": {},
   "outputs": [],
   "source": [
    "prob2.writeLP(\"Task Selection Over Time_Treatment_Schedule_Optimizer_1_24_18\")\n",
    "prob2.solve()\n",
    "# prob2.solve(pulp.solvers.GLPK_CMD()) ##e.g prob.solve(CPLEX())  from #https://pythonhosted.org/PuLP/CaseStudies/a_blending_problem.html#solution-to-simplified-problem\n",
    "print(pulp.LpStatus[prob2.status])\n",
    "_opti.printsolresults('no more than ACT_ovl per period....')"
   ]
  },
  {
   "cell_type": "code",
   "execution_count": null,
   "metadata": {},
   "outputs": [],
   "source": [
    "# print(\"\\n\\n Total cost is \", pulp.value(prob2.objective))\n",
    "# age_i_t_DF_sol_3 = pd.DataFrame(age_i_t_DF.values, index=road_iList, columns=timelist)\n",
    "# # for v in prob.variables():\n",
    "# #     print(v.name, \"=\", v.varValue)\n",
    "# # print(\"\\n\\n Total cost is \", pulp.value(prob.objective))\n",
    "# for (i,t) in M_it_long[::]:\n",
    "#         age_i_t_DF_sol_3.iloc[i,t] = age_i_t[i,t].varValue\n",
    "# age_i_t_DF_sol_3.style.set_caption('New Roadway Ages given after actions')\n",
    "_opti.printageDF()"
   ]
  },
  {
   "cell_type": "code",
   "execution_count": null,
   "metadata": {},
   "outputs": [],
   "source": [
    "age_i_t[3,5].varValue"
   ]
  },
  {
   "cell_type": "code",
   "execution_count": null,
   "metadata": {
    "collapsed": true
   },
   "outputs": [],
   "source": [
    "# _opti.printvarValues()\n",
    "# _opti.to_fix_specified_road_i_defect_constraint_Maker(rd,treatmentID,treatDICT2)"
   ]
  },
  {
   "cell_type": "code",
   "execution_count": null,
   "metadata": {
    "collapsed": true
   },
   "outputs": [],
   "source": [
    "# print(treatDICT2[treatmentID])\n",
    "# # treatment = treatDICT2[treatmentID]\n",
    "# for treatmentID in treatmentID_LIST:\n",
    "#     print(treatDICT2[treatmentID])\n",
    "# #     if treatmentID != 0: ## If treatmentID = replace, the action must take place in 2 timeHORIZON periods\n",
    "#          treatment = treatDICT2[treatmentID] #any other treatment can happen at any timeHORIZON\n",
    "#     print([treatment[(1,t)] for t in range(1,timeHORIZON)]) == 1"
   ]
  },
  {
   "cell_type": "markdown",
   "metadata": {},
   "source": [
    "## Stopped here on 2/14"
   ]
  },
  {
   "cell_type": "code",
   "execution_count": null,
   "metadata": {},
   "outputs": [],
   "source": [
    "rd_defect_DF"
   ]
  },
  {
   "cell_type": "code",
   "execution_count": null,
   "metadata": {},
   "outputs": [],
   "source": [
    "## Stopped here on 2/14\n",
    "for rd in range(roads):\n",
    "    print(\"\\nRoad\"+str(rd)+\" has defects: \")\n",
    "    if rd_defect_DF.iloc[rd][0] !=[]:\n",
    "        treatmentID_LIST = list()\n",
    "        for defect_i in rd_defect_DF.iloc[rd][0]:\n",
    "            treatmentID_LIST = defect_fixed_by_ACTa_DICT[defect_type_DICT[defect_i]]\n",
    "            for treatmentID in treatmentID_LIST:\n",
    "                treatment = treatDICT2[treatmentID]\n",
    "            print(\"treatmentID_LIST = \",treatment)\n",
    "            treatment = treatDICT2[treatmentID]\n",
    "#             print(defect_type_DICT[defect_i], \"treated by \",treatmentID, end=' ; ')\n",
    "        prob2 += _opti.to_fix_specified_road_i_defect_constraint_Maker(rd,treatmentID,treatDICT2)\n",
    "#         defect_type_DICT\n",
    "#         print(\"Road\"+str(rd)+\" has defects: \",defect_i,end='\\n')#,flush=True)"
   ]
  },
  {
   "cell_type": "code",
   "execution_count": null,
   "metadata": {
    "collapsed": true
   },
   "outputs": [],
   "source": [
    "treatDICT2\n",
    "prob2"
   ]
  },
  {
   "cell_type": "markdown",
   "metadata": {
    "collapsed": true
   },
   "source": [
    "#Which roads have which kind of defect?\n",
    "road_defectDICT={'Road0':('cracking','pot_hole_1_sf'),'Road1':('sink_hole', 'structural_damage'),'Road2':('cracking','pot_hole_1_sf','low_roughness'),'Road3':('cracking','pot_hole_1_sf'),'Road4':('cracking', 'pot_hole_1_sf','rutting')}\n",
    "road_defectDICT\n",
    "#### BIG CONSTRAINT NEEDED TO MAKE SURE PROPER TASK GOES TO ROAD\n",
    "\n",
    "\n",
    "### FUNCTION is over constraining the problem\n",
    "\n",
    "### Constraints for manditory road constraints\n",
    "for rd in range(roads):\n",
    "    RD_ID = str(\"Road\"+str(rd))\n",
    "    road_i_defectLIST = road_defectDICT[RD_ID] #Making a list of defects\n",
    "    road_i_dect_con_nameLIST = list()\n",
    "    defcounter = 0\n",
    "    for defect in road_i_defectLIST:\n",
    "#         print(RD_ID,\" has a\",defect,\"problem. Possible treatment options are:...\")\n",
    "        if defect == 'sink_hole': \n",
    "#             print(\"defect\", defect == 'sink_hole' or 'structural_damage')\n",
    "            treatmentID = defect_fixed_by_ACTa_DICT[defect]\n",
    "# #             print(\"SorS Treatment_ID = \",treatmentID, end=' ')\n",
    "            prob2 += _opti.to_fix_specified_road_i_defect_constraint_Maker(rd,treatmentID,treatDICT2)\n",
    "            defcounter += 1\n",
    "        elif defect == 'structural_damage':\n",
    "#             print(\"defect\", defect == 'sink_hole' or 'structural_damage')\n",
    "            treatmentID = defect_fixed_by_ACTa_DICT[defect]\n",
    "#             print(\"SorS Treatment_ID = \",treatmentID, end=' ')\n",
    "            prob2 += _opti.to_fix_specified_road_i_defect_constraint_Maker(rd,treatmentID,treatDICT2)\n",
    "            defcounter += 1\n",
    "        else:\n",
    "            for treatmentID in defect_fixed_by_ACTa_DICT[defect]:\n",
    "#                 print(\"Treatment_ID = \",treatmentID, end=' ')\n",
    "                prob2 += _opti.to_fix_specified_road_i_defect_constraint_Maker(rd,treatmentID,treatDICT2)\n",
    "                defcounter += 1\n",
    "        ##Desired: after else statement call ACT_X[(RD_ID,t)] for t in range(1,time+1)])\n",
    "    # treatment = treatDICT2[1] #folowed by # treatment[(0,1)] # is the same as !!!! # treatDICT2[0][(0,1)]\n",
    "                # https://www.coin-or.org/PuLP/pulp.html#pulp.LpConstraint\n",
    "#                 road_i_dect_con_nameLIST[defcounter] = pulp.LpConstraint(pulp.lpSum( [treatment[(RD_ID,t)] for t in range(1,time+1)]), sense=0,rhs=1 )\n",
    "#         print(\"\\n\")\n",
    "#     ACT_i_a_t_reqDF.iloc()\n",
    "# defect_fixed_by_ACTa_DICT[defect], defect_fixed_by_ACTa_DICT[defect][1]\n",
    "##### VISUALLY TEST TO MAKE SURE prob constraints were correctly generated.....\n",
    "#prob\n",
    "# For Testing Purposes\n",
    "# RD_ID = 'Road1'\n",
    "# # road_i_defectLIST = list()\n",
    "# road_i_defectLIST = road_defectDICT[RD_ID]\n",
    "# for defect in road_i_defectLIST:\n",
    "#     print(defect)\n",
    "#     if (defect == 'sink_hole' or 'structural_damage'):\n",
    "#         defect_i = defect_fixed_by_ACTa_DICT[defect]\n",
    "#         print(\"SorS  Treatment_ID = \",defect_i)\n",
    "#     else:\n",
    "#         print(defect)\n",
    "#         for defect_i in defect_fixed_by_ACTa_DICT[defect]:\n",
    "#             print(\"Treatment_ID = \",defect_i)\n",
    "\n",
    "\n"
   ]
  },
  {
   "cell_type": "code",
   "execution_count": null,
   "metadata": {
    "collapsed": true
   },
   "outputs": [],
   "source": [
    "prob2"
   ]
  },
  {
   "cell_type": "code",
   "execution_count": null,
   "metadata": {
    "collapsed": true
   },
   "outputs": [],
   "source": [
    "# prob.solve(solver=pulp.solvers.GLPK_CMD)\n",
    "###### https://stackoverflow.com/questions/36245856/how-do-i-specify-multiple-variable-constraints-using-integer-programming-in-pulp\n",
    "prob2.writeLP(\"Task Selection Over Time_Treatment_Schedule_Optimizer_1_24_18\")\n",
    "# aa = pulp.solvers.LpSolver_CMD.solve() ##Mixed-Integer Programming The following sections describe how solve mixed-integer programming (MIP) problems with OR-Tools. MIP solvers OR-Tools provides an interface to several MIP solvers. By default, it uses Coin-or branch and cut (CBC),\n",
    "# GLPK_CMD\n",
    "# print(aa)\n",
    "prob2.solve()\n",
    "# prob2.solve(pulp.solvers.GLPK_CMD()) ##e.g prob.solve(CPLEX())  from #https://pythonhosted.org/PuLP/CaseStudies/a_blending_problem.html#solution-to-simplified-problem\n",
    "# prob.solve(solver=pulp.solvers.GLPK_CMD) # prob.solver.GLPK_CMD\n",
    "print(pulp.LpStatus[prob2.status])\n",
    "_opti.printsolresults('XXXXX')"
   ]
  },
  {
   "cell_type": "code",
   "execution_count": null,
   "metadata": {
    "collapsed": true
   },
   "outputs": [],
   "source": [
    "print(\"\\n\\n Total cost is \", pulp.value(prob2.objective))\n",
    "age_i_t_DF_sol_XX = pd.DataFrame(age_i_t_DF.values, index=road_iList, columns=timelist)\n",
    "# for v in prob.variables():\n",
    "#     print(v.name, \"=\", v.varValue)\n",
    "# print(\"\\n\\n Total cost is \", pulp.value(prob.objective))\n",
    "for (i,t) in M_it_long[::]:\n",
    "        age_i_t_DF_sol_1.iloc[i,t] = age_i_t[i,t].varValue\n",
    "age_i_t_DF_sol_XX"
   ]
  },
  {
   "cell_type": "code",
   "execution_count": null,
   "metadata": {
    "collapsed": true
   },
   "outputs": [],
   "source": [
    "# https://github.com/skoblov-lab/genetic\n",
    "# https://github.com/remiomosowon/pyeasyga\n",
    "# http://www.gurobi.com/documentation/7.5/examples/portfolio_py.html#subsubsection:portfolio.py\n",
    "# http://www.gurobi.com/documentation/7.5/examples/workforce5_py.html#subsubsection:workforce5.py\n",
    "# https://www.geeksforgeeks.org/knapsack-problem/\n",
    "# https://developers.google.com/optimization/scheduling/job_shop"
   ]
  },
  {
   "cell_type": "code",
   "execution_count": null,
   "metadata": {
    "collapsed": true
   },
   "outputs": [],
   "source": []
  }
 ],
 "metadata": {
  "kernelspec": {
   "display_name": "Python 3",
   "language": "python",
   "name": "python3"
  },
  "language_info": {
   "codemirror_mode": {
    "name": "ipython",
    "version": 3
   },
   "file_extension": ".py",
   "mimetype": "text/x-python",
   "name": "python",
   "nbconvert_exporter": "python",
   "pygments_lexer": "ipython3",
   "version": "3.5.4"
  }
 },
 "nbformat": 4,
 "nbformat_minor": 2
}
