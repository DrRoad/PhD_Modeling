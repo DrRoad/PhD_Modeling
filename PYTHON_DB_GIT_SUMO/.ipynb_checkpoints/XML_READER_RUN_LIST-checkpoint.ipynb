{
 "cells": [
  {
   "cell_type": "code",
   "execution_count": 26,
   "metadata": {
    "collapsed": true
   },
   "outputs": [],
   "source": [
    " #open('/Dropbox/Phd_R_Ms/PhD_Modeling_DB_GIT/Belmont_AOI_git/Belmont_AOI-runFILES/Run_list_FILE.txt') #open(caliXMLTESTPATH,'r')\n",
    "XMLdataRL = open(Run_list_TXT).readlines()\n",
    "# Run_list_TXT.close()"
   ]
  },
  {
   "cell_type": "code",
   "execution_count": 7,
   "metadata": {},
   "outputs": [],
   "source": [
    "def add_new_run_to_Run_list_FILE(month_t,day_t):\n",
    "    Run_list_TXT = '/Dropbox/Phd_R_Ms/PhD_Modeling_DB_GIT/Belmont_AOI_git/Belmont_AOI-runFILES/Run_list_FILE.txt'\n",
    "    with open(Run_list_TXT,'a') as f:\n",
    "        TXTrunlistLines = open(Run_list_TXT).readlines()\n",
    "        run_LIST = list()\n",
    "        for line in range(len(TXTrunlistLines)):\n",
    "            if '00' in TXTrunlistLines[line]:\n",
    "                run_LIST.append(int(TXTrunlistLines[line]))\n",
    "            else:\n",
    "                next\n",
    "        print(max(run_LIST))\n",
    "        new_run_str = '\\n00'+str(max(run_LIST)+1)+\"_\"+month_t+\"_\"+day_t\n",
    "        f.write(new_run_str)\n",
    "    print(new_run_str)\n",
    "    return new_run_str"
   ]
  },
  {
   "cell_type": "code",
   "execution_count": 8,
   "metadata": {},
   "outputs": [
    {
     "name": "stdout",
     "output_type": "stream",
     "text": [
      "38\n",
      "\n",
      "0039January_Monday\n"
     ]
    },
    {
     "data": {
      "text/plain": [
       "'\\n0039January_Monday'"
      ]
     },
     "execution_count": 8,
     "metadata": {},
     "output_type": "execute_result"
    }
   ],
   "source": [
    "month_t = 'January'\n",
    "day_t = 'Monday'\n",
    "add_new_run_to_Run_list_FILE(month_t,day_t)"
   ]
  },
  {
   "cell_type": "code",
   "execution_count": 31,
   "metadata": {},
   "outputs": [
    {
     "name": "stdout",
     "output_type": "stream",
     "text": [
      "31\n"
     ]
    }
   ],
   "source": [
    "run_LIST = list()\n",
    "for line in range(len(XMLdataRL)):\n",
    "    run_LIST.append(int(XMLdataRL[line]))\n",
    "print(max(run_LIST))\n"
   ]
  },
  {
   "cell_type": "code",
   "execution_count": null,
   "metadata": {
    "collapsed": true
   },
   "outputs": [],
   "source": [
    "XML_sumocfg = open('/Dropbox/Phd_R_Ms/PhD_Modeling_DB_GIT/Belmont_AOI_git/Belmont_AOI-runFILES/Run_list_FILE.txt','r') #open(caliXMLTESTPATH,'r')\n",
    "XMLdataRL = XML_sumocfg.readlines()\n",
    "XML_sumocfg.close()\n",
    "# <output-prefix value=\"BMAOI-RUN_0_0031-\"/>"
   ]
  }
 ],
 "metadata": {
  "kernelspec": {
   "display_name": "Python 3",
   "language": "python",
   "name": "python3"
  },
  "language_info": {
   "codemirror_mode": {
    "name": "ipython",
    "version": 3
   },
   "file_extension": ".py",
   "mimetype": "text/x-python",
   "name": "python",
   "nbconvert_exporter": "python",
   "pygments_lexer": "ipython3",
   "version": "3.5.4"
  }
 },
 "nbformat": 4,
 "nbformat_minor": 2
}
