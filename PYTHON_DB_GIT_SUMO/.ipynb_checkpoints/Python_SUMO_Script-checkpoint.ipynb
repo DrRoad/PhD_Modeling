{
 "cells": [
  {
   "cell_type": "code",
   "execution_count": null,
   "metadata": {
    "collapsed": true
   },
   "outputs": [],
   "source": [
    "import numpy as np\n",
    "import traci\n",
    "import traci.constants as tc\n",
    "import re\n",
    "import time\n",
    "import sumolib\n",
    "# import cProfile, pstats , io\n",
    "import pandas as pd\n",
    "\n",
    "import openpyxl as OPENxlsx\n"
   ]
  },
  {
   "cell_type": "code",
   "execution_count": null,
   "metadata": {},
   "outputs": [],
   "source": [
    "import sumoPython_git_A as SP"
   ]
  },
  {
   "cell_type": "code",
   "execution_count": null,
   "metadata": {
    "collapsed": true
   },
   "outputs": [],
   "source": [
    "pd.set_option('display.max_rows', 5)"
   ]
  },
  {
   "cell_type": "code",
   "execution_count": null,
   "metadata": {},
   "outputs": [],
   "source": [
    "PERIOD_VARRIABLE = SP.Initializer.inputPeriod_asNumber(new=1)\n",
    "fileINFO = SP.RunFileInfo.GetSimulationRunPrefix(display=0)\n",
    "SUMO_outPUT_PREFIX = SP.RunFileInfo.GetSimulationRunPrefix(display=0)[0]\n",
    "SUMO_Traci_PORT = int(SP.RunFileInfo.GetSimulationRunPrefix(display=0)[1])\n",
    "SP.Initializer.startSUMO(SUMO_Traci_PORT,useCase=str(1))\n",
    "    # Ask for Steps to take or Time to run until\n",
    "typeRun = SP.Runner.runtypeAsker()\n",
    "Start_Time = int(traci.simulation.getCurrentTime()/1000) #SP.Initializer.runSUMO(SUMO_Traci_PORT,useCase=\"Continue\")[0]\n",
    "# estimated_Run_Time = input(\"...\\n\\n\\nHow long will you run this file for... \")\n",
    "# if estimated_Run_Time == '':\n",
    "estimated_Run_Time = 90000\n",
    "    # print(\"You did not specify how long you wanted to run until so the default value = \", estimated_Run_Time)\n",
    "steps_TT = int(estimated_Run_Time)"
   ]
  },
  {
   "cell_type": "code",
   "execution_count": null,
   "metadata": {},
   "outputs": [],
   "source": [
    "# Initalize Files\n",
    "print(\"======\",SUMO_outPUT_PREFIX,\"======\")\n",
    "edgeLISTa = SP.Edge.create_Edge_Instances()\n",
    "wb = SP.Network_Period.load_n_create_Excel_NetworkFile(SUMO_outPUT_PREFIX,PERIOD_VARRIABLE,steps_TT,PATH=None)[0]\n",
    "periodNamesLISTa = SP.Network_Period.load_n_create_Excel_NetworkFile(SUMO_outPUT_PREFIX,PERIOD_VARRIABLE,steps_TT,display=0)[1]\n",
    "\n"
   ]
  },
  {
   "cell_type": "code",
   "execution_count": null,
   "metadata": {
    "scrolled": false
   },
   "outputs": [],
   "source": [
    "# Take a step(s)\n",
    "SP.Runner.releaseTraci(Start_Time,typeRun,edgeLISTa,PERIOD_VARRIABLE,SUMO_outPUT_PREFIX,periodNamesLISTa,steps_TT)\n",
    "\n",
    "continue01 = 0\n",
    "continue01 = str(input(\"Press x to exit\"))\n",
    "while continue01 != \"x\":\n",
    "    SP.Runner.releaseTraci(Start_Time,typeRun,edgeLISTa,PERIOD_VARRIABLE,SUMO_outPUT_PREFIX,periodNamesLISTa,steps_TT)\n",
    "    continue01 = str(input(\"Press x to exit\"))\n",
    "    break"
   ]
  },
  {
   "cell_type": "code",
   "execution_count": null,
   "metadata": {
    "collapsed": true
   },
   "outputs": [],
   "source": []
  },
  {
   "cell_type": "code",
   "execution_count": null,
   "metadata": {
    "collapsed": true
   },
   "outputs": [],
   "source": [
    "traci.close()\n"
   ]
  },
  {
   "cell_type": "markdown",
   "metadata": {
    "collapsed": true
   },
   "source": [
    "Look for \n",
    "Storage(a\n",
    "C:\\Sumo\\runs\\BelmontC_AOI_main\\BelmontC_AOI-outPUT\\BMAOI_C-EmissionFILES\\Emissions_output.xml"
   ]
  },
  {
   "cell_type": "code",
   "execution_count": null,
   "metadata": {
    "collapsed": true
   },
   "outputs": [],
   "source": []
  },
  {
   "cell_type": "code",
   "execution_count": null,
   "metadata": {
    "collapsed": true
   },
   "outputs": [],
   "source": [
    "logger_TEMPDF.loc[1,'ESAL'] = edgeLISTa[1].ESAL_TOT\n",
    "Condition_RTi = 100.00 - (edgeLISTa[1].ESAL_TOT) * 0.01339\n",
    "logger_TEMPDF.loc[1,'Condition_Index'] = Condition_RTi\n",
    "# maxSpeedo = logger_TEMPDF.loc[logger_TEMPDF['Belmont_AVEDic_ID'].str.contains(Belmont_AVEDic[n]),'Original_Max_Speed']\n",
    "maxSpeedo = edgeLISTa[1].originalMAXSPEED\n",
    "maxSpeed_i =(maxSpeedo - (maxSpeedo**((100-Condition_RTi)/96))+4.5675)\n",
    "edgeLISTa[1].Dynamic_Max_Speed = maxSpeed_i"
   ]
  },
  {
   "cell_type": "code",
   "execution_count": null,
   "metadata": {
    "collapsed": true
   },
   "outputs": [],
   "source": [
    "maxSpeed_i"
   ]
  },
  {
   "cell_type": "code",
   "execution_count": null,
   "metadata": {
    "collapsed": true
   },
   "outputs": [],
   "source": [
    "edgeLISTa[1].__dict__"
   ]
  },
  {
   "cell_type": "code",
   "execution_count": null,
   "metadata": {
    "collapsed": true
   },
   "outputs": [],
   "source": [
    "PATH_to_Save_to = \"/Sumo/runs/BelmontC_AOI_main/BelmontC_AOI-outPUT/BMAOI_C-DataFrames/BMAOI_edgeCasheFILES/Network_\" +SUMO_outPUT_PREFIX + \"_PeriodBook.xlsx\"\n",
    "logger_TEMPDF =pd.read_excel(PATH_to_Save_to)\n",
    "logger_TEMPDF.PCR[1]\n"
   ]
  },
  {
   "cell_type": "code",
   "execution_count": null,
   "metadata": {
    "collapsed": true
   },
   "outputs": [],
   "source": [
    "http://onlinepubs.trb.org/Onlinepubs/trr/1989/1215/1215-001.pdf\n",
    "#       PCR(t) = 90 - a * [exp(Age^b)-1] * log(ESAL/SNC^c) a = 0.6349; b = 0.4203; and c = 2.7062"
   ]
  },
  {
   "cell_type": "code",
   "execution_count": null,
   "metadata": {
    "collapsed": true
   },
   "outputs": [],
   "source": [
    "PATH_Network_DF_Period_0t00_TEMPLATExlsx = '/GitHub/PhD_Modeling/Belmont_AOI_git/Belmont_AOI-runFILES/Network_DF_Period_0t00_TEMPLATE.xlsx'\n",
    "PATH_Network_DF_Period_0t00_TEMPLATExlsx\n",
    "logger_TEMPDF =pd.read_excel(PATH_Network_DF_Period_0t00_TEMPLATExlsx)\n",
    "print(logger_TEMPDF.columns,\"\\nlogger_TEMPDF.AGE_0 = \",logger_TEMPDF.AGE_0)\n"
   ]
  },
  {
   "cell_type": "code",
   "execution_count": null,
   "metadata": {
    "collapsed": true
   },
   "outputs": [],
   "source": [
    "edgeLISTa[1].Dynamic_Max_Speed\n"
   ]
  },
  {
   "cell_type": "code",
   "execution_count": null,
   "metadata": {
    "collapsed": true
   },
   "outputs": [],
   "source": [
    "logger_TEMPDF.loc[logger_TEMPDF['Belmont_AVEDic_ID'].str.contains(edgeLISTa[1].edgeID),'Dynamic_Max_Speed'] #== edgeLISTa[1].Dynamic_Max_Speed\n",
    "\n"
   ]
  },
  {
   "cell_type": "code",
   "execution_count": null,
   "metadata": {
    "collapsed": true
   },
   "outputs": [],
   "source": [
    "age_t = 4\n",
    "ESAL = 2\n",
    "SNC=2"
   ]
  },
  {
   "cell_type": "code",
   "execution_count": null,
   "metadata": {
    "collapsed": true
   },
   "outputs": [],
   "source": [
    "PCCR = 90-0.6349 * (np.exp(age_t**0.4203)-1) * np.log(ESAL/(SNC**2.7062))\n",
    "IRRI = 52 + 8.1 * ()"
   ]
  },
  {
   "cell_type": "code",
   "execution_count": null,
   "metadata": {
    "collapsed": true
   },
   "outputs": [],
   "source": [
    "age_now = (self.AGE_0+self.AGE_t/31556926)"
   ]
  },
  {
   "cell_type": "code",
   "execution_count": null,
   "metadata": {
    "collapsed": true,
    "scrolled": true
   },
   "outputs": [],
   "source": []
  },
  {
   "cell_type": "code",
   "execution_count": null,
   "metadata": {
    "collapsed": true
   },
   "outputs": [],
   "source": [
    "def set_some_more_try_to_integrate(edgeLISTa,logger_TEMPDF):\n",
    "    for n in range(len(edgeLISTa)):\n",
    "        edgeLISTa[n].AGE_0 = logger_TEMPDF.loc[n,'AGE_0']\n",
    "        edgeLISTa[n].ADDT_rand = logger_TEMPDF.loc[n,'ADTT_rand']\n",
    "        edgeLISTa[n].ASS_CALI = logger_TEMPDF.loc[n,'ASS_CALI']\n",
    "        edgeLISTa[n].SNC = logger_TEMPDF.loc[n,'SNC']\n",
    "        edgeLISTa[n].layer_1_dpth_in = logger_TEMPDF.loc[n,'layer_1_dpth_in']\n",
    "        edgeLISTa[n].layer1_6in_35_50 = logger_TEMPDF.loc[n,'layer1_6in_35_50']\n",
    "        edgeLISTa[n].layer2_6in_10_25 = logger_TEMPDF.loc[n,'layer2_6in_10_25']\n",
    "        edgeLISTa[n].layer3_12in_5_17 = logger_TEMPDF.loc[n,'layer3_12in_5_17']\n",
    "        edgeLISTa[n].AADT_Calc = logger_TEMPDF.loc[n,'ADTT_rand']\n",
    "\n",
    "set_some_more_try_to_integrate(edgeLISTa,logger_TEMPDF)\n",
    "self.meanSpeed = int(traci.edge.getLastStepMeanSpeed(self.edgeID))\n",
    "self.PCR = 90-0.6349 * (np.exp((self.AGE_0+self.AGE_t/31556926)**0.4203)-1) * np.log(self.ESAL_TOT/((self.SNC)**2.7062)\n",
    "\n",
    "self.IRI = 52+8.1*((self.AGE_0+self.AGE_t/31556926))+0.0009*self.ADDT_Calc\n",
    "\n",
    "edgeLISTa[1].__dict__"
   ]
  }
 ],
 "metadata": {
  "kernelspec": {
   "display_name": "Python 3",
   "language": "python",
   "name": "python3"
  },
  "language_info": {
   "codemirror_mode": {
    "name": "ipython",
    "version": 3
   },
   "file_extension": ".py",
   "mimetype": "text/x-python",
   "name": "python",
   "nbconvert_exporter": "python",
   "pygments_lexer": "ipython3",
   "version": "3.5.4"
  }
 },
 "nbformat": 4,
 "nbformat_minor": 2
}
