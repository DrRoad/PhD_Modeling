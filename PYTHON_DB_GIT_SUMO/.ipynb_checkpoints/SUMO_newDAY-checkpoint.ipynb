{
 "cells": [
  {
   "cell_type": "markdown",
   "metadata": {},
   "source": [
    "# Last worked on 2/27/2018\n",
    "# The pupose of this script is to extract data from calibrator files and eventually replace it with new data "
   ]
  },
  {
   "cell_type": "code",
   "execution_count": null,
   "metadata": {
    "collapsed": true
   },
   "outputs": [],
   "source": [
    "import re"
   ]
  },
  {
   "cell_type": "code",
   "execution_count": null,
   "metadata": {
    "collapsed": true
   },
   "outputs": [],
   "source": [
    "    def GetSimulationRunPrefix(display):\n",
    "#         import re\n",
    "        global SUMO_outPUT_PREFIX\n",
    "        global SUMO_Traci_PORT\n",
    "        readfromPATH = '/Dropbox/Phd_R_Ms/PhD_Modeling_DB_GIT/Belmont_AOI_git/Belmont_AOI_toolBOX/Belmount_AOI-caliborators-DB-V6-SUMO31-15min_RAW.xml'\n",
    "        with open(readfromPATH) as f:\n",
    "        #open('/Dropbox/Phd_R_Ms/PhD_Modeling_DB_GIT/Belmont_AOI_git/Belmont_AOI-runFILES/BMAOI_TRACI_DB.sumocfg') as f:\n",
    "            termLIST = list()\n",
    "            termcounter = 0\n",
    "            for line in f:\n",
    "                # print(\"SUMO_outPUT_PREFIX = \",SUMO_outPUT_PREFIX)\n",
    "                # if SUMO_outPUT_PREFIX ==\"\":\n",
    "                if '<output-prefix value=\"' in line:\n",
    "                    print(line)\n",
    "                    SUMO_outPUT_PREFIX_LINE = line\n",
    "                    SUMO_outPUT_PREFIX = re.search('<output-prefix value=\"(.*)-(.*)-\"/>',SUMO_outPUT_PREFIX_LINE, re.IGNORECASE).group(2)\n",
    "                    termLIST.append(re.search('<output-prefix value=\"(.*)-(.*)-\"/>',SUMO_outPUT_PREFIX_LINE, re.IGNORECASE).group(2))\n",
    "                    SUMO_outPUT_PREFIX = termLIST[0]\n",
    "                    # print(\"\\nSUMO_outPUT_PREFIX = \",SUMO_outPUT_PREFIX,\"\\n\")\n",
    "                    termcounter +=1\n",
    "                    break\n",
    "            for line in f:\n",
    "                if '<remote-port value=' in line:\n",
    "                    SUMO_outPUT_Port_LINE = line\n",
    "                    SUMO_Traci_PORT = re.search('<remote-port value=\"(.*)\"/>',SUMO_outPUT_Port_LINE, re.IGNORECASE).group(1)\n",
    "                    termLIST.append(re.search('<remote-port value=\"(.*)\"/>',SUMO_outPUT_Port_LINE, re.IGNORECASE).group(1))\n",
    "        if display == 1:\n",
    "            print(\"\\nSUMO_outPUT_PREFIX = \", SUMO_outPUT_PREFIX,\"\\n\\SUMO_Traci_PORT = \", SUMO_Traci_PORT)\n",
    "\n",
    "        return SUMO_outPUT_PREFIX, SUMO_Traci_PORT#, print(\"\\nSUMO_outPUT_PREFIX = \", SUMO_outPUT_PREFIX,\"\\nSUMO_Traci_PORT = \", SUMO_Traci_PORT)"
   ]
  },
  {
   "cell_type": "code",
   "execution_count": 3,
   "metadata": {
    "collapsed": true
   },
   "outputs": [],
   "source": [
    "    def load_n_create_Excel_NetworkFile(SUMO_outPUT_PREFIX, PERIOD_VARRIABLE,steps_TT, display = None, PATH=None):\n",
    "        if display != 0:\n",
    "            print(\"Loading and creating Excel Network File\", \"SUMO_outPUT_PREFIX = \", SUMO_outPUT_PREFIX)\n",
    "        if PATH == None:\n",
    "            PATH_Network_DF_Period_0t00_TEMPLATExlsx = '/Dropbox/Phd_R_Ms/PhD_Modeling_DB_GIT/Belmont_AOI_git/Belmont_AOI-runFILES/Network_DF_Period_0t00_TEMPLATE.xlsx'\n",
    "            PATH_to_Save_to = \"/Dropbox/Phd_R_Ms/PhD_Modeling_DB_GIT/BMAOI_Dbox-DataFrames/Network_\" + SUMO_outPUT_PREFIX + \"_PeriodBook.xlsx\"\n",
    "            OLD_PATH_to_Save_to = \"/Sumo/runs/BelmontC_AOI_main/BelmontC_AOI-outPUT/BMAOI_C-DataFrames/BMAOI_edgeCasheFILES/Network_\" +SUMO_outPUT_PREFIX + \"_PeriodBook.xlsx\"\n",
    "        wb = OPENxlsx.Workbook()\n",
    "        full_Run_Time = 90000 #steps_TT\n",
    "        Network_DF_Period_0t00xlsx=pd.read_excel(PATH_Network_DF_Period_0t00_TEMPLATExlsx)\n",
    "        periodNamesLISTa = list()\n",
    "        for period in range(int(int(full_Run_Time)/PERIOD_VARRIABLE)):\n",
    "            periodNAME = \"Period_\"+str(((PERIOD_VARRIABLE)*(period))+1)+\"_to_\"+str((((PERIOD_VARRIABLE)*(period)+1)+PERIOD_VARRIABLE))\n",
    "            periodNamesLISTa.append(periodNAME)\n",
    "        # print(\"/n<><><periodNamesLISTa = \",periodNamesLISTa)\n",
    "        for i in range(0,len(periodNamesLISTa[:])):\n",
    "            # print(\"\\nwb.get_sheet_names()[0] = \",wb.get_sheet_names()[0])\n",
    "            ws = wb.create_sheet(title = periodNamesLISTa[i])\n",
    "        if wb.get_sheet_names()[0] == 'Sheet':\n",
    "            print(\"\\nwb.get_sheet_names()[0] = \",wb.get_sheet_names()[0])\n",
    "            delme = wb.get_sheet_by_name('Sheet')\n",
    "            print(\"\\nRemoving wb.get_sheet_names()[0] = \",wb.get_sheet_names()[0])\n",
    "            wb.remove_sheet(delme)\n",
    "            wb.save(filename = PATH_to_Save_to)\n",
    "        wb.save(filename = PATH_to_Save_to)\n",
    "        wb.close()\n",
    "        return wb, periodNamesLISTa "
   ]
  },
  {
   "cell_type": "code",
   "execution_count": 1,
   "metadata": {
    "collapsed": true
   },
   "outputs": [],
   "source": [
    "    def myWrite_to_excel(logger_TEMPDF,periodCounter,SUMO_outPUT_PREFIX,edgeLISTa):\n",
    "        # https://openpyxl.readthedocs.io/en/default/tutorial.html#data-storage   \n",
    "        # http://openpyxl.readthedocs.io/en/default/pandas.html#working-with-pandas-dataframes\n",
    "        ### TRY THIS http://pbpython.com/improve-pandas-excel-output.html and then this https://codereview.stackexchange.com/questions/180405/writing-excelsheet-from-python-dataframe\n",
    "        # from openpyxl import load_workbook\n",
    "        ## openpyxl.worksheet.Worksheet.cell() method from  \n",
    "        PATH_to_Save_to = \"/Dropbox/Phd_R_Ms/PhD_Modeling_DB_GIT/BMAOI_Dbox-DataFrames/Network_\" +SUMO_outPUT_PREFIX + \"_PeriodBook.xlsx\"\n",
    "        OLD_PATH_to_Save_to = \"/Sumo/runs/BelmontC_AOI_main/BelmontC_AOI-outPUT/BMAOI_C-DataFrames/BMAOI_edgeCasheFILES/Network_\" +SUMO_outPUT_PREFIX + \"_PeriodBook.xlsx\"\n",
    "        wb =  OPENxlsx.load_workbook(filename = PATH_to_Save_to)\n",
    "        periodCounter = int(round(periodCounter))\n",
    "        ws = wb[wb.get_sheet_names()[periodCounter-1]]\n",
    "        print(\"\\n[[[<><><>]]]\\nStarting myWrite_to_excel()\\n\\t PATH_to_Save_to: \",PATH_to_Save_to,\"\\n\\t Current Worksheet: \",ws,\"\\n\\n[[[<><><>]]]\")\n",
    "        wsROW = 0\n",
    "        for i in range(logger_TEMPDF.shape[0]):\n",
    "            wsROW +=1 \n",
    "            wsCOL =0\n",
    "            for j in range(logger_TEMPDF.shape[1]):\n",
    "                wsCOL +=1\n",
    "                if i == 1:\n",
    "                    ws.cell(row=wsROW, column=wsCOL, value=logger_TEMPDF.columns[j])\n",
    "                    if i == 1 and j == 1:\n",
    "                        print(\"\\t\\t\\t\\t<Writing Headers>\")\n",
    "                    ws.cell(row=wsROW+1, column=wsCOL, value=logger_TEMPDF.iloc[i,j])\n",
    "                else:\n",
    "                    ws.cell(row=wsROW+1, column=wsCOL, value=logger_TEMPDF.iloc[i,j])\n",
    "            if i == 7:\n",
    "                wsdf = pd.DataFrame(ws.values)\n",
    "                print(\"\\nPlease be true ... \", wsdf.iloc[7,6] == edgeLISTa[6].truckCount)\n",
    "                logger_TEMPDF.loc[logger_TEMPDF['Belmont_AVEDic_ID'].str.contains(edgeLISTa[6].edgeID),'Total_Trucks']\n",
    "        wsdf = pd.DataFrame(ws.values)\n",
    "        wb.save(PATH_to_Save_to)\n",
    "        print(\"\\n>>>Data written to:: wb[wb.get_sheet_names()[periodCounter-1]]= \",wb[wb.get_sheet_names()[periodCounter-1]],\"\\n\\t\\t\\t\\t\\t this should match ws: \",ws,\"\\n[[[[<<<<Next Period>>>>]]]]: \",wb.get_sheet_names()[periodCounter])\n",
    "        return wb\n",
    "    "
   ]
  },
  {
   "cell_type": "code",
   "execution_count": 2,
   "metadata": {
    "collapsed": true
   },
   "outputs": [],
   "source": [
    "    def fillOutworksheet(SUMO_outPUT_PREFIX,periodCounter,edgeLISTa):#,periodNamesLISTa):\n",
    "        #https://chrisalbon.com/python/data_wrangling/pandas_dataframe_load_xls/\n",
    "        #### BIG CONTRIBUTION PART\n",
    "        if periodCounter == 0:\n",
    "            return\n",
    "        # PATH_Network_DF_Period_0t00_TEMPLATExlsx = '/Dropbox/Phd_R_Ms/PhD_Modeling_DB_GIT/Belmont_AOI_git/Belmont_AOI-runFILES/Network_DF_Period_0t00_TEMPLATE.xlsx'\n",
    "        print(\"\\n\\n<><><periodCounter = \",int(round(periodCounter)))\n",
    "        periodCounter = int(round(periodCounter))#periodCounter = int(round(periodCounter)-1) # \"-1\" because we want to fill in the sheet from the perivious period.\n",
    "        logger_TEMPDF =pd.read_excel(PATH_Network_DF_Period_0t00_TEMPLATExlsx) #creates a template\n",
    "        # logger_TEMPDF =pd.read_excel(SP.PATH_Network_DF_Period_0t00_TEMPLATExlsx)\n",
    "        counter = 0\n",
    "        #for edge_i in Belmont_Ave[:]:\n",
    "        for n in range(len(edgeLISTa)): ## I need Belmont_AVEDic[n] == edgeLISTa[n].edgeID == logger_TEMPDF.loc[n,'Belmont_AVEDic_ID']. 1-8-18 saved over tempalte with for loop range(len(edgeLISTa)): newTemplate.loc[i,'Belmont_AVEDic_ID'] = edgeLISTa[i].edgeID \n",
    "            logger_TEMPDF.loc[n,'Total_Vehicles'] = (edgeLISTa[n].truckCount + edgeLISTa[n].carCount)\n",
    "            logger_TEMPDF.loc[n,'Total_Trucks'] = edgeLISTa[n].truckCount\n",
    "            ## logger_TEMPDF.loc[logger_TEMPDF['Belmont_AVEDic_ID'].str.contains(Belmont_AVEDic[n]),'Total_Trucks'] = edgeLISTa[n].truckCount\n",
    "            logger_TEMPDF.loc[n,'ESAL_TOT'] = edgeLISTa[n].ESAL_TOT\n",
    "            Condition_RTi = 100.00 - (edgeLISTa[n].ESAL_TOT) * 0.01339\n",
    "            logger_TEMPDF.loc[n,'Condition_Index'] = Condition_RTi\n",
    "            # maxSpeedo = logger_TEMPDF.loc[logger_TEMPDF['Belmont_AVEDic_ID'].str.contains(Belmont_AVEDic[n]),'Original_Max_Speed']\n",
    "            maxSpeedo = edgeLISTa[n].originalMAXSPEED\n",
    "            maxSpeed_i =(maxSpeedo - (maxSpeedo**((100-Condition_RTi)/96))+4.5675) #Units m/s\n",
    "            logger_TEMPDF.loc[n,'Dynamic_Max_Speed'] = maxSpeed_i\n",
    "            edgeLISTa[n].Dynamic_Max_Speed = maxSpeed_i\n",
    "        ## Needed for metrics\n",
    "            edgeLISTa[n].meanSpeed = int(traci.edge.getLastStepMeanSpeed(edgeLISTa[n].edgeID))\n",
    "            edgeLISTa[n].PCR = 90-0.6349 * (np.exp((edgeLISTa[n].AGE_0+edgeLISTa[n].AGE_t/31556926)**0.4203)-1) * np.log(edgeLISTa[n].ESAL_TOT/((edgeLISTa[n].SNC)**2.7062))\n",
    "            edgeLISTa[n].IRI = 52 + 8.1 * ((int(edgeLISTa[n].AGE_t)/31556926))+0.0009*edgeLISTa[n].ADDT_Calc\n",
    "            edgeLISTa[n].AVE_QLTH = 0\n",
    "            edgeLISTa[n].OCPNY = traci.edge.getLastStepOccupancy(edgeLISTa[n].edgeID)\n",
    "            # ##Validating writing below here\n",
    "            # if n == 4:\n",
    "                # print(\"\\n[<<[<[<>]>]>>]\\nedgeLISTa[4].truckCount = \",edgeLISTa[4].truckCount,\"<><>\\nlogger_TEMPDF.loc[logger_TEMPDF['Belmont_AVEDic_ID'].str.contains(edgeLISTa[n].edgeID),'Total_Trucks']= \",logger_TEMPDF.loc[logger_TEMPDF['Belmont_AVEDic_ID'].str.contains(edgeLISTa[n].edgeID),'Total_Trucks'],\"\\n[<<[<[<>]>]>>]\\n\")\n",
    "            ## Do I need to reset the logger? Will it slow things down towards the end? \n",
    "            if len(edgeLISTa[n].vehidLIST) > 100:\n",
    "                if n == 48:\n",
    "                    memoryUse = py.memory_info()[0]/2.**30  # memory use in GB...I think\n",
    "                    print('memory use:', memoryUse)\n",
    "                    edgeLISTa[n]._resetLOGGER(edgeLISTa)\n",
    "                    memoryUse = py.memory_info()[0]/2.**30  # memory use in GB...I think\n",
    "                    print('memory use:', memoryUse)\n",
    "                edgeLISTa[n]._resetLOGGER(edgeLISTa)\n",
    "\n",
    "        ### NOW SAVE THIS DATAFRAME [[logger_TEMPDF]] TO THE SHEET THAT IT CAME FROM IN THE WORKBOOKER\n",
    "        Network_Period.myWrite_to_excel(logger_TEMPDF,periodCounter,SUMO_outPUT_PREFIX,edgeLISTa)\n",
    "        ### Change max speed of edge based on roadway damage\n",
    "        Edge.setNewMaxSpeed(edgeLISTa,logger_TEMPDF)\n",
    "        Edge.getMaxSpeed(edgeLISTa,logger_TEMPDF)\n",
    "        print(\"Testing edgeLISTa[48].__dict__ ...\\n\",edgeLISTa[48].__dict__,\"\\n======\",SUMO_outPUT_PREFIX,\"======\")\n",
    "        print(\"\\t\\t\\t\\t======\",SUMO_outPUT_PREFIX,\"======\")"
   ]
  }
 ],
 "metadata": {
  "kernelspec": {
   "display_name": "Python 3",
   "language": "python",
   "name": "python3"
  },
  "language_info": {
   "codemirror_mode": {
    "name": "ipython",
    "version": 3
   },
   "file_extension": ".py",
   "mimetype": "text/x-python",
   "name": "python",
   "nbconvert_exporter": "python",
   "pygments_lexer": "ipython3",
   "version": "3.5.4"
  }
 },
 "nbformat": 4,
 "nbformat_minor": 2
}
