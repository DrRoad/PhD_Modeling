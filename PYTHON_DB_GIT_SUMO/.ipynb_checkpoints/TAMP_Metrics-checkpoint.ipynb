{
 "cells": [
  {
   "cell_type": "code",
   "execution_count": null,
   "metadata": {
    "collapsed": true
   },
   "outputs": [],
   "source": [
    "import pandas as pd\n",
    "import openpyxl as OPENxlsx\n",
    "import numpy as np\n",
    "pd.set_option('display.max_rows', 99)"
   ]
  },
  {
   "cell_type": "code",
   "execution_count": null,
   "metadata": {
    "collapsed": true
   },
   "outputs": [],
   "source": [
    "PATH_to_Save_to = '/Dropbox/Phd_R_Ms/PhD_Modeling_DB_GIT/BMAOI_Dbox-DataFrames/Network_RUN_0_0027cjn_PeriodBook.xlsx'\n",
    "wb =  OPENxlsx.load_workbook(filename = PATH_to_Save_to)"
   ]
  },
  {
   "cell_type": "code",
   "execution_count": null,
   "metadata": {
    "collapsed": true
   },
   "outputs": [],
   "source": [
    "# Belmont_Ave_OLD=(\"-12150712#3\",\"-12150712#4\",\"-12150712#6\",\"-12327906#0\",\"-196358954#0\",\"-196358954#3\",\"-196358956#2\",\"-387423966\",\"-423956981\",\"-423956982\",\"-423965484\",\"-423967058#0\",\"-423967058#1\",\"-423967352\",\"-423967353\",\"-423967354\",\"-423967355\",\"-423967356\",\"-423967357\",\"-423967358#1\",\"-423967358#2\",\"-423967359#0\",\"-423967359#1\",\"-424803245\",\"-424803247#1\",\"-424824619\",\"-424824620\",\"-424824621\",\"-424978161\",\"-424978642.0\",\"-424978642.170\",\"-424978643\",\"-424978647#1\",\"-448887867\",\"-448887868\",\"-448887869\",\"-448887870#1\",\"-448887871#0\",\"-448887871#2\",\"-49940170#0\",\"12150712#3\",\"12150712#4\",\"12150712#5\",\"12327906#0\",\"12327906#1\",\"196358954#0\",\"196358954#1\",\"196358956#0\",\"387423966\",\"423956978\",\"423956979\",\"423956980\",\"423965484\",\"423967058#1\",\"423967352\",\"423967353\",\"423967354\",\"423967355\",\"423967356\",\"423967358#0\",\"423967358#2\",\"423967359#0\",\"423967359#1\",\"424803245\",\"424803247#0\",\"424824619\",\"424824620\",\"424824621\",\"424978639.0\",\"424978639.102\",\"424978640\",\"424978643\",\"424978644\",\"424978646\",\"448887867\",\"448887868\",\"448887869\",\"448887870#0\",\"448887871#0\",\"448887871#1\")\n",
    "Belmont_Ave=(\"-12150712#4\",\"-12150712#6\",\"-12327906#0\",\"-196358954#0\",\"-196358954#3\",\"-196358956#2\",\"-387423966\",\"-423956981\",\"-423956982\",\"-423965484\",\"-423967058#0\",\"-423967058#1\",\"-423967352\",\"-423967353\",\"-423967354\",\"-423967355\",\"-423967356\",\"-423967357\",\"-423967358#1\",\"-423967358#2\",\"-423967359#0\",\"-423967359#1\",\"-424803245\",\"-424803247#1\",\"-424824619\",\"-424824620\",\"-424824621\",\"-424978161\",\"-424978642.0\",\"-424978642.170\",\"-424978643\",\"-424978647#1\",\"-448887867\",\"-448887868\",\"-448887869\",\"-448887870#1\",\"-448887871#0\",\"-448887871#2\",\"-49940170#0\",\"12150712#3\",\"12150712#4\",\"12150712#5\",\"12327906#0\",\"12327906#1\",\"196358954#0\",\"196358954#1\",\"196358956#0\",\"387423966\",\"423956978\",\"423956979\",\"423956980\",\"423965484\",\"423967058#1\",\"423967352\",\"423967353\",\"423967354\",\"423967355\",\"423967356\",\"423967358#0\",\"423967358#2\",\"423967359#0\",\"423967359#1\",\"424803245\",\"424803247#0\",\"424824619\",\"424824620\",\"424824621\",\"424978639.0\",\"424978639.102\",\"424978640\",\"424978643\",\"424978644\",\"424978646\",\"448887867\",\"448887868\",\"448887869\",\"448887870#0\",\"448887871#0\",\"448887871#1\")\n",
    "Belmont_AVEDic ={0: '-12150712#3',1: '-12150712#4',2: '-12150712#6',3: '-12327906#0',4: '-196358954#0',5: '-196358954#3',6: '-196358956#2',7: '-387423966',8: '-423956981',9: '-423956982',10: '-423965484',11: '-423967058#0',12: '-423967058#1',13: '-423967352',14: '-423967353',15: '-423967354',16: '-423967355',17: '-423967356',18: '-423967357',19: '-423967358#1',20: '-423967358#2',21: '-423967359#0',22: '-423967359#1',23: '-424803245',24: '-424803247#1',25: '-424824619',26: '-424824620',27: '-424824621',28: '-424978161',29: '-424978642.0',30: '-424978642.170',31: '-424978643',32: '-424978647#1',33: '-448887867',34: '-448887868',35: '-448887869',36: '-448887870#1',37: '-448887871#0',38: '-448887871#2',39: '-49940170#0',40: '12150712#3',41: '12150712#4',42: '12150712#5',43: '12327906#0',44: '12327906#1',45: '196358954#0',46: '196358954#1',47: '196358956#0',48: '387423966',49: '423956978',50: '423956979',51: '423956980',52: '423965484',53: '423967058#1',54: '423967352',55: '423967353',56: '423967354',57: '423967355',58: '423967356',59: '423967358#0',60: '423967358#2',61: '423967359#0',62: '423967359#1',63: '424803245',64: '424803247#0',65: '424824619',66: '424824620',67: '424824621',68: '424978639.0',69: '424978639.102',70: '424978640',71: '424978643',72: '424978644',73: '424978646',74: '448887867',75: '448887868',76: '448887869',77: '448887870#0',78: '448887871#0',79: '448887871#1'}"
   ]
  },
  {
   "cell_type": "code",
   "execution_count": null,
   "metadata": {},
   "outputs": [],
   "source": [
    "Belmont_AVEDic[0]"
   ]
  },
  {
   "cell_type": "code",
   "execution_count": null,
   "metadata": {},
   "outputs": [],
   "source": [
    "worksheet_LIST = wb.get_sheet_names()\n",
    "# print(worksheet_LIST,len(worksheet_LIST),len(Belmont_Ave))\n",
    "changein_ESAL_DF = pd.DataFrame(np.zeros((len(Belmont_Ave),len(worksheet_LIST))), index=Belmont_Ave, columns=worksheet_LIST)\n",
    "# changein_ESAL"
   ]
  },
  {
   "cell_type": "code",
   "execution_count": null,
   "metadata": {},
   "outputs": [],
   "source": [
    "wb[worksheet_LIST[0]].cell(row=42,column=9).value\n",
    "# Belmont_AVEDic[row]"
   ]
  },
  {
   "cell_type": "code",
   "execution_count": null,
   "metadata": {},
   "outputs": [],
   "source": [
    "changein_ESAL_DF.index"
   ]
  },
  {
   "cell_type": "code",
   "execution_count": null,
   "metadata": {},
   "outputs": [],
   "source": [
    "# print(wb[worksheet_LIST[1]].cell(row=3, column=9).value)\n",
    "rowes=1\n",
    "rowes2=4\n",
    "coles=0\n",
    "Belmont_AVEDic[rowes], worksheet_LIST[coles]\n",
    "# changein_ESAL_DF.iloc[]\n",
    "# changein_ESAL_DF.loc[Belmont_AVEDic[rowes],worksheet_LIST[coles]]\n",
    "print(wb[worksheet_LIST[int(coles+1)]].cell(row=rowes2, column=9).value -wb[worksheet_LIST[coles]].cell(row=rowes2, column=9).value)\n",
    "print(wb[worksheet_LIST[coles]].cell(row=rowes2, column=9).value)"
   ]
  },
  {
   "cell_type": "code",
   "execution_count": null,
   "metadata": {},
   "outputs": [],
   "source": [
    "rowes=0\n",
    "rowes2=42\n",
    "coles=0\n",
    "changein_ESAL_DF.loc[Belmont_AVEDic[rowes],worksheet_LIST[coles]]\n",
    "wb[worksheet_LIST[coles]].cell(row=rowes2, column=9).value"
   ]
  },
  {
   "cell_type": "code",
   "execution_count": null,
   "metadata": {},
   "outputs": [],
   "source": [
    "(wb[worksheet_LIST[int(coles+1)]].cell(row=rowes2, column=9).value -wb[worksheet_LIST[coles]].cell(row=rowes2, column=9).value)"
   ]
  },
  {
   "cell_type": "code",
   "execution_count": null,
   "metadata": {},
   "outputs": [],
   "source": [
    "rowsDF = changein_ESAL_DF.shape[0]\n",
    "colsDF = changein_ESAL_DF.shape[1]\n",
    "\n",
    "# for ws in range(len(worksheet_LIST)):\n",
    "for coles in range(colsDF):\n",
    "    for rowes in range(rowsDF):\n",
    "        if coles == 0:\n",
    "#             changein_ESAL_DF.loc[Belmont_AVEDic[int(rowes)-1],worksheet_LIST[coles]] = wb[worksheet_LIST[1]].cell(row=rowes, column=9).value\n",
    "            for rowes2 in range(1,2+rowsDF):\n",
    "                if wb[worksheet_LIST[coles]].cell(row=rowes2, column=1).value == Belmont_AVEDic[int(rowes)]:\n",
    "                    changein_ESAL_DF.loc[Belmont_AVEDic[rowes],worksheet_LIST[coles]] = wb[worksheet_LIST[coles]].cell(row=rowes2, column=9).value\n",
    "                    print(rowes,\"; \",rowes2,Belmont_AVEDic[int(rowes)],\" = \",wb[worksheet_LIST[0]].cell(row=rowes2, column=9).value)\n",
    "#         else:\n",
    "#             for rowes2 in range(1,1+rowsDF):\n",
    "#                 if wb[worksheet_LIST[0]].cell(row=rowes2, column=1).value == Belmont_AVEDic[int(rowes)]:\n",
    "#                     print(\"Searching for \", Belmont_AVEDic[int(rowes)] )\n",
    "#                     changein_ESAL_DF.iloc[rowes,coles] = (wb[worksheet_LIST[int(coles+1)]].cell(row=rowes2, column=9).value -wb[worksheet_LIST[coles]].cell(row=rowes2, column=9).value)"
   ]
  },
  {
   "cell_type": "code",
   "execution_count": null,
   "metadata": {},
   "outputs": [],
   "source": [
    "changein_ESAL_DF"
   ]
  }
 ],
 "metadata": {
  "kernelspec": {
   "display_name": "Python 3",
   "language": "python",
   "name": "python3"
  },
  "language_info": {
   "codemirror_mode": {
    "name": "ipython",
    "version": 3
   },
   "file_extension": ".py",
   "mimetype": "text/x-python",
   "name": "python",
   "nbconvert_exporter": "python",
   "pygments_lexer": "ipython3",
   "version": "3.5.4"
  }
 },
 "nbformat": 4,
 "nbformat_minor": 2
}
