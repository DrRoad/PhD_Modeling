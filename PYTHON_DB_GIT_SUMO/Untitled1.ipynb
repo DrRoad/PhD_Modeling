{
 "cells": [
  {
   "cell_type": "code",
   "execution_count": 1,
   "metadata": {},
   "outputs": [
    {
     "name": "stdout",
     "output_type": "stream",
     "text": [
      "Your new sumoPython_git_A has been loaded!\n"
     ]
    }
   ],
   "source": [
    "import numpy as np\n",
    "import traci\n",
    "import traci.constants as tc\n",
    "import re\n",
    "import time\n",
    "import sumolib\n",
    "# import cProfile, pstats , io\n",
    "import pandas as pd\n",
    "\n",
    "import openpyxl as OPENxlsx\n",
    "import sumoPython_git_A as SP\n",
    "\n",
    "    def startSUMO(SUMO_Traci_PORT,useCase=None):\n",
    "        sumoCmd #= [sumoBinary, \"-c\", configPATH, \"--start\"]\n",
    "        sumoGUICmd #= [sumoGUIBinary, \"-c\", configPATH, \"--start\"]\n",
    "        portTouse = str(SUMO_Traci_PORT)\n",
    "        # global Start_Time\n",
    "        # while rideAgain == 1:\n",
    "            #print(\"useCase =\",useCase)\n",
    "        if useCase == None:\n",
    "           print(\"\\t\\t\\t\\t\\t\\t###STARTING####\")\n",
    "           useCase = input(\"\\n\\tPress 1 for a new Run:  \\n\") #\\nPress Anything to continue...\n",
    "        if useCase == \"1\":\n",
    "            GUI_01 = input(\"Press Zero to use GUI? (0)\\n\")\n",
    "            inputPort = input(\"Confirm with: BMAOI-TRACI.sumocfg .. port in File: ..\"+ str(SUMO_Traci_PORT)+\"\\nPlease select a port...\\t\") # \n",
    "            if inputPort == '':\n",
    "                portTouse = int(SUMO_Traci_PORT)\n",
    "            else:\n",
    "                portTouse = inputPort\n",
    "            print(\"\\n\\t\\tTrying port ..  \",portTouse,\"\\n\\n\")\n",
    "            if str(GUI_01) != \"0\":\n",
    "                traci.start(sumoCmd,int(portTouse))\n",
    "            else:\n",
    "                traci.start(sumoGUICmd,int(portTouse))\n",
    "            traci.simulationStep()\n",
    "            Start_Time = int(traci.simulation.getCurrentTime()/1000)\n",
    "            #useCase == \"Continue\"\n",
    "        elif useCase == \"Continue\":\n",
    "            print(\"\\t\\t\\t\\t   !!!!!!!!!!!!!!CONTINUING!!!!!!!!!!!!!\\t\\t\\t\")\n",
    "            typeRun = \"4\"\n",
    "            Start_Time = int(traci.simulation.getCurrentTime()/1000)\n",
    "        elif useCase == \"x\":\n",
    "            PC.condition.DisplayFiles()\n",
    "            traci.close()\n",
    "        print(\"\\nuseCase = \",useCase)\n",
    "        return Start_Time, portTouse, useCase"
   ]
  },
  {
   "cell_type": "code",
   "execution_count": 5,
   "metadata": {},
   "outputs": [],
   "source": [
    "configPATH = \"C:/Dropbox/Phd_R_Ms/PhD_Modeling_DB_GIT/Belmont_AOI_git/Belmont_AOI-runFILES/BMAOI_TRACI_DB.sumocfg\"\n",
    "sumoBinary = \"C:/Sumo/sumo-0.32.0/bin/sumo\"\n",
    "sumoCmd = [sumoBinary, \"-c\", configPATH, \"--start\"]\n",
    "portTouse = 8888"
   ]
  },
  {
   "cell_type": "code",
   "execution_count": null,
   "metadata": {},
   "outputs": [],
   "source": [
    "traci.start(sumoCmd,int(portTouse))\n"
   ]
  }
 ],
 "metadata": {
  "kernelspec": {
   "display_name": "Python 3",
   "language": "python",
   "name": "python3"
  },
  "language_info": {
   "codemirror_mode": {
    "name": "ipython",
    "version": 3
   },
   "file_extension": ".py",
   "mimetype": "text/x-python",
   "name": "python",
   "nbconvert_exporter": "python",
   "pygments_lexer": "ipython3",
   "version": "3.5.4"
  }
 },
 "nbformat": 4,
 "nbformat_minor": 2
}
