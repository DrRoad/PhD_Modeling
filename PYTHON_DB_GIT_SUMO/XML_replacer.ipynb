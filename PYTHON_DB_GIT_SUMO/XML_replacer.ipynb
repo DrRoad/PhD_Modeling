{
 "cells": [
  {
   "cell_type": "markdown",
   "metadata": {},
   "source": [
    "# Last worked on 3/2/2018\n",
    "# Goal reload cali_vphph_FILE with new numbers see end\n",
    "\n",
    "## re.sub(pattern, repl, string, max=0)\n",
    "# https://www.tutorialspoint.com/python3/python_reg_expressions.htm"
   ]
  },
  {
   "cell_type": "code",
   "execution_count": null,
   "metadata": {
    "collapsed": true
   },
   "outputs": [],
   "source": [
    "import numpy as np\n",
    "import re\n",
    "import pandas as pd\n",
    "# import sumoPython_git_A as SP\n",
    "import openpyxl as OPENxlsx\n",
    "pd.set_option('display.max_columns', 99,'display.max_rows', 99)"
   ]
  },
  {
   "cell_type": "code",
   "execution_count": null,
   "metadata": {
    "collapsed": true
   },
   "outputs": [],
   "source": [
    "# cali_TEMP = pd.read_excel(\"C:\\Dropbox\\Phd_R_Ms\\PhD_Modeling_DB_GIT\\BMAOI_Dbox-DataFrames\\Calibrator_Master_TEMPLATE_312018.xlsx\")\n",
    "# recNUM_LIST_OLD = ['33083', '33084', '33087', '37100', '37101', '37671', '37672', '47340', '47341', '47475', '53494', '53497', '53496', '53723', '53723', '67303', '67304', '78089', '87722', '87723', '110747', '110748', '110749', '110750', '118680', '127934', '127937', '135472', '135471', '135477', '135473', '135473', '118680']\n",
    "recNUM_LIST = ['33083', '33084', '33087', '37100', '37101', '37671', '37672', '47340', '47341', '47475', '53494', '53497', '53496', '53723a', '53723', '67303', '67304', '78089', '87722', '87723', '110747', '110748', '110749', '110750', '118680a', '127934', '127937', '135472', '135471', '135477', '33087a','33087b','135473a', '135473b', '118680']\n",
    "cali_raw_TXTPATH = '/Dropbox/Phd_R_Ms/SUMO_DB_root/Belmont_Ave-Run/DVRPC-Traffic_Count_Data-Belmount-AOI/Selected_Small_Belmount_AOI_ALL-class-turn-volume_MOD.txt'\n",
    "PennDOT_AADT_day_month_TG3_DF = pd.read_excel(\"C:\\Dropbox\\Phd_R_Ms\\Asset_Use_N_Management_Complete_Model\\DropBox_ToolBox__MASTER__refresh_with_GIT\\PennDOT AADT factors by day of week and month.xlsx\")\n",
    "PennDOT_Daily_Variance_TG3_DF = pd.read_excel(\"C:\\Dropbox\\Phd_R_Ms\\Asset_Use_N_Management_Complete_Model\\DropBox_ToolBox__MASTER__refresh_with_GIT\\PennDOT vphph factors_TG3.xlsx\")"
   ]
  },
  {
   "cell_type": "code",
   "execution_count": null,
   "metadata": {},
   "outputs": [],
   "source": [
    "cali_M_DF = pd.read_excel(\"C:\\Dropbox\\Phd_R_Ms\\PhD_Modeling_DB_GIT\\BMAOI_Dbox-DataFrames\\Calibrator_Master_TEMPLATE_312018.xlsx\")\n",
    "readfromPATH = '/Dropbox/Phd_R_Ms/PhD_Modeling_DB_GIT/Belmont_AOI_git/Belmont_AOI_toolBOX_Not_Master/Belmount_AOI-caliborators-DB-V6-SUMO31-15min_RAW.xml'\n",
    "caliXMLTESTPATH = '/Dropbox/Phd_R_Ms/PhD_Modeling_DB_GIT/Belmont_AOI_git/Belmont_AOI_toolBOX_Not_Master/cali_test.xml'\n",
    "# print(cali_M_DF.shape,cali_M_DF.columns, cali_M_DF.index)\n",
    "cali_XML_output = '/Dropbox/Phd_R_Ms/PhD_Modeling_DB_GIT/Belmont_AOI_git/Belmont_AOI_toolBOX_Not_Master/cali_test_OutP_'#.xml'"
   ]
  },
  {
   "cell_type": "code",
   "execution_count": null,
   "metadata": {
    "collapsed": true
   },
   "outputs": [],
   "source": [
    "#create a dictionary of calibrator names and location in XML_file"
   ]
  },
  {
   "cell_type": "code",
   "execution_count": null,
   "metadata": {
    "collapsed": true
   },
   "outputs": [],
   "source": [
    "    XML_cali = open(caliXMLTESTPATH,'r') #open(caliXMLTESTPATH,'r')\n",
    "    XMLdataRL = XML_cali.readlines()\n",
    "    XML_cali.close()"
   ]
  },
  {
   "cell_type": "code",
   "execution_count": null,
   "metadata": {},
   "outputs": [],
   "source": [
    "cali_counter = 0\n",
    "XML_cali_iloc_DICT = dict()\n",
    "XML_cali_ID_LIST = list()\n",
    "for line in range(len(XMLdataRL)):\n",
    "    if '<calibrator id=' in XMLdataRL[line]:\n",
    "        cali_counter += 1\n",
    "        calibrator_ID_LINE = XMLdataRL[line]\n",
    "        calibrator_ID = re.search('<calibrator id=\"(.*)\" edge=\"(.*)\" p',calibrator_ID_LINE, re.IGNORECASE).group(1)\n",
    "#         print(XMLdataRL[line])\n",
    "        XML_cali_ID_LIST.append(calibrator_ID)\n",
    "        XML_cali_iloc_DICT.update({calibrator_ID:cali_counter})\n",
    "print(XML_cali_ID_LIST,\"\\n\",XML_cali_iloc_DICT) "
   ]
  },
  {
   "cell_type": "code",
   "execution_count": null,
   "metadata": {},
   "outputs": [],
   "source": [
    "# len(XML_cali_iloc_DICT)\n",
    "cali_M_row_2_ID_DF_DICT = dict()\n",
    "cali_M_ID_2_row_DF_DICT = dict()\n",
    "for columns in cali_M_DF:\n",
    "    if cali_M_DF.loc['calibrator_ID',columns] in XML_cali_ID_LIST:\n",
    "#         cali_DF_DICT.update({str(cali_TEMP.loc['calibrator_ID',columns]):str(columns)})\n",
    "        cali_M_row_2_ID_DF_DICT.update({str(columns) : str(cali_TEMP.loc['calibrator_ID',columns])})\n",
    "        cali_M_ID_2_row_DF_DICT.update({str(cali_TEMP.loc['calibrator_ID',columns]) : str(columns)})\n",
    "print(cali_M_row_2_ID_DF_DICT,\"\\n\\n\\n\",cali_M_ID_2_row_DF_DICT)\n",
    "cali_M_ID_2_row_DF_DICT['ConcrseDR-Belmont-MemHll-EB-02-33083']"
   ]
  },
  {
   "cell_type": "code",
   "execution_count": null,
   "metadata": {
    "collapsed": true
   },
   "outputs": [],
   "source": []
  },
  {
   "cell_type": "code",
   "execution_count": null,
   "metadata": {},
   "outputs": [],
   "source": [
    " write_new_Cali_XML(caliXMLTESTPATH,cali_XML_output,'March','Monday')"
   ]
  },
  {
   "cell_type": "code",
   "execution_count": null,
   "metadata": {},
   "outputs": [],
   "source": [
    "cali_M_DF.columns"
   ]
  },
  {
   "cell_type": "markdown",
   "metadata": {},
   "source": [
    "day_t = 'Monday'\n",
    "month_t = 'March'\n",
    "XML_outmod = str(cali_XML_output) +\"_\"+month_t+\"_\"+day_t+\".xml\""
   ]
  },
  {
   "cell_type": "markdown",
   "metadata": {},
   "source": [
    "print(PennDOT_AADT_day_month_TG3_DF.index,\"\\n\", PennDOT_AADT_day_month_TG3_DF.columns,\"\\n\\n\",PennDOT_Daily_Variance_TG3_DF.index,\"\\n\",PennDOT_Daily_Variance_TG3_DF.columns)\n",
    "day_t = 'Monday'\n",
    "month_t = 'March'\n",
    "PennDOT_AADT_day_month_TG3_DF.loc[day_t,month_t]\n",
    "PennDOT_Daily_Variance_TG3_DF.iloc[2,3]"
   ]
  },
  {
   "cell_type": "code",
   "execution_count": null,
   "metadata": {},
   "outputs": [],
   "source": [
    "def update_vphph_i(col_DF,calibrator_ID, flow_ID, DF_row, month_t, day_t, period_start_LIST):\n",
    "    #     Hour_Factor = PennDOT_Daily_Variance_TG3_DF\n",
    "#     print(\"calibrator_ID = \", calibrator_ID)\n",
    "#     print(\"period_start_LIST[\",DF_row-3,\"] = \"), print(period_start_LIST[DF_row-3])\n",
    "#     print(\"cali_M_ID_2_row_DF_DICT[calibrator_ID] = \", cali_M_ID_2_row_DF_DICT[str(calibrator_ID)])\n",
    "#     print(XML_cali_ID_LIST[cali_counter], XML_cali_ID_LIST[cali_counter] == caliLISTa[cali_counter].calibrator_ID,end=\" \")\n",
    "    for name in dir():\n",
    "        myvalue = eval(name)\n",
    "        print( name, \"is\", type(name), \"and is equal to \", myvalue)\n",
    "#     cali_M_DF.iloc[DF_row, col_DF]\n",
    "#     print(\"col_DF = \", col_DF)\n",
    "    Month_Day_Factor = PennDOT_AADT_day_month_TG3_DF.loc[day_t,month_t]\n",
    "    flow_X_i = cali_M_DF.iloc[int(DF_row), int(cali_M_ID_2_row_DF_DICT[col_DF])]#cali_M_ID_2_row_DF_DICT[calibrator_ID]]\n",
    "#     flow_X_i_broke = cali_M_DF.loc[cali_M_DF[DF_row], str(cali_M_ID_2_row_DF_DICT[calibrator_ID])]\n",
    "    #caliLISTa[cali_counter].vph_DF[DF_row]*Month_Day_Factor\n",
    "    \n",
    "    print(\"DF_row = \",DF_row, \"Month_Day_Factor = \", Month_Day_Factor, \"flow_X_i = \",flow_X_i)\n",
    "    return flow_X_i\n",
    "\n",
    "    \n",
    "def write_new_Cali_XML(XML_in,XML_out,month_t,day_t):\n",
    "    XML_cali = open(XML_in,'r') #open(caliXMLTESTPATH,'r')\n",
    "    XMLdataRL = XML_cali.readlines()\n",
    "    XML_cali.close()\n",
    "#     capture = 0\n",
    "    cali_counter = 0\n",
    "#     period_start_LIST = list()\n",
    "    XML_outmod = str(XML_out) +\"_\"+month_t+\"_\"+day_t+\".xml\"\n",
    "    newfile = open(XML_outmod,'w') #open(cali_XML_output,'w')\n",
    "    newfile.write(\"<!-- File created for \"+str(month_t)+\" \"+str(day_t)+\"-->\\n\")\n",
    "    newfile.close()\n",
    "    for line in range(len(XMLdataRL)):\n",
    "        if '<calibrator id=' in XMLdataRL[line]:\n",
    "            col_DF = cali_M_row_2_ID_DF_DICT[str(cali_counter)]\n",
    "            cali_counter += 1\n",
    "            calibrator_ID_LINE = XMLdataRL[line]\n",
    "            calibrator_ID = re.search('<calibrator id=\"(.*)\" edge=\"(.*)\" p',calibrator_ID_LINE, re.IGNORECASE).group(1)\n",
    "        elif '<flow begin=\"' in XMLdataRL[line]:\n",
    "            LINE_i = XMLdataRL[line]\n",
    "#             print(LINE_i)\n",
    "            flow_ID = re.search('<flow begin=\"(.*)\" e',LINE_i, re.IGNORECASE).group(1)\n",
    "            if flow_ID == \"1\":\n",
    "                DF_row = 3\n",
    "            else:\n",
    "                DF_row += 1\n",
    "#             period_start_LIST.append(flow_ID)\n",
    "#             print(\"period_start_LIST = \",period_start_LIST)\n",
    "            vph_pattern = re.search('vehsPerHour=\"(.*)\" t',LINE_i, re.IGNORECASE).group(1)\n",
    "            repl_i = str(update_vphph_i(col_DF,calibrator_ID, flow_ID,DF_row,month_t,day_t,period_start_LIST))#, day))\n",
    "            print(\"repl_i = \",repl_i,\" should not equal vph_pattern\",vph_pattern)\n",
    "            XMLdataRL[line] = re.sub(vph_pattern, repl_i, LINE_i)\n",
    "            print(LINE_i)\n",
    "        newfile = open(XML_outmod,'a')\n",
    "        newfile.write(XMLdataRL[line])\n",
    "        newfile.close()\n",
    "    newfile.close()\n",
    "    return XMLdataRL\n"
   ]
  },
  {
   "cell_type": "code",
   "execution_count": null,
   "metadata": {},
   "outputs": [],
   "source": [
    "cali_M_DF"
   ]
  },
  {
   "cell_type": "code",
   "execution_count": null,
   "metadata": {},
   "outputs": [],
   "source": [
    "# def make_new_XML_vphph_all_calis():\n",
    "counter =0\n",
    "vph_index_LIST = list()\n",
    "for n in range(len(cali_M_DF.index)):\n",
    "    if 'vph' in cali_M_DF.index[n]:\n",
    "        vph_index_LIST.append(cali_M_DF.index[n])\n",
    "vph_index_LIST"
   ]
  },
  {
   "cell_type": "code",
   "execution_count": null,
   "metadata": {
    "collapsed": true
   },
   "outputs": [],
   "source": [
    "class Cali():\n",
    "    cali_M_DF = pd.read_excel(\"C:\\Dropbox\\Phd_R_Ms\\PhD_Modeling_DB_GIT\\BMAOI_Dbox-DataFrames\\Calibrator_Master_TEMPLATE_312018.xlsx\")\n",
    "    cali_XML_output = '/Dropbox/Phd_R_Ms/PhD_Modeling_DB_GIT/Belmont_AOI_git/Belmont_AOI_toolBOX_Not_Master/cali_test_OutP_1.xml'\n",
    "    \n",
    "    def __init__(self):\n",
    "        self.calibrator_ID = 0\n",
    "        self.cali_M_DF_col = 0\n",
    "        self.routeProbe_ID = 0\n",
    "        self.SUMO_edge_ID = 0\n",
    "        \n",
    "        #Big long self list if wanted\n",
    "        self.RECORDNUM = 0\n",
    "        self.AXLE_CORR_FACTOR = 0\n",
    "        self.AADT = 0\n",
    "        self.AM_Peak_prct = 0\n",
    "        self.Hour_Beginning_AM = 0\n",
    "        self.SEASONAL_FACTOR = 0\n",
    "        self.PM_Peak_prct = 0\n",
    "        self.Hour_Beginning_PM = 0\n",
    "        \n",
    "        self.vph_index_LIST = list()\n",
    "        self.vph_DF = pd.DataFrame(np.zeros((95,1)))\n",
    "        \n",
    "    def set_prarams(self,calibrator_ID,cali_M_DF):#,vph_index_LIST):\n",
    "        self.calibrator_ID = calibrator_ID\n",
    "        self.vph_DF = pd.DataFrame(np.zeros((95,1)),index = vph_index_LIST)\n",
    "        for col in range(cali_M_DF.shape[1]):\n",
    "            if cali_M_DF.loc['calibrator_ID',col] == self.calibrator_ID:\n",
    "                self.cali_M_DF_col = col\n",
    "                self.routeProbe_ID = cali_M_DF.loc['routeProbe_ID',col]\n",
    "                self.SUMO_edge_ID = cali_M_DF.loc['SUMO_edge_ID',col]\n",
    "                self.RECORDNUM = cali_M_DF.loc['RECORDNUM',col]\n",
    "                self.AXLE_CORR_FACTOR = cali_M_DF.loc['AXLE_CORR_FACTOR',col]\n",
    "                self.AADT = cali_M_DF.loc['AADT',col]\n",
    "                self.AM_Peak_prct = cali_M_DF.loc['AM_Peak_prct',col]\n",
    "                self.Hour_Beginning_AM = cali_M_DF.loc['Hour_Beginning_AM',col]\n",
    "                self.SEASONAL_FACTOR = cali_M_DF.loc['SEASONAL_FACTOR',col]\n",
    "                self.PM_Peak_prct = cali_M_DF.loc['PM_Peak_prct',col]\n",
    "                self.Hour_Beginning_PM = cali_M_DF.loc['Hour_Beginning_PM',col]\n",
    "                self.vph_DF = cali_M_DF.iloc[3:98,col]\n",
    "    \n",
    "\n",
    "    @classmethod # means class instead of self (Edge.create_Edge_Instances() becomes create_Edge_Instances(Edge))\n",
    "    def create_cali_Instances(cls):\n",
    "        # @staticmethod # means no self\n",
    "        # def create_Edge_Instances():\n",
    "        tabber = \"<>\"\n",
    "        print(\"\\n\\t\\t\\t\\t<><>Please wait creating Cali Instances<><>\\n\")\n",
    "        caliLISTa = list()\n",
    "        counter = 0\n",
    "        for cali_i in XML_cali_ID_LIST[:]: #### HERE TO INCLUDE ALL INSTANCES\n",
    "            caliNAME = cali_i#\"cali_\"+str(counter)\n",
    "            #cali_i#\"edge_\"+str(counter) #str(SP.Belmont_AVEDic[counter])\n",
    "            caliLISTa.append(caliNAME)\n",
    "            # print(edgeLISTa[counter])\n",
    "            caliLISTa[counter]= cls()\n",
    "            caliLISTa[counter].set_prarams(cali_i,cali_M_DF)\n",
    "   \n",
    "            print(\"cali_i = \", cali_i,tabber,end='\\r',flush=True)#, edgeLISTa[counter].__dict__)\n",
    "            counter = counter + 1\n",
    "            # tabber = str(tabber+\"<>\")#\\t\")\n",
    "#             if (counter/47).is_integer() == True:\n",
    "#                 tabber = \"\\n<>\"\n",
    "#             else:\n",
    "            tabber = str(tabber+\"<>\")#\\t\")\n",
    "        print(\"\\n\\t\\t\\t\\t<<<caliLISTa Instances loaded on edgeLISTa>>>\\n\")\n",
    "        print(\"Testing caliLISTa[1].__dict__ ...\\n\",caliLISTa[1].__dict__,\"\\n\")\n",
    "        return caliLISTa"
   ]
  },
  {
   "cell_type": "code",
   "execution_count": null,
   "metadata": {},
   "outputs": [],
   "source": [
    "caliLISTa = Cali.create_cali_Instances()\n",
    "vph_index_LIST[0],caliLISTa[0].vph_DF[vph_index_LIST[0]]"
   ]
  },
  {
   "cell_type": "code",
   "execution_count": null,
   "metadata": {},
   "outputs": [],
   "source": [
    "cali_M_DF.index"
   ]
  },
  {
   "cell_type": "code",
   "execution_count": null,
   "metadata": {},
   "outputs": [],
   "source": [
    "pp = Cali('ConcrseDR-Belmont-MemHll-WB-02-33084')\n",
    "pp.set_prarams(cali_M_DF)"
   ]
  },
  {
   "cell_type": "code",
   "execution_count": null,
   "metadata": {},
   "outputs": [],
   "source": [
    "pp.vph_DF[vph_index_LIST[2]]"
   ]
  },
  {
   "cell_type": "code",
   "execution_count": null,
   "metadata": {},
   "outputs": [],
   "source": [
    "# for line in XMLdataR:\n",
    "#     print(line)\n",
    "cali_counter = 0\n",
    "XML_cali_iloc_DICT = dict()\n",
    "XML_cali_ID_LIST = list()\n",
    "for line in range(len(XMLdataRL)):\n",
    "    if '<calibrator id=' in XMLdataRL[line]:\n",
    "        cali_counter += 1\n",
    "        calibrator_ID_LINE = XMLdataRL[line]\n",
    "        calibrator_ID = re.search('<calibrator id=\"(.*)\" edge=\"(.*)\" p',calibrator_ID_LINE, re.IGNORECASE).group(1)\n",
    "        print(XMLdataRL[line])\n",
    "        XML_cali_ID_LIST.append(calibrator_ID)\n",
    "        XML_cali_iloc_DICT.update({calibrator_ID:cali_counter})\n",
    "print(XML_cali_ID_LIST,\"\\n\",XML_cali_iloc_DICT) "
   ]
  },
  {
   "cell_type": "code",
   "execution_count": null,
   "metadata": {},
   "outputs": [],
   "source": []
  },
  {
   "cell_type": "code",
   "execution_count": null,
   "metadata": {},
   "outputs": [],
   "source": [
    "XMLdataRL"
   ]
  },
  {
   "cell_type": "code",
   "execution_count": null,
   "metadata": {},
   "outputs": [],
   "source": [
    "cali_TEMP.iloc[3,0]"
   ]
  },
  {
   "cell_type": "markdown",
   "metadata": {},
   "source": [
    "##TESTING\n",
    "cali_counter = 0\n",
    "for line in range(len(XMLdataRL)):\n",
    "    if '<calibrator id=' in XMLdataRL[line]:\n",
    "        cali_counter += 1\n",
    "        calibrator_ID_LINE = XMLdataRL[line]\n",
    "        calibrator_ID = re.search('<calibrator id=\"(.*)\" edge=\"(.*)\" p',calibrator_ID_LINE, re.IGNORECASE).group(1)\n",
    "        pattern_CID = '<calibrator id=\"'+calibrator_ID+'\" e'\n",
    "        repl_CID = '<calibrator id=\"' + \"Poo_\" + str(cali_counter) + '\" e'\n",
    "        XMLdataRL[line] = re.sub(pattern_CID, repl_CID, calibrator_ID_LINE)\n",
    "        print(XMLdataRL[line])#,\"\\nreplacement line = \",repline)"
   ]
  },
  {
   "cell_type": "code",
   "execution_count": null,
   "metadata": {},
   "outputs": [],
   "source": [
    "XMLdataRL"
   ]
  },
  {
   "cell_type": "markdown",
   "metadata": {},
   "source": [
    "\n",
    "        self.vph_start_1 = 0\n",
    "        self.vph_start_901 = 0\n",
    "        self.vph_start_1801 = 0\n",
    "        self.vph_start_2701 = 0\n",
    "        self.vph_start_3601 = 0\n",
    "        self.vph_start_4501 = 0\n",
    "        self.vph_start_5401 = 0\n",
    "        self.vph_start_6301 = 0\n",
    "        self.vph_start_7201 = 0\n",
    "        self.vph_start_8101 = 0\n",
    "        self.vph_start_9001 = 0\n",
    "        self.vph_start_9901 = 0\n",
    "        self.vph_start_10801 = 0\n",
    "        self.vph_start_11701 = 0\n",
    "        self.vph_start_12601 = 0\n",
    "        self.vph_start_13501 = 0\n",
    "        self.vph_start_14401 = 0\n",
    "        self.vph_start_15301 = 0\n",
    "        self.vph_start_16201 = 0\n",
    "        self.vph_start_17101 = 0\n",
    "        self.vph_start_18001 = 0\n",
    "        self.vph_start_18901 = 0\n",
    "        self.vph_start_19801 = 0\n",
    "        self.vph_start_20701 = 0\n",
    "        self.vph_start_21601 = 0\n",
    "        self.vph_start_22501 = 0\n",
    "        self.vph_start_23401 = 0\n",
    "        self.vph_start_24301 = 0\n",
    "        self.vph_start_25201 = 0\n",
    "        self.vph_start_26101 = 0\n",
    "        self.vph_start_27001 = 0\n",
    "        self.vph_start_27901 = 0\n",
    "        self.vph_start_28801 = 0\n",
    "        self.vph_start_29701 = 0\n",
    "        self.vph_start_30601 = 0\n",
    "        self.vph_start_31501 = 0\n",
    "        self.vph_start_32401 = 0\n",
    "        self.vph_start_33301 = 0\n",
    "        self.vph_start_34201 = 0\n",
    "        self.vph_start_35101 = 0\n",
    "        self.vph_start_36001 = 0\n",
    "        self.vph_start_36901 = 0\n",
    "        self.vph_start_37801 = 0\n",
    "        self.vph_start_38701 = 0\n",
    "        self.vph_start_39601 = 0\n",
    "        self.vph_start_40501 = 0\n",
    "        self.vph_start_41401 = 0\n",
    "        self.vph_start_42301 = 0\n",
    "        self.vph_start_43201 = 0\n",
    "        self.vph_start_44101 = 0\n",
    "        self.vph_start_45001 = 0\n",
    "        self.vph_start_45901 = 0\n",
    "        self.vph_start_46801 = 0\n",
    "        self.vph_start_47701 = 0\n",
    "        self.vph_start_48601 = 0\n",
    "        self.vph_start_49501 = 0\n",
    "        self.vph_start_50401 = 0\n",
    "        self.vph_start_51301 = 0\n",
    "        self.vph_start_52201 = 0\n",
    "        self.vph_start_53101 = 0\n",
    "        self.vph_start_54001 = 0\n",
    "        self.vph_start_54901 = 0\n",
    "        self.vph_start_55801 = 0\n",
    "        self.vph_start_56701 = 0\n",
    "        self.vph_start_57601 = 0\n",
    "        self.vph_start_58501 = 0\n",
    "        self.vph_start_59401 = 0\n",
    "        self.vph_start_60301 = 0\n",
    "        self.vph_start_61201 = 0\n",
    "        self.vph_start_62101 = 0\n",
    "        self.vph_start_63001 = 0\n",
    "        self.vph_start_63901 = 0\n",
    "        self.vph_start_64801 = 0\n",
    "        self.vph_start_65701 = 0\n",
    "        self.vph_start_66601 = 0\n",
    "        self.vph_start_67501 = 0\n",
    "        self.vph_start_68401 = 0\n",
    "        self.vph_start_69301 = 0\n",
    "        self.vph_start_70201 = 0\n",
    "        self.vph_start_71101 = 0\n",
    "        self.vph_start_72001 = 0\n",
    "        self.vph_start_72901 = 0\n",
    "        self.vph_start_73801 = 0\n",
    "        self.vph_start_74701 = 0\n",
    "        self.vph_start_75601 = 0\n",
    "        self.vph_start_76501 = 0\n",
    "        self.vph_start_77401 = 0\n",
    "        self.vph_start_78301 = 0\n",
    "        self.vph_start_79201 = 0\n",
    "        self.vph_start_80101 = 0\n",
    "        self.vph_start_81001 = 0\n",
    "        self.vph_start_81901 = 0\n",
    "        self.vph_start_82801 = 0\n",
    "        self.vph_start_83701 = 0\n",
    "        self.vph_start_84601 = 0"
   ]
  }
 ],
 "metadata": {
  "kernelspec": {
   "display_name": "Python 3",
   "language": "python",
   "name": "python3"
  },
  "language_info": {
   "codemirror_mode": {
    "name": "ipython",
    "version": 3
   },
   "file_extension": ".py",
   "mimetype": "text/x-python",
   "name": "python",
   "nbconvert_exporter": "python",
   "pygments_lexer": "ipython3",
   "version": "3.5.4"
  }
 },
 "nbformat": 4,
 "nbformat_minor": 2
}
