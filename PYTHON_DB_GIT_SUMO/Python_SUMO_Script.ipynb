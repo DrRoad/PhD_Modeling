{
 "cells": [
  {
   "cell_type": "code",
   "execution_count": 1,
   "metadata": {
    "collapsed": true
   },
   "outputs": [],
   "source": [
    "import numpy as np\n",
    "import traci\n",
    "import traci.constants as tc\n",
    "import re\n",
    "import time\n",
    "import sumolib\n",
    "# import cProfile, pstats , io\n",
    "import pandas as pd\n",
    "\n",
    "import openpyxl as OPENxlsx\n"
   ]
  },
  {
   "cell_type": "code",
   "execution_count": 2,
   "metadata": {},
   "outputs": [
    {
     "name": "stdout",
     "output_type": "stream",
     "text": [
      "Your new sumoPython_git_A has been loaded!\n"
     ]
    }
   ],
   "source": [
    "import sumoPython_git_A as SP"
   ]
  },
  {
   "cell_type": "code",
   "execution_count": 3,
   "metadata": {
    "collapsed": true
   },
   "outputs": [],
   "source": [
    "pd.set_option('display.max_rows', 5)"
   ]
  },
  {
   "cell_type": "code",
   "execution_count": 8,
   "metadata": {},
   "outputs": [
    {
     "name": "stdout",
     "output_type": "stream",
     "text": [
      "\n",
      "\n",
      "Press [1] to enter a user defined Period_Interval.\n",
      "Press anything else to continue default is seconds 3600 or 1 hour? ... \n",
      "\n",
      "\n",
      "PERIOD_VARRIABLE =  3600 \n",
      "\n",
      "    <output-prefix value=\"BMAOI-RUN_9.1-\"/>\n",
      "\n",
      "    <output-prefix value=\"BMAOI-RUN_9.1-\"/>\n",
      "\n",
      "    <output-prefix value=\"BMAOI-RUN_9.1-\"/>\n",
      "\n",
      "Press Zero to use GUI? (0)\n",
      "\n",
      "Confirm with: BMAOI-TRACI.sumocfg .. port in File: ..5544\n",
      "Please select a port...\t\n",
      "\n",
      "\t\tTrying port ..   5544 \n",
      "\n",
      "\n",
      "\n",
      "useCase =  1\n",
      "\n",
      "Beginning Journey Now\n",
      "\tPlease See Gui for Show\n",
      "\n",
      "\n",
      "\n",
      "Push T to Run Simulation until the end\n",
      "Push 2 to run for XXX Steps\n",
      "Push 3 to run for X number of periods\n",
      "Push 4 to run until input time\n",
      "Current Step_Time : 1.0\n",
      "\n",
      "\tEnter Run Type Here: T\n",
      "You pressed T = typeRun\n"
     ]
    }
   ],
   "source": [
    "PERIOD_VARRIABLE = SP.Initializer.inputPeriod_asNumber(new=1)\n",
    "fileINFO = SP.RunFileInfo.GetSimulationRunPrefix(display=0)\n",
    "SUMO_outPUT_PREFIX = SP.RunFileInfo.GetSimulationRunPrefix(display=0)[0]\n",
    "SUMO_Traci_PORT = int(SP.RunFileInfo.GetSimulationRunPrefix(display=0)[1])\n",
    "SP.Initializer.startSUMO(SUMO_Traci_PORT,useCase=str(1))\n",
    "    # Ask for Steps to take or Time to run until\n",
    "typeRun = SP.Runner.runtypeAsker()\n",
    "Start_Time = int(traci.simulation.getCurrentTime()/1000) #SP.Initializer.runSUMO(SUMO_Traci_PORT,useCase=\"Continue\")[0]\n",
    "# estimated_Run_Time = input(\"...\\n\\n\\nHow long will you run this file for... \")\n",
    "# if estimated_Run_Time == '':\n",
    "estimated_Run_Time = 90000\n",
    "    # print(\"You did not specify how long you wanted to run until so the default value = \", estimated_Run_Time)\n",
    "steps_TT = int(estimated_Run_Time)"
   ]
  },
  {
   "cell_type": "code",
   "execution_count": 9,
   "metadata": {},
   "outputs": [
    {
     "name": "stdout",
     "output_type": "stream",
     "text": [
      "====== RUN_9.1 ======\n",
      "\n",
      "\t\t\t\t<><>Please wait creating Edge Instances<><>\n",
      "\n",
      "Edge =  47 <><><><><><><><><><><><><><><><><><><><><><><><><><><><><><><><><><><><><><><><><><><><><><><>\n",
      "Edge =  48 \n",
      "Edge =  49 \n",
      "Edge =  50 \n",
      "Edge =  51 \n",
      "Edge =  52 \n",
      "Edge =  53 >\n",
      "Edge =  54 ><>\n",
      "Edge =  55 ><><>\n",
      "Edge =  56 ><><><>\n",
      "Edge =  57 ><><><><>\n",
      "Edge =  58 ><><><><><>\n",
      "Edge =  59 ><><><><><><>\n",
      "Edge =  60 ><><><><><><><>\n",
      "Edge =  61 ><><><><><><><><>\n",
      "Edge =  62 ><><><><><><><><><>\n",
      "Edge =  63 ><><><><><><><><><><>\n",
      "Edge =  64 ><><><><><><><><><><><>\n",
      "Edge =  65 ><><><><><><><><><><><><>\n",
      "Edge =  66 ><><><><><><><><><><><><><>\n",
      "Edge =  67 ><><><><><><><><><><><><><><>\n",
      "Edge =  68 ><><><><><><><><><><><><><><><>\n",
      "Edge =  69 ><><><><><><><><><><><><><><><><>\n",
      "Edge =  70 ><><><><><><><><><><><><><><><><><>\n",
      "Edge =  71 ><><><><><><><><><><><><><><><><><><>\n",
      "Edge =  72 ><><><><><><><><><><><><><><><><><><><>\n",
      "Edge =  73 ><><><><><><><><><><><><><><><><><><><><>\n",
      "Edge =  74 ><><><><><><><><><><><><><><><><><><><><><>\n",
      "Edge =  75 ><><><><><><><><><><><><><><><><><><><><><><>\n",
      "Edge =  76 ><><><><><><><><><><><><><><><><><><><><><><><>\n",
      "Edge =  77 ><><><><><><><><><><><><><><><><><><><><><><><><>\n",
      "Edge =  78 ><><><><><><><><><><><><><><><><><><><><><><><><><>\n",
      "Edge =  79 ><><><><><><><><><><><><><><><><><><><><><><><><><><>\n",
      "<><><><><><><><><><><><><><><><><><><><><><><><><><><><><><><><><>\n",
      "\t\t\t\t<<<Edge Instances loaded on edgeLISTa>>>\n",
      "\n",
      "Testing edgeLISTa[4].__dict__ ...\n",
      " {'meanSpeed': 27.78, 'layer1_6in_35_50': 0.48999999999999999, 'SNC': 6.6600000000000001, 'edgeID': '-196358954#0', 'layer_1_dpth_in': 6, 'AVE_QLTH': 0, 'Dynamic_Max_Speed': 27.87, 'ASS_CALI': nan, 'AGE_0': 1, 'carCount': 0, 'IRI': 0, 'originalMAXSPEED': 27.87, 'AADT_Calc': 10691.596634859639, 'layer2_6in_10_25': 0.12, 'ESAL_TOT': 0, 'net': <sumolib.net.Net object at 0x0000016A49A109E8>, 'truckCount': 0, 'ADDT_rand': 10691.596634859639, 'adaptTraveltime': -1.0, 'PCR': 0, 'layer3_12in_5_17': 0.25, 'Bel_Dic_ID': 4, 'vehidLIST': {'vehID_k': 'veh_k_Type'}, 'ADDT_Calc': 0, 'AGE_t': 1, 'Effort': -1.0} \n",
      "\n",
      "Loading and creating Excel Network File SUMO_outPUT_PREFIX =  RUN_9.1\n",
      "\n",
      "wb.get_sheet_names()[0] =  Sheet\n",
      "\n",
      "Removing wb.get_sheet_names()[0] =  Sheet\n",
      "\n",
      "wb.get_sheet_names()[0] =  Sheet\n",
      "\n",
      "Removing wb.get_sheet_names()[0] =  Sheet\n"
     ]
    }
   ],
   "source": [
    "# Initalize Files\n",
    "print(\"======\",SUMO_outPUT_PREFIX,\"======\")\n",
    "edgeLISTa = SP.Edge.create_Edge_Instances()\n",
    "wb = SP.Network_Period.load_n_create_Excel_NetworkFile(SUMO_outPUT_PREFIX,PERIOD_VARRIABLE,steps_TT,PATH=None)[0]\n",
    "periodNamesLISTa = SP.Network_Period.load_n_create_Excel_NetworkFile(SUMO_outPUT_PREFIX,PERIOD_VARRIABLE,steps_TT,display=0)[1]\n",
    "\n"
   ]
  },
  {
   "cell_type": "code",
   "execution_count": null,
   "metadata": {
    "scrolled": false
   },
   "outputs": [
    {
     "name": "stdout",
     "output_type": "stream",
     "text": [
      "\t\t\t\t====== RUN_9.1 ======\n",
      "\t\t\t\t====== RUN_9.1 ======\n",
      "\n",
      "\n",
      "<><><periodCounter =  1\n",
      "\n",
      "\n",
      "Reset_Edge_CasheFiles has started\n",
      "\n",
      "[[[<><><>]]]\n",
      "Starting myWrite_to_excel()\n",
      "\t PATH_to_Save_to:  /Sumo/runs/BelmontC_AOI_main/BelmontC_AOI-outPUT/BMAOI_C-DataFrames/BMAOI_edgeCasheFILES/Network_RUN_9.1_PeriodBook.xlsx \n",
      "\t Current Worksheet:  <Worksheet \"Period_1_to_3601\"> \n",
      "\n",
      "[[[<><><>]]]\n",
      "\t\t\t\t<Writing Headers>\n",
      "\n",
      "Please be true ...  False\n",
      "\n",
      ">>>Data written to:: wb[wb.get_sheet_names()[periodCounter-1]]=  <Worksheet \"Period_1_to_3601\"> \n",
      "\t\t\t\t\t this should match ws:  <Worksheet \"Period_1_to_3601\"> \n",
      "[[[[<<<<Next Period>>>>]]]]:  Period_3601_to_7201\n",
      "\n",
      "\n",
      "<><><><Changing SUMO EGDE MAX SPEED><><><>\n",
      "\n",
      "<>\n",
      "<>><<><><><><\n",
      "\n",
      "\n",
      "\\<><><><\t\t<><><><><><\t\tI'm a failure... getMaxSpeed<>\n",
      "<>><<><><><><\n",
      "\n",
      "\n",
      "\\<><><><\t\t<><><><><><\n",
      "Testing edgeLISTa[48].__dict__ ...\n",
      " {'meanSpeed': 6, 'layer1_6in_35_50': 0.38, 'SNC': 10.379999999999999, 'OCPNY': 0.06595377959126242, 'edgeID': '387423966', 'layer_1_dpth_in': 18, 'AVE_QLTH': 0, 'Dynamic_Max_Speed': 31.43, 'ASS_CALI': nan, 'AGE_0': 4, 'carCount': 187, 'IRI': 52.001849115468346, 'originalMAXSPEED': 27.87, 'AADT_Calc': 16250.270144456639, 'layer2_6in_10_25': 0.17000000000000001, 'ESAL_TOT': 15.58090000000001, 'net': <sumolib.net.Net object at 0x0000016A63230DA0>, 'truckCount': 57, 'ADDT_rand': 16250.270144456639, 'adaptTraveltime': -1.0, 'PCR': 101.37161452938217, 'layer3_12in_5_17': 0.20999999999999999, 'Bel_Dic_ID': 48, 'vehidLIST': {'vehID_k': 'veh_k_Type'}, 'ADDT_Calc': 0, 'AGE_t': 7204, 'Effort': -1.0} \n",
      "====== RUN_9.1 ======\n",
      "\t\t\t\t====== RUN_9.1 ======\n",
      "\t\t\t\t====== RUN_9.1 ======\n",
      "\n",
      "\n",
      "<><><periodCounter =  2\n",
      "\n",
      "\n",
      "Reset_Edge_CasheFiles has started\n",
      "\n",
      "[[[<><><>]]]\n",
      "Starting myWrite_to_excel()\n",
      "\t PATH_to_Save_to:  /Sumo/runs/BelmontC_AOI_main/BelmontC_AOI-outPUT/BMAOI_C-DataFrames/BMAOI_edgeCasheFILES/Network_RUN_9.1_PeriodBook.xlsx \n",
      "\t Current Worksheet:  <Worksheet \"Period_3601_to_7201\"> \n",
      "\n",
      "[[[<><><>]]]\n",
      "\t\t\t\t<Writing Headers>\n",
      "\n",
      "Please be true ...  False\n",
      "\n",
      ">>>Data written to:: wb[wb.get_sheet_names()[periodCounter-1]]=  <Worksheet \"Period_3601_to_7201\"> \n",
      "\t\t\t\t\t this should match ws:  <Worksheet \"Period_3601_to_7201\"> \n",
      "[[[[<<<<Next Period>>>>]]]]:  Period_7201_to_10801\n",
      "\n",
      "\n",
      "<><><><Changing SUMO EGDE MAX SPEED><><><>\n",
      "\n",
      "<>\n",
      "<>><<><><><><\n",
      "\n",
      "\n",
      "\\<><><><\t\t<><><><><><\t\tI'm a failure... getMaxSpeed<>\n",
      "<>><<><><><><\n",
      "\n",
      "\n",
      "\\<><><><\t\t<><><><><><\n",
      "Testing edgeLISTa[48].__dict__ ...\n",
      " {'meanSpeed': 5, 'layer1_6in_35_50': 0.38, 'SNC': 10.379999999999999, 'OCPNY': 0.060677477223961426, 'edgeID': '387423966', 'layer_1_dpth_in': 18, 'AVE_QLTH': 0, 'Dynamic_Max_Speed': 31.43, 'ASS_CALI': nan, 'AGE_0': 4, 'carCount': 309, 'IRI': 52.003697204220714, 'originalMAXSPEED': 27.87, 'AADT_Calc': 16250.270144456639, 'layer2_6in_10_25': 0.17000000000000001, 'ESAL_TOT': 27.6162999999999, 'net': <sumolib.net.Net object at 0x0000016A63230DA0>, 'truckCount': 89, 'ADDT_rand': 16250.270144456639, 'adaptTraveltime': -1.0, 'PCR': 99.557157773613241, 'layer3_12in_5_17': 0.20999999999999999, 'Bel_Dic_ID': 48, 'vehidLIST': {'vehID_k': 'veh_k_Type'}, 'ADDT_Calc': 0, 'AGE_t': 14404, 'Effort': -1.0} \n",
      "====== RUN_9.1 ======\n",
      "\t\t\t\t====== RUN_9.1 ======\n",
      "\t\t\t\t====== RUN_9.1 ======\n",
      "\n",
      "\n",
      "<><><periodCounter =  3\n",
      "\n",
      "\n",
      "Reset_Edge_CasheFiles has started\n",
      "\n",
      "[[[<><><>]]]\n",
      "Starting myWrite_to_excel()\n",
      "\t PATH_to_Save_to:  /Sumo/runs/BelmontC_AOI_main/BelmontC_AOI-outPUT/BMAOI_C-DataFrames/BMAOI_edgeCasheFILES/Network_RUN_9.1_PeriodBook.xlsx \n",
      "\t Current Worksheet:  <Worksheet \"Period_7201_to_10801\"> \n",
      "\n",
      "[[[<><><>]]]\n",
      "\t\t\t\t<Writing Headers>\n",
      "\n",
      "Please be true ...  False\n",
      "\n",
      ">>>Data written to:: wb[wb.get_sheet_names()[periodCounter-1]]=  <Worksheet \"Period_7201_to_10801\"> \n",
      "\t\t\t\t\t this should match ws:  <Worksheet \"Period_7201_to_10801\"> \n",
      "[[[[<<<<Next Period>>>>]]]]:  Period_10801_to_14401\n",
      "\n",
      "\n",
      "<><><><Changing SUMO EGDE MAX SPEED><><><>\n",
      "\n",
      "<>\n",
      "<>><<><><><><\n",
      "\n",
      "\n",
      "\\<><><><\t\t<><><><><><\t\tI'm a failure... getMaxSpeed<>\n",
      "<>><<><><><><\n",
      "\n",
      "\n",
      "\\<><><><\t\t<><><><><><\n",
      "Testing edgeLISTa[48].__dict__ ...\n",
      " {'meanSpeed': 7, 'layer1_6in_35_50': 0.38, 'SNC': 10.379999999999999, 'OCPNY': 0.06419501213549542, 'edgeID': '387423966', 'layer_1_dpth_in': 18, 'AVE_QLTH': 0, 'Dynamic_Max_Speed': 31.43, 'ASS_CALI': nan, 'AGE_0': 4, 'carCount': 390, 'IRI': 52.00554529297309, 'originalMAXSPEED': 27.87, 'AADT_Calc': 16250.270144456639, 'layer2_6in_10_25': 0.17000000000000001, 'ESAL_TOT': 34.67299999999982, 'net': <sumolib.net.Net object at 0x0000016A63230DA0>, 'truckCount': 109, 'ADDT_rand': 16250.270144456639, 'adaptTraveltime': -1.0, 'PCR': 98.836000805150704, 'layer3_12in_5_17': 0.20999999999999999, 'Bel_Dic_ID': 48, 'vehidLIST': {'vehID_k': 'veh_k_Type'}, 'ADDT_Calc': 0, 'AGE_t': 21604, 'Effort': -1.0} \n",
      "====== RUN_9.1 ======\n",
      "\t\t\t\t====== RUN_9.1 ======\n"
     ]
    }
   ],
   "source": [
    "# Take a step(s)\n",
    "SP.Runner.releaseTraci(Start_Time,typeRun,edgeLISTa,PERIOD_VARRIABLE,SUMO_outPUT_PREFIX,periodNamesLISTa,steps_TT)\n",
    "\n",
    "continue01 = 0\n",
    "continue01 = str(input(\"Press x to exit\"))\n",
    "while continue01 != \"x\":\n",
    "    SP.Runner.releaseTraci(Start_Time,typeRun,edgeLISTa,PERIOD_VARRIABLE,SUMO_outPUT_PREFIX,periodNamesLISTa,steps_TT)\n",
    "    continue01 = str(input(\"Press x to exit\"))\n",
    "    break"
   ]
  },
  {
   "cell_type": "code",
   "execution_count": null,
   "metadata": {
    "collapsed": true
   },
   "outputs": [],
   "source": []
  },
  {
   "cell_type": "code",
   "execution_count": null,
   "metadata": {},
   "outputs": [],
   "source": [
    "traci.close()\n"
   ]
  },
  {
   "cell_type": "markdown",
   "metadata": {
    "collapsed": true
   },
   "source": [
    "Look for \n",
    "Storage(a\n",
    "C:\\Sumo\\runs\\BelmontC_AOI_main\\BelmontC_AOI-outPUT\\BMAOI_C-EmissionFILES\\Emissions_output.xml"
   ]
  },
  {
   "cell_type": "code",
   "execution_count": null,
   "metadata": {
    "collapsed": true
   },
   "outputs": [],
   "source": []
  },
  {
   "cell_type": "code",
   "execution_count": null,
   "metadata": {
    "collapsed": true
   },
   "outputs": [],
   "source": [
    "logger_TEMPDF.loc[1,'ESAL'] = edgeLISTa[1].ESAL_TOT\n",
    "Condition_RTi = 100.00 - (edgeLISTa[1].ESAL_TOT) * 0.01339\n",
    "logger_TEMPDF.loc[1,'Condition_Index'] = Condition_RTi\n",
    "# maxSpeedo = logger_TEMPDF.loc[logger_TEMPDF['Belmont_AVEDic_ID'].str.contains(Belmont_AVEDic[n]),'Original_Max_Speed']\n",
    "maxSpeedo = edgeLISTa[1].originalMAXSPEED\n",
    "maxSpeed_i =(maxSpeedo - (maxSpeedo**((100-Condition_RTi)/96))+4.5675)\n",
    "edgeLISTa[1].Dynamic_Max_Speed = maxSpeed_i"
   ]
  },
  {
   "cell_type": "code",
   "execution_count": null,
   "metadata": {
    "collapsed": true
   },
   "outputs": [],
   "source": [
    "maxSpeed_i"
   ]
  },
  {
   "cell_type": "code",
   "execution_count": null,
   "metadata": {
    "collapsed": true
   },
   "outputs": [],
   "source": [
    "edgeLISTa[1].__dict__"
   ]
  },
  {
   "cell_type": "code",
   "execution_count": null,
   "metadata": {
    "collapsed": true
   },
   "outputs": [],
   "source": [
    "PATH_to_Save_to = \"/Sumo/runs/BelmontC_AOI_main/BelmontC_AOI-outPUT/BMAOI_C-DataFrames/BMAOI_edgeCasheFILES/Network_\" +SUMO_outPUT_PREFIX + \"_PeriodBook.xlsx\"\n",
    "logger_TEMPDF =pd.read_excel(PATH_to_Save_to)\n",
    "logger_TEMPDF.PCR[1]\n"
   ]
  },
  {
   "cell_type": "code",
   "execution_count": null,
   "metadata": {
    "collapsed": true
   },
   "outputs": [],
   "source": [
    "http://onlinepubs.trb.org/Onlinepubs/trr/1989/1215/1215-001.pdf\n",
    "#       PCR(t) = 90 - a * [exp(Age^b)-1] * log(ESAL/SNC^c) a = 0.6349; b = 0.4203; and c = 2.7062"
   ]
  },
  {
   "cell_type": "code",
   "execution_count": null,
   "metadata": {},
   "outputs": [],
   "source": [
    "# PATH_Network_DF_Period_0t00_TEMPLATExlsx = '/GitHub/PhD_Modeling/Belmont_AOI_git/Belmont_AOI-runFILES/Network_DF_Period_0t00_TEMPLATE.xlsx'\n",
    "PATH_Network_DF_Period_0t00_TEMPLATExlsx = PATH_Network_DF_Period_0t00_TEMPLATExlsx = '/Dropbox/Phd_R_Ms/PhD_Modeling_DB_GIT/Belmont_AOI_git/Belmont_AOI-runFILES/Network_DF_Period_0t00_TEMPLATE.xlsx'\n",
    "PATH_Network_DF_Period_0t00_TEMPLATExlsx\n",
    "logger_TEMPDF =pd.read_excel(PATH_Network_DF_Period_0t00_TEMPLATExlsx)\n",
    "print(logger_TEMPDF.columns,\"\\nlogger_TEMPDF.AGE_0 = \",logger_TEMPDF.AGE_0)\n"
   ]
  },
  {
   "cell_type": "code",
   "execution_count": null,
   "metadata": {},
   "outputs": [],
   "source": [
    "import sumoPython_git_A as SP\n"
   ]
  },
  {
   "cell_type": "code",
   "execution_count": null,
   "metadata": {},
   "outputs": [],
   "source": [
    "logger_TEMPDF.loc[1,'AGE_0']"
   ]
  },
  {
   "cell_type": "code",
   "execution_count": null,
   "metadata": {
    "collapsed": true
   },
   "outputs": [],
   "source": [
    "edgeLISTa[1].Dynamic_Max_Speed\n"
   ]
  },
  {
   "cell_type": "code",
   "execution_count": null,
   "metadata": {
    "collapsed": true
   },
   "outputs": [],
   "source": [
    "logger_TEMPDF.loc[logger_TEMPDF['Belmont_AVEDic_ID'].str.contains(edgeLISTa[1].edgeID),'Dynamic_Max_Speed'] #== edgeLISTa[1].Dynamic_Max_Speed\n",
    "\n"
   ]
  },
  {
   "cell_type": "code",
   "execution_count": null,
   "metadata": {
    "collapsed": true
   },
   "outputs": [],
   "source": [
    "age_t = 4\n",
    "ESAL = 2\n",
    "SNC=2"
   ]
  },
  {
   "cell_type": "code",
   "execution_count": null,
   "metadata": {
    "collapsed": true
   },
   "outputs": [],
   "source": [
    "PCCR = 90-0.6349 * (np.exp(age_t**0.4203)-1) * np.log(ESAL/(SNC**2.7062))\n",
    "IRRI = 52 + 8.1 * ()"
   ]
  },
  {
   "cell_type": "code",
   "execution_count": null,
   "metadata": {
    "collapsed": true
   },
   "outputs": [],
   "source": [
    "age_now = (self.AGE_0+self.AGE_t/31556926)"
   ]
  },
  {
   "cell_type": "code",
   "execution_count": null,
   "metadata": {
    "collapsed": true,
    "scrolled": true
   },
   "outputs": [],
   "source": []
  },
  {
   "cell_type": "code",
   "execution_count": null,
   "metadata": {
    "collapsed": true
   },
   "outputs": [],
   "source": [
    "def set_some_more_try_to_integrate(edgeLISTa,logger_TEMPDF):\n",
    "    for n in range(len(edgeLISTa)):\n",
    "        edgeLISTa[n].AGE_0 = logger_TEMPDF.loc[n,'AGE_0']\n",
    "        edgeLISTa[n].ADDT_rand = logger_TEMPDF.loc[n,'ADTT_rand']\n",
    "        edgeLISTa[n].ASS_CALI = logger_TEMPDF.loc[n,'ASS_CALI']\n",
    "        edgeLISTa[n].SNC = logger_TEMPDF.loc[n,'SNC']\n",
    "        edgeLISTa[n].layer_1_dpth_in = logger_TEMPDF.loc[n,'layer_1_dpth_in']\n",
    "        edgeLISTa[n].layer1_6in_35_50 = logger_TEMPDF.loc[n,'layer1_6in_35_50']\n",
    "        edgeLISTa[n].layer2_6in_10_25 = logger_TEMPDF.loc[n,'layer2_6in_10_25']\n",
    "        edgeLISTa[n].layer3_12in_5_17 = logger_TEMPDF.loc[n,'layer3_12in_5_17']\n",
    "        edgeLISTa[n].AADT_Calc = logger_TEMPDF.loc[n,'ADTT_rand']\n",
    "\n",
    "set_some_more_try_to_integrate(edgeLISTa,logger_TEMPDF)\n",
    "self.meanSpeed = int(traci.edge.getLastStepMeanSpeed(self.edgeID))\n",
    "self.PCR = 90-0.6349 * (np.exp((self.AGE_0+self.AGE_t/31556926)**0.4203)-1) * np.log(self.ESAL_TOT/((self.SNC)**2.7062)\n",
    "\n",
    "self.IRI = 52+8.1*((self.AGE_0+self.AGE_t/31556926))+0.0009*self.ADDT_Calc\n",
    "\n",
    "edgeLISTa[1].__dict__"
   ]
  }
 ],
 "metadata": {
  "kernelspec": {
   "display_name": "Python 3",
   "language": "python",
   "name": "python3"
  },
  "language_info": {
   "codemirror_mode": {
    "name": "ipython",
    "version": 3
   },
   "file_extension": ".py",
   "mimetype": "text/x-python",
   "name": "python",
   "nbconvert_exporter": "python",
   "pygments_lexer": "ipython3",
   "version": "3.5.4"
  }
 },
 "nbformat": 4,
 "nbformat_minor": 2
}
