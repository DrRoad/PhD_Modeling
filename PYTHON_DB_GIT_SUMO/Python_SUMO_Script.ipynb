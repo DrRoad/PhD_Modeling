{
 "cells": [
  {
   "cell_type": "markdown",
   "metadata": {},
   "source": [
    "## Lasted Worked on 2/23/2018"
   ]
  },
  {
   "cell_type": "code",
   "execution_count": 1,
   "metadata": {
    "collapsed": true
   },
   "outputs": [],
   "source": [
    "import numpy as np\n",
    "import traci\n",
    "import traci.constants as tc\n",
    "import re\n",
    "import time\n",
    "import sumolib\n",
    "# import cProfile, pstats , io\n",
    "import pandas as pd\n",
    "import openpyxl as OPENxlsx\n",
    "\n",
    "\n",
    "pd.set_option('display.max_rows', 5)"
   ]
  },
  {
   "cell_type": "code",
   "execution_count": 2,
   "metadata": {},
   "outputs": [
    {
     "name": "stdout",
     "output_type": "stream",
     "text": [
      "Your new sumoPython_git_A has been loaded!\n"
     ]
    }
   ],
   "source": [
    "import sumoPython_git_A as SP"
   ]
  },
  {
   "cell_type": "code",
   "execution_count": 3,
   "metadata": {},
   "outputs": [
    {
     "name": "stdout",
     "output_type": "stream",
     "text": [
      "\n",
      "\n",
      "Press [1] to enter a user defined Period_Interval.\n",
      "Press anything else to continue default is seconds 3600 or 1 hour? ... \n",
      "\n",
      "\n",
      "PERIOD_VARRIABLE =  3600 \n",
      "\n",
      "    <output-prefix value=\"BMAOI-RUN_0_0020jn-\"/>\n",
      "\n",
      "    <output-prefix value=\"BMAOI-RUN_0_0020jn-\"/>\n",
      "\n",
      "    <output-prefix value=\"BMAOI-RUN_0_0020jn-\"/>\n",
      "\n",
      "Press Zero to use GUI? (0)\n",
      "\n",
      "Confirm with: BMAOI-TRACI.sumocfg .. port in File: ..5454\n",
      "Please select a port...\t1238\n",
      "\n",
      "\t\tTrying port ..   1238 \n",
      "\n",
      "\n",
      "\n",
      "useCase =  1\n",
      "\n",
      "Beginning Journey Now\n",
      "\tPlease See Gui for Show\n",
      "\n",
      "\n",
      "\n",
      "Push T to Run Simulation until the END\n",
      "Push 2 to run for XXX STEPS\n",
      "Push 3 to run for X number of PERIODS\n",
      "Push 4 to run until input TIME\n",
      "Current Step_Time : 1.0\n",
      "\n",
      "\tEnter Run Type Here: t\n",
      "You pressed t = Run forEVER!!!\n"
     ]
    }
   ],
   "source": [
    "PERIOD_VARRIABLE = SP.Initializer.inputPeriod_asNumber(new=1)\n",
    "fileINFO = SP.RunFileInfo.GetSimulationRunPrefix(display=0)\n",
    "SUMO_outPUT_PREFIX = SP.RunFileInfo.GetSimulationRunPrefix(display=0)[0]\n",
    "SUMO_Traci_PORT = int(SP.RunFileInfo.GetSimulationRunPrefix(display=0)[1])\n",
    "SP.Initializer.startSUMO(SUMO_Traci_PORT,useCase=str(1))\n",
    "    # Ask for Steps to take or Time to run until\n",
    "typeRun = SP.Runner.runtypeAsker()\n",
    "Start_Time = int(traci.simulation.getCurrentTime()/1000) #SP.Initializer.runSUMO(SUMO_Traci_PORT,useCase=\"Continue\")[0]\n",
    "# estimated_Run_Time = input(\"...\\n\\n\\nHow long will you run this file for... \")\n",
    "# if estimated_Run_Time == '':\n",
    "estimated_Run_Time = 90000\n",
    "    # print(\"You did not specify how long you wanted to run until so the default value = \", estimated_Run_Time)\n",
    "steps_TT = int(estimated_Run_Time)"
   ]
  },
  {
   "cell_type": "code",
   "execution_count": 4,
   "metadata": {},
   "outputs": [
    {
     "name": "stdout",
     "output_type": "stream",
     "text": [
      "====== RUN_0_0020jn ======\n",
      "\n",
      "\t\t\t\t<><>Please wait creating Edge Instances<><>\n",
      "\n",
      "Edge =  47 <><><><><><><><><><><><><><><><><><><><><><><><><><><><><><><><><><><><><><><><><><><><><><><>\n",
      "Edge =  48 \n",
      "Edge =  49 \n",
      "Edge =  50 \n",
      "Edge =  51 \n",
      "Edge =  52 \n",
      "Edge =  53 >\n",
      "Edge =  54 ><>\n",
      "Edge =  55 ><><>\n",
      "Edge =  56 ><><><>\n",
      "Edge =  57 ><><><><>\n",
      "Edge =  58 ><><><><><>\n",
      "Edge =  59 ><><><><><><>\n",
      "Edge =  60 ><><><><><><><>\n",
      "Edge =  61 ><><><><><><><><>\n",
      "Edge =  62 ><><><><><><><><><>\n",
      "Edge =  63 ><><><><><><><><><><>\n",
      "Edge =  64 ><><><><><><><><><><><>\n",
      "Edge =  65 ><><><><><><><><><><><><>\n",
      "Edge =  66 ><><><><><><><><><><><><><>\n",
      "Edge =  67 ><><><><><><><><><><><><><><>\n",
      "Edge =  68 ><><><><><><><><><><><><><><><>\n",
      "Edge =  69 ><><><><><><><><><><><><><><><><>\n",
      "Edge =  70 ><><><><><><><><><><><><><><><><><>\n",
      "Edge =  71 ><><><><><><><><><><><><><><><><><><>\n",
      "Edge =  72 ><><><><><><><><><><><><><><><><><><><>\n",
      "Edge =  73 ><><><><><><><><><><><><><><><><><><><><>\n",
      "Edge =  74 ><><><><><><><><><><><><><><><><><><><><><>\n",
      "Edge =  75 ><><><><><><><><><><><><><><><><><><><><><><>\n",
      "Edge =  76 ><><><><><><><><><><><><><><><><><><><><><><><>\n",
      "Edge =  77 ><><><><><><><><><><><><><><><><><><><><><><><><>\n",
      "Edge =  78 ><><><><><><><><><><><><><><><><><><><><><><><><><>\n",
      "Edge =  79 ><><><><><><><><><><><><><><><><><><><><><><><><><><>\n",
      "<><><><><><><><><><><><><><><><><><><><><><><><><><><><><><><><><>\n",
      "\t\t\t\t<<<Edge Instances loaded on edgeLISTa>>>\n",
      "\n",
      "Testing edgeLISTa[4].__dict__ ...\n",
      " {'carCount': 0, 'originalMAXSPEED': 27.87, 'ADDT_rand': 10691.596634859639, 'SNC': 10.579999999999998, 'AGE_0': 1, 'AVE_QLTH': 0, 'ADDT_Calc': 0, 'layer_1_dpth_in': 14, 'ASS_CALI': nan, 'AGE_t': 1, 'vehidLIST': {'vehID_k': 'veh_k_Type'}, 'layer1_6in_35_50': 0.48999999999999999, 'layer3_12in_5_17': 0.25, 'meanSpeed': 27.78, 'ESAL_TOT': 0, 'layer2_6in_10_25': 0.12, 'net': <sumolib.net.Net object at 0x000001D353B11BE0>, 'Bel_Dic_ID': 4, 'Effort': -1.0, 'edgeID': '-196358954#0', 'AADT_Calc': 10691.596634859639, 'IRI': 0, 'PCR': 0, 'truckCount': 0, 'adaptTraveltime': -1.0, 'Dynamic_Max_Speed': 27.87} \n",
      "\n",
      "Loading and creating Excel Network File SUMO_outPUT_PREFIX =  RUN_0_0020jn\n",
      "\n",
      "wb.get_sheet_names()[0] =  Sheet\n",
      "\n",
      "Removing wb.get_sheet_names()[0] =  Sheet\n",
      "\n",
      "wb.get_sheet_names()[0] =  Sheet\n",
      "\n",
      "Removing wb.get_sheet_names()[0] =  Sheet\n"
     ]
    }
   ],
   "source": [
    "# Initalize Files\n",
    "print(\"======\",SUMO_outPUT_PREFIX,\"======\")\n",
    "edgeLISTa = SP.Edge.create_Edge_Instances()\n",
    "wb = SP.Network_Period.load_n_create_Excel_NetworkFile(SUMO_outPUT_PREFIX,PERIOD_VARRIABLE,steps_TT,PATH=None)[0]\n",
    "periodNamesLISTa = SP.Network_Period.load_n_create_Excel_NetworkFile(SUMO_outPUT_PREFIX,PERIOD_VARRIABLE,steps_TT,display=0)[1]\n",
    "\n"
   ]
  },
  {
   "cell_type": "code",
   "execution_count": null,
   "metadata": {
    "scrolled": false
   },
   "outputs": [
    {
     "name": "stdout",
     "output_type": "stream",
     "text": [
      "\t\t\t\t====== RUN_0_0020jn ======\n",
      "\t\t\t\t====== RUN_0_0020jn ======\n",
      "\n",
      "\n",
      "<><><periodCounter =  1\n",
      "\n",
      "\n",
      "Reset_Edge_CasheFiles has started\n",
      "\n",
      "[[[<><><>]]]\n",
      "Starting myWrite_to_excel()\n",
      "\t PATH_to_Save_to:  /Sumo/runs/BelmontC_AOI_main/BelmontC_AOI-outPUT/BMAOI_C-DataFrames/BMAOI_edgeCasheFILES/Network_RUN_0_0020jn_PeriodBook.xlsx \n",
      "\t Current Worksheet:  <Worksheet \"Period_1_to_3601\"> \n",
      "\n",
      "[[[<><><>]]]\n",
      "\t\t\t\t<Writing Headers>\n",
      "\n",
      "Please be true ...  False\n",
      "\n",
      ">>>Data written to:: wb[wb.get_sheet_names()[periodCounter-1]]=  <Worksheet \"Period_1_to_3601\"> \n",
      "\t\t\t\t\t this should match ws:  <Worksheet \"Period_1_to_3601\"> \n",
      "[[[[<<<<Next Period>>>>]]]]:  Period_3601_to_7201\n",
      "\n",
      "\n",
      "<><><><Changing SUMO EGDE MAX SPEED><><><>\n",
      "\n",
      "\n",
      "[[[[MAX SPEEDS]]]]\t\tCurrent Time: 3601.0 \n",
      "\n",
      "<>-12150712#3  :  0 ; \n",
      "<>><<><><><><\n",
      " -12150712#3 's max speed = 0 \n",
      "\\<><><><\t\t<><><><><><\n",
      "Testing edgeLISTa[48].__dict__ ...\n",
      " {'carCount': 198, 'originalMAXSPEED': 27.87, 'ADDT_rand': 16250.270144456639, 'SNC': 8.0999999999999996, 'OCPNY': 0.06947131450279644, 'AGE_0': 4, 'AVE_QLTH': 0, 'ADDT_Calc': 0, 'layer_1_dpth_in': 12, 'ASS_CALI': nan, 'AGE_t': 7204, 'vehidLIST': {'vehID_k': 'veh_k_Type'}, 'layer1_6in_35_50': 0.38, 'layer3_12in_5_17': 0.20999999999999999, 'meanSpeed': 7, 'ESAL_TOT': 18.538599999999953, 'layer2_6in_10_25': 0.17000000000000001, 'net': <sumolib.net.Net object at 0x000001D36E956D30>, 'Bel_Dic_ID': 48, 'Effort': -1.0, 'edgeID': '387423966', 'AADT_Calc': 16250.270144456639, 'IRI': 52.001849115468346, 'PCR': 98.692152009748469, 'truckCount': 49, 'adaptTraveltime': -1.0, 'Dynamic_Max_Speed': 31.43} \n",
      "====== RUN_0_0020jn ======\n",
      "\t\t\t\t====== RUN_0_0020jn ======\n",
      "\t\t\t\t====== RUN_0_0020jn ======\n",
      "\n",
      "\n",
      "<><><periodCounter =  2\n",
      "\n",
      "\n",
      "Reset_Edge_CasheFiles has started\n",
      "\n",
      "[[[<><><>]]]\n",
      "Starting myWrite_to_excel()\n",
      "\t PATH_to_Save_to:  /Sumo/runs/BelmontC_AOI_main/BelmontC_AOI-outPUT/BMAOI_C-DataFrames/BMAOI_edgeCasheFILES/Network_RUN_0_0020jn_PeriodBook.xlsx \n",
      "\t Current Worksheet:  <Worksheet \"Period_3601_to_7201\"> \n",
      "\n",
      "[[[<><><>]]]\n",
      "\t\t\t\t<Writing Headers>\n",
      "\n",
      "Please be true ...  False\n",
      "\n",
      ">>>Data written to:: wb[wb.get_sheet_names()[periodCounter-1]]=  <Worksheet \"Period_3601_to_7201\"> \n",
      "\t\t\t\t\t this should match ws:  <Worksheet \"Period_3601_to_7201\"> \n",
      "[[[[<<<<Next Period>>>>]]]]:  Period_7201_to_10801\n",
      "\n",
      "\n",
      "<><><><Changing SUMO EGDE MAX SPEED><><><>\n",
      "\n",
      "\n",
      "[[[[MAX SPEEDS]]]]\t\tCurrent Time: 7201.0 \n",
      "\n",
      "<>-12150712#3  :  0 ; \n",
      "<>><<><><><><\n",
      " -12150712#3 's max speed = 0 \n",
      "\\<><><><\t\t<><><><><><\n",
      "Testing edgeLISTa[48].__dict__ ...\n",
      " {'carCount': 321, 'originalMAXSPEED': 27.87, 'ADDT_rand': 16250.270144456639, 'SNC': 8.0999999999999996, 'OCPNY': 0.06630553308241584, 'AGE_0': 4, 'AVE_QLTH': 0, 'ADDT_Calc': 0, 'layer_1_dpth_in': 12, 'ASS_CALI': nan, 'AGE_t': 14404, 'vehidLIST': {'vehID_k': 'veh_k_Type'}, 'layer1_6in_35_50': 0.38, 'layer3_12in_5_17': 0.20999999999999999, 'meanSpeed': 6, 'ESAL_TOT': 27.024699999999793, 'layer2_6in_10_25': 0.17000000000000001, 'net': <sumolib.net.Net object at 0x000001D36E956D30>, 'Bel_Dic_ID': 48, 'Effort': -1.0, 'edgeID': '387423966', 'AADT_Calc': 16250.270144456639, 'IRI': 52.003697204220714, 'PCR': 97.497404063346764, 'truckCount': 78, 'adaptTraveltime': -1.0, 'Dynamic_Max_Speed': 31.43} \n",
      "====== RUN_0_0020jn ======\n",
      "\t\t\t\t====== RUN_0_0020jn ======\n",
      "\t\t\t\t====== RUN_0_0020jn ======\n",
      "\n",
      "\n",
      "<><><periodCounter =  3\n",
      "\n",
      "\n",
      "Reset_Edge_CasheFiles has started\n",
      "\n",
      "[[[<><><>]]]\n",
      "Starting myWrite_to_excel()\n",
      "\t PATH_to_Save_to:  /Sumo/runs/BelmontC_AOI_main/BelmontC_AOI-outPUT/BMAOI_C-DataFrames/BMAOI_edgeCasheFILES/Network_RUN_0_0020jn_PeriodBook.xlsx \n",
      "\t Current Worksheet:  <Worksheet \"Period_7201_to_10801\"> \n",
      "\n",
      "[[[<><><>]]]\n",
      "\t\t\t\t<Writing Headers>\n",
      "\n",
      "Please be true ...  False\n",
      "\n",
      ">>>Data written to:: wb[wb.get_sheet_names()[periodCounter-1]]=  <Worksheet \"Period_7201_to_10801\"> \n",
      "\t\t\t\t\t this should match ws:  <Worksheet \"Period_7201_to_10801\"> \n",
      "[[[[<<<<Next Period>>>>]]]]:  Period_10801_to_14401\n",
      "\n",
      "\n",
      "<><><><Changing SUMO EGDE MAX SPEED><><><>\n",
      "\n",
      "\n",
      "[[[[MAX SPEEDS]]]]\t\tCurrent Time: 10801.0 \n",
      "\n",
      "<>-12150712#3  :  0 ; \n",
      "<>><<><><><><\n",
      " -12150712#3 's max speed = 0 \n",
      "\\<><><><\t\t<><><><><><\n",
      "Testing edgeLISTa[48].__dict__ ...\n",
      " {'carCount': 400, 'originalMAXSPEED': 27.87, 'ADDT_rand': 16250.270144456639, 'SNC': 8.0999999999999996, 'OCPNY': 0.06366738189876534, 'AGE_0': 4, 'AVE_QLTH': 0, 'ADDT_Calc': 0, 'layer_1_dpth_in': 12, 'ASS_CALI': nan, 'AGE_t': 21604, 'vehidLIST': {'vehID_k': 'veh_k_Type'}, 'layer1_6in_35_50': 0.38, 'layer3_12in_5_17': 0.20999999999999999, 'meanSpeed': 8, 'ESAL_TOT': 32.27999999999972, 'layer2_6in_10_25': 0.17000000000000001, 'net': <sumolib.net.Net object at 0x000001D36E956D30>, 'Bel_Dic_ID': 48, 'Effort': -1.0, 'edgeID': '387423966', 'AADT_Calc': 16250.270144456639, 'IRI': 52.00554529297309, 'PCR': 96.934258165089545, 'truckCount': 100, 'adaptTraveltime': -1.0, 'Dynamic_Max_Speed': 31.43} \n",
      "====== RUN_0_0020jn ======\n",
      "\t\t\t\t====== RUN_0_0020jn ======\n",
      "\t\t\t\t====== RUN_0_0020jn ======\n",
      "\n",
      "\n",
      "<><><periodCounter =  4\n",
      "\n",
      "\n",
      "Reset_Edge_CasheFiles has started\n",
      "\n",
      "[[[<><><>]]]\n",
      "Starting myWrite_to_excel()\n",
      "\t PATH_to_Save_to:  /Sumo/runs/BelmontC_AOI_main/BelmontC_AOI-outPUT/BMAOI_C-DataFrames/BMAOI_edgeCasheFILES/Network_RUN_0_0020jn_PeriodBook.xlsx \n",
      "\t Current Worksheet:  <Worksheet \"Period_10801_to_14401\"> \n",
      "\n",
      "[[[<><><>]]]\n",
      "\t\t\t\t<Writing Headers>\n",
      "\n",
      "Please be true ...  False\n",
      "\n",
      ">>>Data written to:: wb[wb.get_sheet_names()[periodCounter-1]]=  <Worksheet \"Period_10801_to_14401\"> \n",
      "\t\t\t\t\t this should match ws:  <Worksheet \"Period_10801_to_14401\"> \n",
      "[[[[<<<<Next Period>>>>]]]]:  Period_14401_to_18001\n",
      "\n",
      "\n",
      "<><><><Changing SUMO EGDE MAX SPEED><><><>\n",
      "\n",
      "\n",
      "[[[[MAX SPEEDS]]]]\t\tCurrent Time: 14401.0 \n",
      "\n",
      "<>-12150712#3  :  0 ; \n",
      "<>><<><><><><\n",
      " -12150712#3 's max speed = 0 \n",
      "\\<><><><\t\t<><><><><><\n",
      "Testing edgeLISTa[48].__dict__ ...\n",
      " {'carCount': 461, 'originalMAXSPEED': 27.87, 'ADDT_rand': 16250.270144456639, 'SNC': 8.0999999999999996, 'OCPNY': 0.038165253790143856, 'AGE_0': 4, 'AVE_QLTH': 0, 'ADDT_Calc': 0, 'layer_1_dpth_in': 12, 'ASS_CALI': nan, 'AGE_t': 28804, 'vehidLIST': {'vehID_k': 'veh_k_Type'}, 'layer1_6in_35_50': 0.38, 'layer3_12in_5_17': 0.20999999999999999, 'meanSpeed': 8, 'ESAL_TOT': 36.52269999999986, 'layer2_6in_10_25': 0.17000000000000001, 'net': <sumolib.net.Net object at 0x000001D36E956D30>, 'Bel_Dic_ID': 48, 'Effort': -1.0, 'edgeID': '387423966', 'AADT_Calc': 16250.270144456639, 'IRI': 52.00739338172546, 'PCR': 96.54298154967239, 'truckCount': 117, 'adaptTraveltime': -1.0, 'Dynamic_Max_Speed': 31.43} \n",
      "====== RUN_0_0020jn ======\n",
      "\t\t\t\t====== RUN_0_0020jn ======\n",
      "\t\t\t\t====== RUN_0_0020jn ======\n",
      "\n",
      "\n",
      "<><><periodCounter =  5\n",
      "\n",
      "\n",
      "Reset_Edge_CasheFiles has started\n",
      "\n",
      "[[[<><><>]]]\n",
      "Starting myWrite_to_excel()\n",
      "\t PATH_to_Save_to:  /Sumo/runs/BelmontC_AOI_main/BelmontC_AOI-outPUT/BMAOI_C-DataFrames/BMAOI_edgeCasheFILES/Network_RUN_0_0020jn_PeriodBook.xlsx \n",
      "\t Current Worksheet:  <Worksheet \"Period_14401_to_18001\"> \n",
      "\n",
      "[[[<><><>]]]\n",
      "\t\t\t\t<Writing Headers>\n",
      "\n",
      "Please be true ...  False\n",
      "\n",
      ">>>Data written to:: wb[wb.get_sheet_names()[periodCounter-1]]=  <Worksheet \"Period_14401_to_18001\"> \n",
      "\t\t\t\t\t this should match ws:  <Worksheet \"Period_14401_to_18001\"> \n",
      "[[[[<<<<Next Period>>>>]]]]:  Period_18001_to_21601\n",
      "\n",
      "\n",
      "<><><><Changing SUMO EGDE MAX SPEED><><><>\n",
      "\n",
      "\n",
      "[[[[MAX SPEEDS]]]]\t\tCurrent Time: 18001.0 \n",
      "\n",
      "<>-12150712#3  :  0 ; \n",
      "<>><<><><><><\n",
      " -12150712#3 's max speed = 0 \n",
      "\\<><><><\t\t<><><><><><\n",
      "Testing edgeLISTa[48].__dict__ ...\n",
      " {'carCount': 537, 'originalMAXSPEED': 27.87, 'ADDT_rand': 16250.270144456639, 'SNC': 8.0999999999999996, 'OCPNY': 0.05575292834781384, 'AGE_0': 4, 'AVE_QLTH': 0, 'ADDT_Calc': 0, 'layer_1_dpth_in': 12, 'ASS_CALI': nan, 'AGE_t': 36004, 'vehidLIST': {'vehID_k': 'veh_k_Type'}, 'layer1_6in_35_50': 0.38, 'layer3_12in_5_17': 0.20999999999999999, 'meanSpeed': 6, 'ESAL_TOT': 40.42590000000004, 'layer2_6in_10_25': 0.17000000000000001, 'net': <sumolib.net.Net object at 0x000001D36E956D30>, 'Bel_Dic_ID': 48, 'Effort': -1.0, 'edgeID': '387423966', 'AADT_Calc': 16250.270144456639, 'IRI': 52.009241470477825, 'PCR': 96.221280447475579, 'truckCount': 143, 'adaptTraveltime': -1.0, 'Dynamic_Max_Speed': 31.420000000000002} \n",
      "====== RUN_0_0020jn ======\n",
      "\t\t\t\t====== RUN_0_0020jn ======\n",
      "\t\t\t\t====== RUN_0_0020jn ======\n",
      "\n",
      "\n",
      "<><><periodCounter =  6\n",
      "\n",
      "\n",
      "Reset_Edge_CasheFiles has started\n",
      "\n",
      "[[[<><><>]]]\n",
      "Starting myWrite_to_excel()\n",
      "\t PATH_to_Save_to:  /Sumo/runs/BelmontC_AOI_main/BelmontC_AOI-outPUT/BMAOI_C-DataFrames/BMAOI_edgeCasheFILES/Network_RUN_0_0020jn_PeriodBook.xlsx \n",
      "\t Current Worksheet:  <Worksheet \"Period_18001_to_21601\"> \n",
      "\n",
      "[[[<><><>]]]\n",
      "\t\t\t\t<Writing Headers>\n",
      "\n",
      "Please be true ...  False\n",
      "\n",
      ">>>Data written to:: wb[wb.get_sheet_names()[periodCounter-1]]=  <Worksheet \"Period_18001_to_21601\"> \n",
      "\t\t\t\t\t this should match ws:  <Worksheet \"Period_18001_to_21601\"> \n",
      "[[[[<<<<Next Period>>>>]]]]:  Period_21601_to_25201\n",
      "\n",
      "\n",
      "<><><><Changing SUMO EGDE MAX SPEED><><><>\n",
      "\n"
     ]
    },
    {
     "name": "stdout",
     "output_type": "stream",
     "text": [
      "\n",
      "[[[[MAX SPEEDS]]]]\t\tCurrent Time: 21601.0 \n",
      "\n",
      "<>-12150712#3  :  0 ; \n",
      "<>><<><><><><\n",
      " -12150712#3 's max speed = 0 \n",
      "\\<><><><\t\t<><><><><><\n",
      "Testing edgeLISTa[48].__dict__ ...\n",
      " {'carCount': 728, 'originalMAXSPEED': 27.87, 'ADDT_rand': 16250.270144456639, 'SNC': 8.0999999999999996, 'OCPNY': 0.10710893805621019, 'AGE_0': 4, 'AVE_QLTH': 0, 'ADDT_Calc': 0, 'layer_1_dpth_in': 12, 'ASS_CALI': nan, 'AGE_t': 43204, 'vehidLIST': {'vehID_k': 'veh_k_Type'}, 'layer1_6in_35_50': 0.38, 'layer3_12in_5_17': 0.20999999999999999, 'meanSpeed': 2, 'ESAL_TOT': 57.70960000000048, 'layer2_6in_10_25': 0.17000000000000001, 'net': <sumolib.net.Net object at 0x000001D36E956D30>, 'Bel_Dic_ID': 48, 'Effort': -1.0, 'edgeID': '387423966', 'AADT_Calc': 16250.270144456639, 'IRI': 52.0110895592302, 'PCR': 95.092587066525113, 'truckCount': 192, 'adaptTraveltime': -1.0, 'Dynamic_Max_Speed': 31.41} \n",
      "====== RUN_0_0020jn ======\n",
      "\t\t\t\t====== RUN_0_0020jn ======\n",
      "\t\t\t\t====== RUN_0_0020jn ======\n",
      "\n",
      "\n",
      "<><><periodCounter =  7\n",
      "\n",
      "\n",
      "Reset_Edge_CasheFiles has started\n",
      "\n",
      "[[[<><><>]]]\n",
      "Starting myWrite_to_excel()\n",
      "\t PATH_to_Save_to:  /Sumo/runs/BelmontC_AOI_main/BelmontC_AOI-outPUT/BMAOI_C-DataFrames/BMAOI_edgeCasheFILES/Network_RUN_0_0020jn_PeriodBook.xlsx \n",
      "\t Current Worksheet:  <Worksheet \"Period_21601_to_25201\"> \n",
      "\n",
      "[[[<><><>]]]\n",
      "\t\t\t\t<Writing Headers>\n",
      "\n",
      "Please be true ...  False\n",
      "\n",
      ">>>Data written to:: wb[wb.get_sheet_names()[periodCounter-1]]=  <Worksheet \"Period_21601_to_25201\"> \n",
      "\t\t\t\t\t this should match ws:  <Worksheet \"Period_21601_to_25201\"> \n",
      "[[[[<<<<Next Period>>>>]]]]:  Period_25201_to_28801\n",
      "\n",
      "\n",
      "<><><><Changing SUMO EGDE MAX SPEED><><><>\n",
      "\n",
      "\n",
      "[[[[MAX SPEEDS]]]]\t\tCurrent Time: 25201.0 \n",
      "\n",
      "<>-12150712#3  :  0 ; \n",
      "<>><<><><><><\n",
      " -12150712#3 's max speed = 0 \n",
      "\\<><><><\t\t<><><><><><\n",
      "Testing edgeLISTa[48].__dict__ ...\n",
      " {'carCount': 1141, 'originalMAXSPEED': 27.87, 'ADDT_rand': 16250.270144456639, 'SNC': 8.0999999999999996, 'OCPNY': 0.22283583664567863, 'AGE_0': 4, 'AVE_QLTH': 0, 'ADDT_Calc': 0, 'layer_1_dpth_in': 12, 'ASS_CALI': nan, 'AGE_t': 50404, 'vehidLIST': {'vehID_k': 'veh_k_Type'}, 'layer1_6in_35_50': 0.38, 'layer3_12in_5_17': 0.20999999999999999, 'meanSpeed': 0, 'ESAL_TOT': 90.74869999999811, 'layer2_6in_10_25': 0.17000000000000001, 'net': <sumolib.net.Net object at 0x000001D36E956D30>, 'Bel_Dic_ID': 48, 'Effort': -1.0, 'edgeID': '387423966', 'AADT_Calc': 16250.270144456639, 'IRI': 52.01293764798257, 'PCR': 93.656991526699926, 'truckCount': 312, 'adaptTraveltime': -1.0, 'Dynamic_Max_Speed': 31.390000000000001} \n",
      "====== RUN_0_0020jn ======\n",
      "\t\t\t\t====== RUN_0_0020jn ======\n",
      "\t\t\t\t====== RUN_0_0020jn ======\n",
      "\n",
      "\n",
      "<><><periodCounter =  8\n",
      "\n",
      "\n",
      "Reset_Edge_CasheFiles has started\n",
      "\n",
      "[[[<><><>]]]\n",
      "Starting myWrite_to_excel()\n",
      "\t PATH_to_Save_to:  /Sumo/runs/BelmontC_AOI_main/BelmontC_AOI-outPUT/BMAOI_C-DataFrames/BMAOI_edgeCasheFILES/Network_RUN_0_0020jn_PeriodBook.xlsx \n",
      "\t Current Worksheet:  <Worksheet \"Period_25201_to_28801\"> \n",
      "\n",
      "[[[<><><>]]]\n",
      "\t\t\t\t<Writing Headers>\n",
      "\n",
      "Please be true ...  False\n",
      "\n",
      ">>>Data written to:: wb[wb.get_sheet_names()[periodCounter-1]]=  <Worksheet \"Period_25201_to_28801\"> \n",
      "\t\t\t\t\t this should match ws:  <Worksheet \"Period_25201_to_28801\"> \n",
      "[[[[<<<<Next Period>>>>]]]]:  Period_28801_to_32401\n",
      "\n",
      "\n",
      "<><><><Changing SUMO EGDE MAX SPEED><><><>\n",
      "\n",
      "\n",
      "[[[[MAX SPEEDS]]]]\t\tCurrent Time: 28801.0 \n",
      "\n",
      "<>-12150712#3  :  0 ; \n",
      "<>><<><><><><\n",
      " -12150712#3 's max speed = 0 \n",
      "\\<><><><\t\t<><><><><><\n",
      "Testing edgeLISTa[48].__dict__ ...\n",
      " {'carCount': 1786, 'originalMAXSPEED': 27.87, 'ADDT_rand': 16250.270144456639, 'SNC': 8.0999999999999996, 'OCPNY': 0.35790917724858384, 'AGE_0': 4, 'AVE_QLTH': 0, 'ADDT_Calc': 0, 'layer_1_dpth_in': 12, 'ASS_CALI': nan, 'AGE_t': 57604, 'vehidLIST': {'vehID_k': 'veh_k_Type'}, 'layer1_6in_35_50': 0.38, 'layer3_12in_5_17': 0.20999999999999999, 'meanSpeed': 1, 'ESAL_TOT': 140.10019999999378, 'layer2_6in_10_25': 0.17000000000000001, 'net': <sumolib.net.Net object at 0x000001D36E956D30>, 'Bel_Dic_ID': 48, 'Effort': -1.0, 'edgeID': '387423966', 'AADT_Calc': 16250.270144456639, 'IRI': 52.01478573673494, 'PCR': 92.279637139485317, 'truckCount': 486, 'adaptTraveltime': -1.0, 'Dynamic_Max_Speed': 31.370000000000001} \n",
      "====== RUN_0_0020jn ======\n",
      "\t\t\t\t====== RUN_0_0020jn ======\n"
     ]
    }
   ],
   "source": [
    "# Take a step(s)\n",
    "SP.Runner.releaseTraci(Start_Time,typeRun,edgeLISTa,PERIOD_VARRIABLE,SUMO_outPUT_PREFIX,periodNamesLISTa,steps_TT)\n",
    "\n",
    "continue01 = 0\n",
    "continue01 = str(input(\"Press x to exit\"))\n",
    "while continue01 != \"x\":\n",
    "    SP.Runner.releaseTraci(Start_Time,typeRun,edgeLISTa,PERIOD_VARRIABLE,SUMO_outPUT_PREFIX,periodNamesLISTa,steps_TT)\n",
    "    continue01 = str(input(\"Press x to exit\"))\n",
    "    break"
   ]
  },
  {
   "cell_type": "code",
   "execution_count": null,
   "metadata": {
    "collapsed": true
   },
   "outputs": [],
   "source": [
    "typeRun = 'T'"
   ]
  },
  {
   "cell_type": "code",
   "execution_count": null,
   "metadata": {
    "collapsed": true
   },
   "outputs": [],
   "source": [
    "traci.close()\n"
   ]
  },
  {
   "cell_type": "markdown",
   "metadata": {
    "collapsed": true
   },
   "source": [
    "Look for \n",
    "Storage(a\n",
    "C:\\Sumo\\runs\\BelmontC_AOI_main\\BelmontC_AOI-outPUT\\BMAOI_C-EmissionFILES\\Emissions_output.xml"
   ]
  },
  {
   "cell_type": "code",
   "execution_count": null,
   "metadata": {
    "collapsed": true
   },
   "outputs": [],
   "source": []
  },
  {
   "cell_type": "code",
   "execution_count": null,
   "metadata": {
    "collapsed": true
   },
   "outputs": [],
   "source": [
    "logger_TEMPDF.loc[1,'ESAL'] = edgeLISTa[1].ESAL_TOT\n",
    "Condition_RTi = 100.00 - (edgeLISTa[1].ESAL_TOT) * 0.01339\n",
    "logger_TEMPDF.loc[1,'Condition_Index'] = Condition_RTi\n",
    "# maxSpeedo = logger_TEMPDF.loc[logger_TEMPDF['Belmont_AVEDic_ID'].str.contains(Belmont_AVEDic[n]),'Original_Max_Speed']\n",
    "maxSpeedo = edgeLISTa[1].originalMAXSPEED\n",
    "maxSpeed_i =(maxSpeedo - (maxSpeedo**((100-Condition_RTi)/96))+4.5675)\n",
    "edgeLISTa[1].Dynamic_Max_Speed = maxSpeed_i"
   ]
  },
  {
   "cell_type": "code",
   "execution_count": null,
   "metadata": {
    "collapsed": true
   },
   "outputs": [],
   "source": [
    "maxSpeed_i"
   ]
  },
  {
   "cell_type": "code",
   "execution_count": null,
   "metadata": {
    "collapsed": true
   },
   "outputs": [],
   "source": [
    "edgeLISTa[1].__dict__"
   ]
  },
  {
   "cell_type": "code",
   "execution_count": null,
   "metadata": {
    "collapsed": true
   },
   "outputs": [],
   "source": [
    "PATH_to_Save_to = \"/Sumo/runs/BelmontC_AOI_main/BelmontC_AOI-outPUT/BMAOI_C-DataFrames/BMAOI_edgeCasheFILES/Network_\" +SUMO_outPUT_PREFIX + \"_PeriodBook.xlsx\"\n",
    "logger_TEMPDF =pd.read_excel(PATH_to_Save_to)\n",
    "logger_TEMPDF.PCR[1]\n"
   ]
  },
  {
   "cell_type": "code",
   "execution_count": null,
   "metadata": {
    "collapsed": true
   },
   "outputs": [],
   "source": [
    "http://onlinepubs.trb.org/Onlinepubs/trr/1989/1215/1215-001.pdf\n",
    "#       PCR(t) = 90 - a * [exp(Age^b)-1] * log(ESAL/SNC^c) a = 0.6349; b = 0.4203; and c = 2.7062"
   ]
  },
  {
   "cell_type": "code",
   "execution_count": null,
   "metadata": {
    "collapsed": true
   },
   "outputs": [],
   "source": [
    "# PATH_Network_DF_Period_0t00_TEMPLATExlsx = '/GitHub/PhD_Modeling/Belmont_AOI_git/Belmont_AOI-runFILES/Network_DF_Period_0t00_TEMPLATE.xlsx'\n",
    "PATH_Network_DF_Period_0t00_TEMPLATExlsx = PATH_Network_DF_Period_0t00_TEMPLATExlsx = '/Dropbox/Phd_R_Ms/PhD_Modeling_DB_GIT/Belmont_AOI_git/Belmont_AOI-runFILES/Network_DF_Period_0t00_TEMPLATE.xlsx'\n",
    "PATH_Network_DF_Period_0t00_TEMPLATExlsx\n",
    "logger_TEMPDF =pd.read_excel(PATH_Network_DF_Period_0t00_TEMPLATExlsx)\n",
    "print(logger_TEMPDF.columns,\"\\nlogger_TEMPDF.AGE_0 = \",logger_TEMPDF.AGE_0)\n"
   ]
  },
  {
   "cell_type": "code",
   "execution_count": null,
   "metadata": {
    "collapsed": true
   },
   "outputs": [],
   "source": [
    "import sumoPython_git_A as SP\n"
   ]
  },
  {
   "cell_type": "code",
   "execution_count": null,
   "metadata": {
    "collapsed": true
   },
   "outputs": [],
   "source": [
    "logger_TEMPDF.loc[1,'AGE_0']"
   ]
  },
  {
   "cell_type": "code",
   "execution_count": null,
   "metadata": {
    "collapsed": true
   },
   "outputs": [],
   "source": [
    "edgeLISTa[1].Dynamic_Max_Speed\n"
   ]
  },
  {
   "cell_type": "code",
   "execution_count": null,
   "metadata": {
    "collapsed": true
   },
   "outputs": [],
   "source": [
    "logger_TEMPDF.loc[logger_TEMPDF['Belmont_AVEDic_ID'].str.contains(edgeLISTa[1].edgeID),'Dynamic_Max_Speed'] #== edgeLISTa[1].Dynamic_Max_Speed\n",
    "\n"
   ]
  },
  {
   "cell_type": "code",
   "execution_count": null,
   "metadata": {
    "collapsed": true
   },
   "outputs": [],
   "source": [
    "age_t = 4\n",
    "ESAL = 2\n",
    "SNC=2"
   ]
  },
  {
   "cell_type": "code",
   "execution_count": null,
   "metadata": {
    "collapsed": true
   },
   "outputs": [],
   "source": [
    "PCCR = 90-0.6349 * (np.exp(age_t**0.4203)-1) * np.log(ESAL/(SNC**2.7062))\n",
    "IRRI = 52 + 8.1 * ()"
   ]
  },
  {
   "cell_type": "code",
   "execution_count": null,
   "metadata": {
    "collapsed": true
   },
   "outputs": [],
   "source": [
    "age_now = (self.AGE_0+self.AGE_t/31556926)"
   ]
  },
  {
   "cell_type": "code",
   "execution_count": null,
   "metadata": {
    "collapsed": true,
    "scrolled": true
   },
   "outputs": [],
   "source": []
  },
  {
   "cell_type": "code",
   "execution_count": null,
   "metadata": {
    "collapsed": true
   },
   "outputs": [],
   "source": [
    "def set_some_more_try_to_integrate(edgeLISTa,logger_TEMPDF):\n",
    "    for n in range(len(edgeLISTa)):\n",
    "        edgeLISTa[n].AGE_0 = logger_TEMPDF.loc[n,'AGE_0']\n",
    "        edgeLISTa[n].ADDT_rand = logger_TEMPDF.loc[n,'ADTT_rand']\n",
    "        edgeLISTa[n].ASS_CALI = logger_TEMPDF.loc[n,'ASS_CALI']\n",
    "        edgeLISTa[n].SNC = logger_TEMPDF.loc[n,'SNC']\n",
    "        edgeLISTa[n].layer_1_dpth_in = logger_TEMPDF.loc[n,'layer_1_dpth_in']\n",
    "        edgeLISTa[n].layer1_6in_35_50 = logger_TEMPDF.loc[n,'layer1_6in_35_50']\n",
    "        edgeLISTa[n].layer2_6in_10_25 = logger_TEMPDF.loc[n,'layer2_6in_10_25']\n",
    "        edgeLISTa[n].layer3_12in_5_17 = logger_TEMPDF.loc[n,'layer3_12in_5_17']\n",
    "        edgeLISTa[n].AADT_Calc = logger_TEMPDF.loc[n,'ADTT_rand']\n",
    "\n",
    "set_some_more_try_to_integrate(edgeLISTa,logger_TEMPDF)\n",
    "self.meanSpeed = int(traci.edge.getLastStepMeanSpeed(self.edgeID))\n",
    "self.PCR = 90-0.6349 * (np.exp((self.AGE_0+self.AGE_t/31556926)**0.4203)-1) * np.log(self.ESAL_TOT/((self.SNC)**2.7062)\n",
    "\n",
    "self.IRI = 52+8.1*((self.AGE_0+self.AGE_t/31556926))+0.0009*self.ADDT_Calc\n",
    "\n",
    "edgeLISTa[1].__dict__"
   ]
  }
 ],
 "metadata": {
  "kernelspec": {
   "display_name": "Python 3",
   "language": "python",
   "name": "python3"
  },
  "language_info": {
   "codemirror_mode": {
    "name": "ipython",
    "version": 3
   },
   "file_extension": ".py",
   "mimetype": "text/x-python",
   "name": "python",
   "nbconvert_exporter": "python",
   "pygments_lexer": "ipython3",
   "version": "3.5.4"
  }
 },
 "nbformat": 4,
 "nbformat_minor": 2
}
