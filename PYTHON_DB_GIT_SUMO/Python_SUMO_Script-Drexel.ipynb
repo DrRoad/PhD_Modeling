{
 "cells": [
  {
   "cell_type": "markdown",
   "metadata": {},
   "source": [
    "## Lasted Worked on 2/25/2018"
   ]
  },
  {
   "cell_type": "code",
   "execution_count": 1,
   "metadata": {
    "collapsed": true
   },
   "outputs": [],
   "source": [
    "import numpy as np\n",
    "import traci\n",
    "import traci.constants as tc\n",
    "import re\n",
    "import time\n",
    "import sumolib\n",
    "# import cProfile, pstats , io\n",
    "import pandas as pd\n",
    "import openpyxl as OPENxlsx\n",
    "\n",
    "\n",
    "pd.set_option('display.max_rows', 5)"
   ]
  },
  {
   "cell_type": "code",
   "execution_count": 2,
   "metadata": {},
   "outputs": [
    {
     "name": "stdout",
     "output_type": "stream",
     "text": [
      "\n",
      "\t\t<><><> press d to run from Drexel location <><><>d\n",
      "loading_FROM =  d\n",
      "configPATH =  C:/Dropbox/Phd_R_Ms/PhD_Modeling_DB_GIT/Belmont_AOI_git/Belmont_AOI-runFILES/BMAOI_TRACI_DXL.sumocfg\n"
     ]
    }
   ],
   "source": [
    "loading_FROM = input(\"\\n\\t\\t<><><> press d to run from Drexel location <><><>\")\n",
    "print(\"loading_FROM = \",loading_FROM)\n",
    "if loading_FROM == str(\"d\"):\n",
    "\tconfigPATH = \"C:/Dropbox/Phd_R_Ms/PhD_Modeling_DB_GIT/Belmont_AOI_git/Belmont_AOI-runFILES/BMAOI_TRACI_DXL.sumocfg\"\n",
    "else:\n",
    "\tconfigPATH = \"C:/Dropbox/Phd_R_Ms/PhD_Modeling_DB_GIT/Belmont_AOI_git/Belmont_AOI-runFILES/BMAOI_TRACI_DB.sumocfg\"\n",
    "print(\"configPATH = \",configPATH)"
   ]
  },
  {
   "cell_type": "code",
   "execution_count": 3,
   "metadata": {},
   "outputs": [
    {
     "name": "stdout",
     "output_type": "stream",
     "text": [
      "\n",
      "\t\t<><><> press d to run from Drexel location <><><>d\n",
      "loading_FROM =  d\n",
      "configPATH =  C:/Dropbox/Phd_R_Ms/PhD_Modeling_DB_GIT/Belmont_AOI_git/Belmont_AOI-runFILES/BMAOI_TRACI_DXL.sumocfg\n",
      "Your new sumoPython_git_A has been loaded!\n"
     ]
    }
   ],
   "source": [
    "import sumoPython_git_A as SP"
   ]
  },
  {
   "cell_type": "code",
   "execution_count": null,
   "metadata": {},
   "outputs": [
    {
     "name": "stdout",
     "output_type": "stream",
     "text": [
      "\n",
      "\n",
      "Press [1] to enter a user defined Period_Interval.\n",
      "Press anything else to continue default is seconds 3600 or 1 hour? ... \n",
      "\n",
      "\n",
      "PERIOD_VARRIABLE =  3600 \n",
      "\n",
      "    <output-prefix value=\"BMAOI-DXL_RUN_0_002bjn-\"/>\n",
      "\n",
      "    <output-prefix value=\"BMAOI-DXL_RUN_0_002bjn-\"/>\n",
      "\n",
      "    <output-prefix value=\"BMAOI-DXL_RUN_0_002bjn-\"/>\n",
      "\n",
      "Press Zero to use GUI? (0)\n",
      "\n",
      "Confirm with: BMAOI-TRACI.sumocfg .. port in File: ..5454\n",
      "Please select a port...\t\n",
      "\n",
      "\t\tTrying port ..   5454 \n",
      "\n",
      "\n",
      "\n",
      "useCase =  1\n",
      "\n",
      "Beginning Journey Now\n",
      "\tPlease See Gui for Show\n",
      "\n",
      "\n",
      "\n",
      "Push T to Run Simulation until the END\n",
      "Push 2 to run for XXX STEPS\n",
      "Push 3 to run for X number of PERIODS\n",
      "Push 4 to run until input TIME\n",
      "Current Step_Time : 1.0\n",
      "\n",
      "\tEnter Run Type Here: t\n",
      "You pressed t = Run forEVER!!!\n",
      "====== DXL_RUN_0_002bjn ======\n",
      "\n",
      "\t\t\t\t<><>Please wait creating Edge Instances<><>\n",
      "\n",
      "Edge =  47 <><><><><><><><><><><><><><><><><><><><><><><><><><><><><><><><><><><><><><><><><><><><><><><>\n",
      "Edge =  48 \n",
      "Edge =  49 \n",
      "Edge =  50 \n",
      "Edge =  51 \n",
      "Edge =  52 \n",
      "Edge =  53 >\n",
      "Edge =  54 ><>\n",
      "Edge =  55 ><><>\n",
      "Edge =  56 ><><><>\n",
      "Edge =  57 ><><><><>\n",
      "Edge =  58 ><><><><><>\n",
      "Edge =  59 ><><><><><><>\n",
      "Edge =  60 ><><><><><><><>\n",
      "Edge =  61 ><><><><><><><><>\n",
      "Edge =  62 ><><><><><><><><><>\n",
      "Edge =  63 ><><><><><><><><><><>\n",
      "Edge =  64 ><><><><><><><><><><><>\n",
      "Edge =  65 ><><><><><><><><><><><><>\n",
      "Edge =  66 ><><><><><><><><><><><><><>\n",
      "Edge =  67 ><><><><><><><><><><><><><><>\n",
      "Edge =  68 ><><><><><><><><><><><><><><><>\n",
      "Edge =  69 ><><><><><><><><><><><><><><><><>\n",
      "Edge =  70 ><><><><><><><><><><><><><><><><><>\n",
      "Edge =  71 ><><><><><><><><><><><><><><><><><><>\n",
      "Edge =  72 ><><><><><><><><><><><><><><><><><><><>\n",
      "Edge =  73 ><><><><><><><><><><><><><><><><><><><><>\n",
      "Edge =  74 ><><><><><><><><><><><><><><><><><><><><><>\n",
      "Edge =  75 ><><><><><><><><><><><><><><><><><><><><><><>\n",
      "Edge =  76 ><><><><><><><><><><><><><><><><><><><><><><><>\n",
      "Edge =  77 ><><><><><><><><><><><><><><><><><><><><><><><><>\n",
      "Edge =  78 ><><><><><><><><><><><><><><><><><><><><><><><><><>\n",
      "Edge =  79 ><><><><><><><><><><><><><><><><><><><><><><><><><><>\n",
      "<><><><><><><><><><><><><><><><><><><><><><><><><><><><><><><><><>\n",
      "\t\t\t\t<<<Edge Instances loaded on edgeLISTa>>>\n",
      "\n",
      "Testing edgeLISTa[4].__dict__ ...\n",
      " {'carCount': 0, 'truckCount': 0, 'ESAL_TOT': 0, 'adaptTraveltime': -1.0, 'Effort': -1.0, 'Dynamic_Max_Speed': 27.87, 'meanSpeed': 27.78, 'PCR': 0, 'IRI': 0, 'AVE_QLTH': 0, 'ADDT_rand': 10691.596634859639, 'ADDT_Calc': 0, 'AGE_0': 1, 'SNC': 10.579999999999998, 'layer_1_dpth_in': 14, 'layer1_6in_35_50': 0.48999999999999999, 'layer2_6in_10_25': 0.12, 'layer3_12in_5_17': 0.25, 'ASS_CALI': nan, 'AGE_t': 1, 'edgeID': '-196358954#0', 'Bel_Dic_ID': 4, 'net': <sumolib.net.Net object at 0x00000275CCF3F860>, 'vehidLIST': {'vehID_k': 'veh_k_Type'}, 'originalMAXSPEED': 27.87, 'AADT_Calc': 10691.596634859639} \n",
      "\n",
      "Loading and creating Excel Network File SUMO_outPUT_PREFIX =  DXL_RUN_0_002bjn\n",
      "\n",
      "wb.get_sheet_names()[0] =  Sheet\n",
      "\n",
      "Removing wb.get_sheet_names()[0] =  Sheet\n",
      "\n",
      "wb.get_sheet_names()[0] =  Sheet\n",
      "\n",
      "Removing wb.get_sheet_names()[0] =  Sheet\n"
     ]
    }
   ],
   "source": [
    "\n",
    "PERIOD_VARRIABLE = SP.Initializer.inputPeriod_asNumber(new=1)\n",
    "fileINFO = SP.RunFileInfo.GetSimulationRunPrefix(loading_FROM=loading_FROM,display=0)\n",
    "SUMO_outPUT_PREFIX = SP.RunFileInfo.GetSimulationRunPrefix(loading_FROM=loading_FROM,display=0)[0]\n",
    "SUMO_Traci_PORT = int(SP.RunFileInfo.GetSimulationRunPrefix(loading_FROM=loading_FROM,display=0)[1])\n",
    "SP.Initializer.startSUMO(SUMO_Traci_PORT,useCase=str(1))\n",
    "    # Ask for Steps to take or Time to run until\n",
    "typeRun = SP.Runner.runtypeAsker()\n",
    "Start_Time = int(traci.simulation.getCurrentTime()/1000) #SP.Initializer.runSUMO(SUMO_Traci_PORT,useCase=\"Continue\")[0]\n",
    "# estimated_Run_Time = input(\"...\\n\\n\\nHow long will you run this file for... \")\n",
    "# if estimated_Run_Time == '':\n",
    "estimated_Run_Time = 90000\n",
    "    # print(\"You did not specify how long you wanted to run until so the default value = \", estimated_Run_Time)\n",
    "steps_TT = int(estimated_Run_Time)\n",
    "# Initalize Files\n",
    "print(\"======\",SUMO_outPUT_PREFIX,\"======\")\n",
    "edgeLISTa = SP.Edge.create_Edge_Instances()\n",
    "wb = SP.Network_Period.load_n_create_Excel_NetworkFile(SUMO_outPUT_PREFIX,PERIOD_VARRIABLE,steps_TT,PATH=None)[0]\n",
    "periodNamesLISTa = SP.Network_Period.load_n_create_Excel_NetworkFile(SUMO_outPUT_PREFIX,PERIOD_VARRIABLE,steps_TT,display=0)[1]\n",
    "\n"
   ]
  },
  {
   "cell_type": "code",
   "execution_count": null,
   "metadata": {
    "scrolled": false
   },
   "outputs": [
    {
     "name": "stdout",
     "output_type": "stream",
     "text": [
      "\t\t\t\t====== DXL_RUN_0_002bjn ======\n",
      "\t\t\t\t====== DXL_RUN_0_002bjn ======\n",
      "\n",
      "\n",
      "<><><periodCounter =  1\n",
      "\n",
      "\n",
      "Reset_Edge_CasheFiles has started\n",
      "\n",
      "[[[<><><>]]]\n",
      "Starting myWrite_to_excel()\n",
      "\t PATH_to_Save_to:  /Dropbox/Phd_R_Ms/PhD_Modeling_DB_GIT/BMAOI_Dbox-DataFrames/Network_DXL_RUN_0_002bjn_PeriodBook.xlsx \n",
      "\t Current Worksheet:  <Worksheet \"Period_1_to_3601\"> \n",
      "\n",
      "[[[<><><>]]]\n",
      "\t\t\t\t<Writing Headers>\n",
      "\n",
      "Please be true ...  False\n",
      "\n",
      ">>>Data written to:: wb[wb.get_sheet_names()[periodCounter-1]]=  <Worksheet \"Period_1_to_3601\"> \n",
      "\t\t\t\t\t this should match ws:  <Worksheet \"Period_1_to_3601\"> \n",
      "[[[[<<<<Next Period>>>>]]]]:  Period_3601_to_7201\n",
      "\n",
      "\n",
      "<><><><Changing SUMO EGDE MAX SPEED><><><>\n",
      "\n",
      "\n",
      "[[[[MAX SPEEDS]]]]\t\tCurrent Time: 3601.0 \n",
      "\n",
      "<>-12150712#3  :  31.44 ; \n",
      "<>><<><><><><\n",
      " -12150712#3 's max speed = 31.44 \n",
      "\\<><><><\t\t<><><><><><\n",
      "Testing edgeLISTa[48].__dict__ ...\n",
      " {'carCount': 193, 'truckCount': 52, 'ESAL_TOT': 13.33510000000001, 'adaptTraveltime': -1.0, 'Effort': -1.0, 'Dynamic_Max_Speed': 31.43, 'meanSpeed': 4, 'PCR': 99.736851843261988, 'IRI': 52.001849115468346, 'AVE_QLTH': 0, 'ADDT_rand': 16250.270144456639, 'ADDT_Calc': 0, 'AGE_0': 4, 'SNC': 8.0999999999999996, 'layer_1_dpth_in': 12, 'layer1_6in_35_50': 0.38, 'layer2_6in_10_25': 0.17000000000000001, 'layer3_12in_5_17': 0.20999999999999999, 'ASS_CALI': nan, 'AGE_t': 7204, 'edgeID': '387423966', 'Bel_Dic_ID': 48, 'net': <sumolib.net.Net object at 0x00000275E484F630>, 'vehidLIST': {'vehID_k': 'veh_k_Type'}, 'originalMAXSPEED': 27.87, 'AADT_Calc': 16250.270144456639, 'OCPNY': 0.06718491681029934} \n",
      "====== DXL_RUN_0_002bjn ======\n",
      "\t\t\t\t====== DXL_RUN_0_002bjn ======\n",
      "\t\t\t\t====== DXL_RUN_0_002bjn ======\n",
      "\n",
      "\n",
      "<><><periodCounter =  2\n",
      "\n",
      "\n",
      "Reset_Edge_CasheFiles has started\n",
      "\n",
      "[[[<><><>]]]\n",
      "Starting myWrite_to_excel()\n",
      "\t PATH_to_Save_to:  /Dropbox/Phd_R_Ms/PhD_Modeling_DB_GIT/BMAOI_Dbox-DataFrames/Network_DXL_RUN_0_002bjn_PeriodBook.xlsx \n",
      "\t Current Worksheet:  <Worksheet \"Period_3601_to_7201\"> \n",
      "\n",
      "[[[<><><>]]]\n",
      "\t\t\t\t<Writing Headers>\n",
      "\n",
      "Please be true ...  False\n",
      "\n",
      ">>>Data written to:: wb[wb.get_sheet_names()[periodCounter-1]]=  <Worksheet \"Period_3601_to_7201\"> \n",
      "\t\t\t\t\t this should match ws:  <Worksheet \"Period_3601_to_7201\"> \n",
      "[[[[<<<<Next Period>>>>]]]]:  Period_7201_to_10801\n",
      "\n",
      "\n",
      "<><><><Changing SUMO EGDE MAX SPEED><><><>\n",
      "\n",
      "\n",
      "[[[[MAX SPEEDS]]]]\t\tCurrent Time: 7201.0 \n",
      "\n",
      "<>-12150712#3  :  31.44 ; \n",
      "<>><<><><><><\n",
      " -12150712#3 's max speed = 31.44 \n",
      "\\<><><><\t\t<><><><><><\n",
      "Testing edgeLISTa[48].__dict__ ...\n",
      " {'carCount': 316, 'truckCount': 82, 'ESAL_TOT': 26.6711999999999, 'adaptTraveltime': -1.0, 'Effort': -1.0, 'Dynamic_Max_Speed': 31.43, 'meanSpeed': 5, 'PCR': 97.539158425143498, 'IRI': 52.003697204220714, 'AVE_QLTH': 0, 'ADDT_rand': 16250.270144456639, 'ADDT_Calc': 0, 'AGE_0': 4, 'SNC': 8.0999999999999996, 'layer_1_dpth_in': 12, 'layer1_6in_35_50': 0.38, 'layer2_6in_10_25': 0.17000000000000001, 'layer3_12in_5_17': 0.20999999999999999, 'ASS_CALI': nan, 'AGE_t': 14404, 'edgeID': '387423966', 'Bel_Dic_ID': 48, 'net': <sumolib.net.Net object at 0x00000275E484F630>, 'vehidLIST': {'vehID_k': 'veh_k_Type'}, 'originalMAXSPEED': 27.87, 'AADT_Calc': 16250.270144456639, 'OCPNY': 0.06454676562664885} \n",
      "====== DXL_RUN_0_002bjn ======\n",
      "\t\t\t\t====== DXL_RUN_0_002bjn ======\n",
      "\t\t\t\t====== DXL_RUN_0_002bjn ======\n",
      "\n",
      "\n",
      "<><><periodCounter =  3\n",
      "\n",
      "\n",
      "Reset_Edge_CasheFiles has started\n",
      "\n",
      "[[[<><><>]]]\n",
      "Starting myWrite_to_excel()\n",
      "\t PATH_to_Save_to:  /Dropbox/Phd_R_Ms/PhD_Modeling_DB_GIT/BMAOI_Dbox-DataFrames/Network_DXL_RUN_0_002bjn_PeriodBook.xlsx \n",
      "\t Current Worksheet:  <Worksheet \"Period_7201_to_10801\"> \n",
      "\n",
      "[[[<><><>]]]\n",
      "\t\t\t\t<Writing Headers>\n",
      "\n",
      "Please be true ...  False\n",
      "\n",
      ">>>Data written to:: wb[wb.get_sheet_names()[periodCounter-1]]=  <Worksheet \"Period_7201_to_10801\"> \n",
      "\t\t\t\t\t this should match ws:  <Worksheet \"Period_7201_to_10801\"> \n",
      "[[[[<<<<Next Period>>>>]]]]:  Period_10801_to_14401\n",
      "\n",
      "\n",
      "<><><><Changing SUMO EGDE MAX SPEED><><><>\n",
      "\n",
      "\n",
      "[[[[MAX SPEEDS]]]]\t\tCurrent Time: 10801.0 \n",
      "\n",
      "<>-12150712#3  :  31.44 ; \n",
      "<>><<><><><><\n",
      " -12150712#3 's max speed = 31.44 \n",
      "\\<><><><\t\t<><><><><><\n",
      "Testing edgeLISTa[48].__dict__ ...\n",
      " {'carCount': 397, 'truckCount': 102, 'ESAL_TOT': 30.477899999999796, 'adaptTraveltime': -1.0, 'Effort': -1.0, 'Dynamic_Max_Speed': 31.43, 'meanSpeed': 4, 'PCR': 97.116437684985826, 'IRI': 52.00554529297309, 'AVE_QLTH': 0, 'ADDT_rand': 16250.270144456639, 'ADDT_Calc': 0, 'AGE_0': 4, 'SNC': 8.0999999999999996, 'layer_1_dpth_in': 12, 'layer1_6in_35_50': 0.38, 'layer2_6in_10_25': 0.17000000000000001, 'layer3_12in_5_17': 0.20999999999999999, 'ASS_CALI': nan, 'AGE_t': 21604, 'edgeID': '387423966', 'Bel_Dic_ID': 48, 'net': <sumolib.net.Net object at 0x00000275E484F630>, 'vehidLIST': {'vehID_k': 'veh_k_Type'}, 'originalMAXSPEED': 27.87, 'AADT_Calc': 16250.270144456639, 'OCPNY': 0.05557705160223715} \n",
      "====== DXL_RUN_0_002bjn ======\n",
      "\t\t\t\t====== DXL_RUN_0_002bjn ======\n",
      "\t\t\t\t====== DXL_RUN_0_002bjn ======\n",
      "\n",
      "\n",
      "<><><periodCounter =  4\n",
      "\n",
      "\n",
      "Reset_Edge_CasheFiles has started\n",
      "\n",
      "[[[<><><>]]]\n",
      "Starting myWrite_to_excel()\n",
      "\t PATH_to_Save_to:  /Dropbox/Phd_R_Ms/PhD_Modeling_DB_GIT/BMAOI_Dbox-DataFrames/Network_DXL_RUN_0_002bjn_PeriodBook.xlsx \n",
      "\t Current Worksheet:  <Worksheet \"Period_10801_to_14401\"> \n",
      "\n",
      "[[[<><><>]]]\n",
      "\t\t\t\t<Writing Headers>\n",
      "\n",
      "Please be true ...  False\n",
      "\n",
      ">>>Data written to:: wb[wb.get_sheet_names()[periodCounter-1]]=  <Worksheet \"Period_10801_to_14401\"> \n",
      "\t\t\t\t\t this should match ws:  <Worksheet \"Period_10801_to_14401\"> \n",
      "[[[[<<<<Next Period>>>>]]]]:  Period_14401_to_18001\n",
      "\n",
      "\n",
      "<><><><Changing SUMO EGDE MAX SPEED><><><>\n",
      "\n",
      "\n",
      "[[[[MAX SPEEDS]]]]\t\tCurrent Time: 14401.0 \n",
      "\n",
      "<>-12150712#3  :  31.44 ; \n",
      "<>><<><><><><\n",
      " -12150712#3 's max speed = 31.44 \n",
      "\\<><><><\t\t<><><><><><\n",
      "Testing edgeLISTa[48].__dict__ ...\n",
      " {'carCount': 456, 'truckCount': 122, 'ESAL_TOT': 36.26919999999982, 'adaptTraveltime': -1.0, 'Effort': -1.0, 'Dynamic_Max_Speed': 31.43, 'meanSpeed': 7, 'PCR': 96.565071192773104, 'IRI': 52.00739338172546, 'AVE_QLTH': 0, 'ADDT_rand': 16250.270144456639, 'ADDT_Calc': 0, 'AGE_0': 4, 'SNC': 8.0999999999999996, 'layer_1_dpth_in': 12, 'layer1_6in_35_50': 0.38, 'layer2_6in_10_25': 0.17000000000000001, 'layer3_12in_5_17': 0.20999999999999999, 'ASS_CALI': nan, 'AGE_t': 28804, 'edgeID': '387423966', 'Bel_Dic_ID': 48, 'net': <sumolib.net.Net object at 0x00000275E484F630>, 'vehidLIST': {'vehID_k': 'veh_k_Type'}, 'originalMAXSPEED': 27.87, 'AADT_Calc': 16250.270144456639, 'OCPNY': 0.059798093496077946} \n",
      "====== DXL_RUN_0_002bjn ======\n",
      "\t\t\t\t====== DXL_RUN_0_002bjn ======\n",
      "\t\t\t\t====== DXL_RUN_0_002bjn ======\n",
      "\n",
      "\n",
      "<><><periodCounter =  5\n",
      "\n",
      "\n",
      "Reset_Edge_CasheFiles has started\n",
      "\n",
      "[[[<><><>]]]\n",
      "Starting myWrite_to_excel()\n",
      "\t PATH_to_Save_to:  /Dropbox/Phd_R_Ms/PhD_Modeling_DB_GIT/BMAOI_Dbox-DataFrames/Network_DXL_RUN_0_002bjn_PeriodBook.xlsx \n",
      "\t Current Worksheet:  <Worksheet \"Period_14401_to_18001\"> \n",
      "\n",
      "[[[<><><>]]]\n",
      "\t\t\t\t<Writing Headers>\n",
      "\n",
      "Please be true ...  False\n",
      "\n",
      ">>>Data written to:: wb[wb.get_sheet_names()[periodCounter-1]]=  <Worksheet \"Period_14401_to_18001\"> \n",
      "\t\t\t\t\t this should match ws:  <Worksheet \"Period_14401_to_18001\"> \n",
      "[[[[<<<<Next Period>>>>]]]]:  Period_18001_to_21601\n",
      "\n",
      "\n",
      "<><><><Changing SUMO EGDE MAX SPEED><><><>\n",
      "\n",
      "\n",
      "[[[[MAX SPEEDS]]]]\t\tCurrent Time: 18001.0 \n",
      "\n",
      "<>-12150712#3  :  31.43 ; \n",
      "<>><<><><><><\n",
      " -12150712#3 's max speed = 31.43 \n",
      "\\<><><><\t\t<><><><><><\n",
      "Testing edgeLISTa[48].__dict__ ...\n",
      " {'carCount': 535, 'truckCount': 149, 'ESAL_TOT': 40.27450000000001, 'adaptTraveltime': -1.0, 'Effort': -1.0, 'Dynamic_Max_Speed': 31.420000000000002, 'meanSpeed': 6, 'PCR': 96.233180944684378, 'IRI': 52.009241470477825, 'AVE_QLTH': 0, 'ADDT_rand': 16250.270144456639, 'ADDT_Calc': 0, 'AGE_0': 4, 'SNC': 8.0999999999999996, 'layer_1_dpth_in': 12, 'layer1_6in_35_50': 0.38, 'layer2_6in_10_25': 0.17000000000000001, 'layer3_12in_5_17': 0.20999999999999999, 'ASS_CALI': nan, 'AGE_t': 36004, 'edgeID': '387423966', 'Bel_Dic_ID': 48, 'net': <sumolib.net.Net object at 0x00000275E484F630>, 'vehidLIST': {'vehID_k': 'veh_k_Type'}, 'originalMAXSPEED': 27.87, 'AADT_Calc': 16250.270144456639, 'OCPNY': 0.05944634000492455} \n",
      "====== DXL_RUN_0_002bjn ======\n",
      "\t\t\t\t====== DXL_RUN_0_002bjn ======\n",
      "\t\t\t\t====== DXL_RUN_0_002bjn ======\n",
      "\n",
      "\n",
      "<><><periodCounter =  6\n",
      "\n",
      "\n",
      "Reset_Edge_CasheFiles has started\n",
      "\n",
      "[[[<><><>]]]\n",
      "Starting myWrite_to_excel()\n",
      "\t PATH_to_Save_to:  /Dropbox/Phd_R_Ms/PhD_Modeling_DB_GIT/BMAOI_Dbox-DataFrames/Network_DXL_RUN_0_002bjn_PeriodBook.xlsx \n",
      "\t Current Worksheet:  <Worksheet \"Period_18001_to_21601\"> \n",
      "\n",
      "[[[<><><>]]]\n",
      "\t\t\t\t<Writing Headers>\n",
      "\n",
      "Please be true ...  False\n"
     ]
    },
    {
     "name": "stdout",
     "output_type": "stream",
     "text": [
      "\n",
      ">>>Data written to:: wb[wb.get_sheet_names()[periodCounter-1]]=  <Worksheet \"Period_18001_to_21601\"> \n",
      "\t\t\t\t\t this should match ws:  <Worksheet \"Period_18001_to_21601\"> \n",
      "[[[[<<<<Next Period>>>>]]]]:  Period_21601_to_25201\n",
      "\n",
      "\n",
      "<><><><Changing SUMO EGDE MAX SPEED><><><>\n",
      "\n",
      "\n",
      "[[[[MAX SPEEDS]]]]\t\tCurrent Time: 21601.0 \n",
      "\n",
      "<>-12150712#3  :  31.43 ; \n",
      "<>><<><><><><\n",
      " -12150712#3 's max speed = 31.43 \n",
      "\\<><><><\t\t<><><><><><\n",
      "Testing edgeLISTa[48].__dict__ ...\n",
      " {'carCount': 740, 'truckCount': 189, 'ESAL_TOT': 51.16800000000046, 'adaptTraveltime': -1.0, 'Effort': -1.0, 'Dynamic_Max_Speed': 31.41, 'meanSpeed': 2, 'PCR': 95.47418466180801, 'IRI': 52.0110895592302, 'AVE_QLTH': 0, 'ADDT_rand': 16250.270144456639, 'ADDT_Calc': 0, 'AGE_0': 4, 'SNC': 8.0999999999999996, 'layer_1_dpth_in': 12, 'layer1_6in_35_50': 0.38, 'layer2_6in_10_25': 0.17000000000000001, 'layer3_12in_5_17': 0.20999999999999999, 'ASS_CALI': nan, 'AGE_t': 43204, 'edgeID': '387423966', 'Bel_Dic_ID': 48, 'net': <sumolib.net.Net object at 0x00000275E484F630>, 'vehidLIST': {'vehID_k': 'veh_k_Type'}, 'originalMAXSPEED': 27.87, 'AADT_Calc': 16250.270144456639, 'OCPNY': 0.0895212634985402} \n",
      "====== DXL_RUN_0_002bjn ======\n",
      "\t\t\t\t====== DXL_RUN_0_002bjn ======\n",
      "\t\t\t\t====== DXL_RUN_0_002bjn ======\n",
      "\n",
      "\n",
      "<><><periodCounter =  7\n",
      "\n",
      "\n",
      "Reset_Edge_CasheFiles has started\n",
      "\n",
      "[[[<><><>]]]\n",
      "Starting myWrite_to_excel()\n",
      "\t PATH_to_Save_to:  /Dropbox/Phd_R_Ms/PhD_Modeling_DB_GIT/BMAOI_Dbox-DataFrames/Network_DXL_RUN_0_002bjn_PeriodBook.xlsx \n",
      "\t Current Worksheet:  <Worksheet \"Period_21601_to_25201\"> \n",
      "\n",
      "[[[<><><>]]]\n",
      "\t\t\t\t<Writing Headers>\n",
      "\n",
      "Please be true ...  False\n",
      "\n",
      ">>>Data written to:: wb[wb.get_sheet_names()[periodCounter-1]]=  <Worksheet \"Period_21601_to_25201\"> \n",
      "\t\t\t\t\t this should match ws:  <Worksheet \"Period_21601_to_25201\"> \n",
      "[[[[<<<<Next Period>>>>]]]]:  Period_25201_to_28801\n",
      "\n",
      "\n",
      "<><><><Changing SUMO EGDE MAX SPEED><><><>\n",
      "\n",
      "\n",
      "[[[[MAX SPEEDS]]]]\t\tCurrent Time: 25201.0 \n",
      "\n",
      "<>-12150712#3  :  31.43 ; \n",
      "<>><<><><><><\n",
      " -12150712#3 's max speed = 31.43 \n",
      "\\<><><><\t\t<><><><><><\n",
      "Testing edgeLISTa[48].__dict__ ...\n",
      " {'carCount': 1144, 'truckCount': 313, 'ESAL_TOT': 89.35079999999948, 'adaptTraveltime': -1.0, 'Effort': -1.0, 'Dynamic_Max_Speed': 31.390000000000001, 'meanSpeed': 0, 'PCR': 93.706233049482663, 'IRI': 52.01293764798257, 'AVE_QLTH': 0, 'ADDT_rand': 16250.270144456639, 'ADDT_Calc': 0, 'AGE_0': 4, 'SNC': 8.0999999999999996, 'layer_1_dpth_in': 12, 'layer1_6in_35_50': 0.38, 'layer2_6in_10_25': 0.17000000000000001, 'layer3_12in_5_17': 0.20999999999999999, 'ASS_CALI': nan, 'AGE_t': 50404, 'edgeID': '387423966', 'Bel_Dic_ID': 48, 'net': <sumolib.net.Net object at 0x00000275E484F630>, 'vehidLIST': {'vehID_k': 'veh_k_Type'}, 'originalMAXSPEED': 27.87, 'AADT_Calc': 16250.270144456639, 'OCPNY': 0.14545006859193074} \n",
      "====== DXL_RUN_0_002bjn ======\n",
      "\t\t\t\t====== DXL_RUN_0_002bjn ======\n",
      "\t\t\t\t====== DXL_RUN_0_002bjn ======\n",
      "\n",
      "\n",
      "<><><periodCounter =  8\n",
      "\n",
      "\n",
      "Reset_Edge_CasheFiles has started\n",
      "\n",
      "[[[<><><>]]]\n",
      "Starting myWrite_to_excel()\n",
      "\t PATH_to_Save_to:  /Dropbox/Phd_R_Ms/PhD_Modeling_DB_GIT/BMAOI_Dbox-DataFrames/Network_DXL_RUN_0_002bjn_PeriodBook.xlsx \n",
      "\t Current Worksheet:  <Worksheet \"Period_25201_to_28801\"> \n",
      "\n",
      "[[[<><><>]]]\n",
      "\t\t\t\t<Writing Headers>\n",
      "\n",
      "Please be true ...  False\n",
      "\n",
      ">>>Data written to:: wb[wb.get_sheet_names()[periodCounter-1]]=  <Worksheet \"Period_25201_to_28801\"> \n",
      "\t\t\t\t\t this should match ws:  <Worksheet \"Period_25201_to_28801\"> \n",
      "[[[[<<<<Next Period>>>>]]]]:  Period_28801_to_32401\n",
      "\n",
      "\n",
      "<><><><Changing SUMO EGDE MAX SPEED><><><>\n",
      "\n",
      "\n",
      "[[[[MAX SPEEDS]]]]\t\tCurrent Time: 28801.0 \n",
      "\n",
      "<>-12150712#3  :  31.42 ; \n",
      "<>><<><><><><\n",
      " -12150712#3 's max speed = 31.42 \n",
      "\\<><><><\t\t<><><><><><\n",
      "Testing edgeLISTa[48].__dict__ ...\n",
      " {'carCount': 1772, 'truckCount': 492, 'ESAL_TOT': 133.9403999999952, 'adaptTraveltime': -1.0, 'Effort': -1.0, 'Dynamic_Max_Speed': 31.370000000000001, 'meanSpeed': 1, 'PCR': 92.422265663099466, 'IRI': 52.01478573673494, 'AVE_QLTH': 0, 'ADDT_rand': 16250.270144456639, 'ADDT_Calc': 0, 'AGE_0': 4, 'SNC': 8.0999999999999996, 'layer_1_dpth_in': 12, 'layer1_6in_35_50': 0.38, 'layer2_6in_10_25': 0.17000000000000001, 'layer3_12in_5_17': 0.20999999999999999, 'ASS_CALI': nan, 'AGE_t': 57604, 'edgeID': '387423966', 'Bel_Dic_ID': 48, 'net': <sumolib.net.Net object at 0x00000275E484F630>, 'vehidLIST': {'vehID_k': 'veh_k_Type'}, 'originalMAXSPEED': 27.87, 'AADT_Calc': 16250.270144456639, 'OCPNY': 0.3896364714602183} \n",
      "====== DXL_RUN_0_002bjn ======\n",
      "\t\t\t\t====== DXL_RUN_0_002bjn ======\n",
      "\t\t\t\t====== DXL_RUN_0_002bjn ======\n",
      "\n",
      "\n",
      "<><><periodCounter =  9\n",
      "\n",
      "\n",
      "Reset_Edge_CasheFiles has started\n",
      "\n",
      "[[[<><><>]]]\n",
      "Starting myWrite_to_excel()\n",
      "\t PATH_to_Save_to:  /Dropbox/Phd_R_Ms/PhD_Modeling_DB_GIT/BMAOI_Dbox-DataFrames/Network_DXL_RUN_0_002bjn_PeriodBook.xlsx \n",
      "\t Current Worksheet:  <Worksheet \"Period_28801_to_32401\"> \n",
      "\n",
      "[[[<><><>]]]\n",
      "\t\t\t\t<Writing Headers>\n",
      "\n",
      "Please be true ...  False\n",
      "\n",
      ">>>Data written to:: wb[wb.get_sheet_names()[periodCounter-1]]=  <Worksheet \"Period_28801_to_32401\"> \n",
      "\t\t\t\t\t this should match ws:  <Worksheet \"Period_28801_to_32401\"> \n",
      "[[[[<<<<Next Period>>>>]]]]:  Period_32401_to_36001\n",
      "\n",
      "\n",
      "<><><><Changing SUMO EGDE MAX SPEED><><><>\n",
      "\n",
      "\n",
      "[[[[MAX SPEEDS]]]]\t\tCurrent Time: 32401.0 \n",
      "\n",
      "<>-12150712#3  :  31.41 ; \n",
      "<>><<><><><><\n",
      " -12150712#3 's max speed = 31.41 \n",
      "\\<><><><\t\t<><><><><><\n",
      "Testing edgeLISTa[48].__dict__ ...\n",
      " {'carCount': 2505, 'truckCount': 672, 'ESAL_TOT': 196.95349999999038, 'adaptTraveltime': -1.0, 'Effort': -1.0, 'Dynamic_Max_Speed': 31.329999999999998, 'meanSpeed': 1, 'PCR': 91.19923903306065, 'IRI': 52.01663382548731, 'AVE_QLTH': 0, 'ADDT_rand': 16250.270144456639, 'ADDT_Calc': 0, 'AGE_0': 4, 'SNC': 8.0999999999999996, 'layer_1_dpth_in': 12, 'layer1_6in_35_50': 0.38, 'layer2_6in_10_25': 0.17000000000000001, 'layer3_12in_5_17': 0.20999999999999999, 'ASS_CALI': nan, 'AGE_t': 64804, 'edgeID': '387423966', 'Bel_Dic_ID': 48, 'net': <sumolib.net.Net object at 0x00000275E484F630>, 'vehidLIST': {'vehID_k': 'veh_k_Type'}, 'originalMAXSPEED': 27.87, 'AADT_Calc': 16250.270144456639, 'OCPNY': 0.31218122339864185} \n",
      "====== DXL_RUN_0_002bjn ======\n",
      "\t\t\t\t====== DXL_RUN_0_002bjn ======\n",
      "\t\t\t\t====== DXL_RUN_0_002bjn ======\n",
      "\n",
      "\n",
      "<><><periodCounter =  10\n",
      "\n",
      "\n",
      "Reset_Edge_CasheFiles has started\n",
      "\n",
      "[[[<><><>]]]\n",
      "Starting myWrite_to_excel()\n",
      "\t PATH_to_Save_to:  /Dropbox/Phd_R_Ms/PhD_Modeling_DB_GIT/BMAOI_Dbox-DataFrames/Network_DXL_RUN_0_002bjn_PeriodBook.xlsx \n",
      "\t Current Worksheet:  <Worksheet \"Period_32401_to_36001\"> \n",
      "\n",
      "[[[<><><>]]]\n",
      "\t\t\t\t<Writing Headers>\n",
      "\n",
      "Please be true ...  False\n",
      "\n",
      ">>>Data written to:: wb[wb.get_sheet_names()[periodCounter-1]]=  <Worksheet \"Period_32401_to_36001\"> \n",
      "\t\t\t\t\t this should match ws:  <Worksheet \"Period_32401_to_36001\"> \n",
      "[[[[<<<<Next Period>>>>]]]]:  Period_36001_to_39601\n",
      "\n",
      "\n",
      "<><><><Changing SUMO EGDE MAX SPEED><><><>\n",
      "\n",
      "\n",
      "[[[[MAX SPEEDS]]]]\t\tCurrent Time: 36001.0 \n",
      "\n",
      "<>-12150712#3  :  31.41 ; \n",
      "<>><<><><><><\n",
      " -12150712#3 's max speed = 31.41 \n",
      "\\<><><><\t\t<><><><><><\n",
      "Testing edgeLISTa[48].__dict__ ...\n",
      " {'carCount': 3169, 'truckCount': 845, 'ESAL_TOT': 259.46829999998624, 'adaptTraveltime': -1.0, 'Effort': -1.0, 'Dynamic_Max_Speed': 31.300000000000001, 'meanSpeed': 0, 'PCR': 90.324758429961022, 'IRI': 52.01848191423968, 'AVE_QLTH': 0, 'ADDT_rand': 16250.270144456639, 'ADDT_Calc': 0, 'AGE_0': 4, 'SNC': 8.0999999999999996, 'layer_1_dpth_in': 12, 'layer1_6in_35_50': 0.38, 'layer2_6in_10_25': 0.17000000000000001, 'layer3_12in_5_17': 0.20999999999999999, 'ASS_CALI': nan, 'AGE_t': 72004, 'edgeID': '387423966', 'Bel_Dic_ID': 48, 'net': <sumolib.net.Net object at 0x00000275E484F630>, 'vehidLIST': {'vehID_k': 'veh_k_Type'}, 'originalMAXSPEED': 27.87, 'AADT_Calc': 16250.270144456639, 'OCPNY': 0.16092722220268} \n",
      "====== DXL_RUN_0_002bjn ======\n",
      "\t\t\t\t====== DXL_RUN_0_002bjn ======\n"
     ]
    },
    {
     "ename": "FatalTraCIError",
     "evalue": "connection closed by SUMO",
     "output_type": "error",
     "traceback": [
      "\u001b[1;31m---------------------------------------------------------------------------\u001b[0m",
      "\u001b[1;31mFatalTraCIError\u001b[0m                           Traceback (most recent call last)",
      "\u001b[1;32m<ipython-input-5-2ceb871442f3>\u001b[0m in \u001b[0;36m<module>\u001b[1;34m()\u001b[0m\n\u001b[0;32m      1\u001b[0m \u001b[1;31m# Take a step(s)\u001b[0m\u001b[1;33m\u001b[0m\u001b[1;33m\u001b[0m\u001b[0m\n\u001b[1;32m----> 2\u001b[1;33m \u001b[0mSP\u001b[0m\u001b[1;33m.\u001b[0m\u001b[0mRunner\u001b[0m\u001b[1;33m.\u001b[0m\u001b[0mreleaseTraci\u001b[0m\u001b[1;33m(\u001b[0m\u001b[0mStart_Time\u001b[0m\u001b[1;33m,\u001b[0m\u001b[0mtypeRun\u001b[0m\u001b[1;33m,\u001b[0m\u001b[0medgeLISTa\u001b[0m\u001b[1;33m,\u001b[0m\u001b[0mPERIOD_VARRIABLE\u001b[0m\u001b[1;33m,\u001b[0m\u001b[0mSUMO_outPUT_PREFIX\u001b[0m\u001b[1;33m,\u001b[0m\u001b[0mperiodNamesLISTa\u001b[0m\u001b[1;33m,\u001b[0m\u001b[0msteps_TT\u001b[0m\u001b[1;33m)\u001b[0m\u001b[1;33m\u001b[0m\u001b[0m\n\u001b[0m\u001b[0;32m      3\u001b[0m \u001b[1;33m\u001b[0m\u001b[0m\n\u001b[0;32m      4\u001b[0m \u001b[0mcontinue01\u001b[0m \u001b[1;33m=\u001b[0m \u001b[1;36m0\u001b[0m\u001b[1;33m\u001b[0m\u001b[0m\n\u001b[0;32m      5\u001b[0m \u001b[0mcontinue01\u001b[0m \u001b[1;33m=\u001b[0m \u001b[0mstr\u001b[0m\u001b[1;33m(\u001b[0m\u001b[0minput\u001b[0m\u001b[1;33m(\u001b[0m\u001b[1;34m\"Press x to exit\"\u001b[0m\u001b[1;33m)\u001b[0m\u001b[1;33m)\u001b[0m\u001b[1;33m\u001b[0m\u001b[0m\n",
      "\u001b[1;32mC:\\Dropbox\\Phd_R_Ms\\PhD_Modeling_DB_GIT\\PYTHON_DB_GIT_SUMO\\sumoPython_git_A.py\u001b[0m in \u001b[0;36mreleaseTraci\u001b[1;34m(Start_Time, typeRun, edgeLISTa, PERIOD_VARRIABLE, SUMO_outPUT_PREFIX, periodNamesLISTa, steps_TT)\u001b[0m\n\u001b[0;32m    466\u001b[0m             \u001b[1;32mwhile\u001b[0m \u001b[0mtraci\u001b[0m\u001b[1;33m.\u001b[0m\u001b[0msimulation\u001b[0m\u001b[1;33m.\u001b[0m\u001b[0mgetMinExpectedNumber\u001b[0m\u001b[1;33m(\u001b[0m\u001b[1;33m)\u001b[0m \u001b[1;33m>\u001b[0m \u001b[1;36m0\u001b[0m\u001b[1;33m:\u001b[0m\u001b[1;33m\u001b[0m\u001b[0m\n\u001b[0;32m    467\u001b[0m                 \u001b[1;31m#print(\"step No. = \", step,\" out of \",No_next_steps) #Showing the steps boggy downy machiny\u001b[0m\u001b[1;33m\u001b[0m\u001b[1;33m\u001b[0m\u001b[0m\n\u001b[1;32m--> 468\u001b[1;33m                 \u001b[0mtraci\u001b[0m\u001b[1;33m.\u001b[0m\u001b[0msimulationStep\u001b[0m\u001b[1;33m(\u001b[0m\u001b[1;33m)\u001b[0m\u001b[1;33m\u001b[0m\u001b[0m\n\u001b[0m\u001b[0;32m    469\u001b[0m                 \u001b[0mRunner\u001b[0m\u001b[1;33m.\u001b[0m\u001b[0mthingsTodoWhileStepping\u001b[0m\u001b[1;33m(\u001b[0m\u001b[0medgeLISTa\u001b[0m\u001b[1;33m,\u001b[0m\u001b[0mPERIOD_VARRIABLE\u001b[0m\u001b[1;33m,\u001b[0m\u001b[0mperiodCounter\u001b[0m\u001b[1;33m,\u001b[0m\u001b[0mSUMO_outPUT_PREFIX\u001b[0m\u001b[1;33m,\u001b[0m\u001b[0mperiodNamesLISTa\u001b[0m\u001b[1;33m)\u001b[0m\u001b[1;33m\u001b[0m\u001b[0m\n\u001b[0;32m    470\u001b[0m                 \u001b[0mperiodCounter\u001b[0m \u001b[1;33m+=\u001b[0m \u001b[1;36m1\u001b[0m\u001b[1;33m\u001b[0m\u001b[0m\n",
      "\u001b[1;32mC:\\Sumo\\tools\\traci\\__init__.py\u001b[0m in \u001b[0;36msimulationStep\u001b[1;34m(step)\u001b[0m\n\u001b[0;32m    107\u001b[0m     \"\"\"\n\u001b[0;32m    108\u001b[0m     \u001b[1;32mglobal\u001b[0m \u001b[0m_stepListeners\u001b[0m\u001b[1;33m\u001b[0m\u001b[0m\n\u001b[1;32m--> 109\u001b[1;33m     \u001b[0mresponses\u001b[0m \u001b[1;33m=\u001b[0m \u001b[0m_connections\u001b[0m\u001b[1;33m[\u001b[0m\u001b[1;34m\"\"\u001b[0m\u001b[1;33m]\u001b[0m\u001b[1;33m.\u001b[0m\u001b[0msimulationStep\u001b[0m\u001b[1;33m(\u001b[0m\u001b[0mstep\u001b[0m\u001b[1;33m)\u001b[0m\u001b[1;33m\u001b[0m\u001b[0m\n\u001b[0m\u001b[0;32m    110\u001b[0m     \u001b[1;32mfor\u001b[0m \u001b[0mlistener\u001b[0m \u001b[1;32min\u001b[0m \u001b[0m_stepListeners\u001b[0m\u001b[1;33m:\u001b[0m\u001b[1;33m\u001b[0m\u001b[0m\n\u001b[0;32m    111\u001b[0m         \u001b[0mlistener\u001b[0m\u001b[1;33m.\u001b[0m\u001b[0mstep\u001b[0m\u001b[1;33m(\u001b[0m\u001b[0mstep\u001b[0m\u001b[1;33m)\u001b[0m\u001b[1;33m\u001b[0m\u001b[0m\n",
      "\u001b[1;32mC:\\Sumo\\tools\\traci\\connection.py\u001b[0m in \u001b[0;36msimulationStep\u001b[1;34m(self, step)\u001b[0m\n\u001b[0;32m    273\u001b[0m         self._string += struct.pack(\"!BBi\", 1 +\n\u001b[0;32m    274\u001b[0m                                     1 + 4, tc.CMD_SIMSTEP, step)\n\u001b[1;32m--> 275\u001b[1;33m         \u001b[0mresult\u001b[0m \u001b[1;33m=\u001b[0m \u001b[0mself\u001b[0m\u001b[1;33m.\u001b[0m\u001b[0m_sendExact\u001b[0m\u001b[1;33m(\u001b[0m\u001b[1;33m)\u001b[0m\u001b[1;33m\u001b[0m\u001b[0m\n\u001b[0m\u001b[0;32m    276\u001b[0m         \u001b[1;32mfor\u001b[0m \u001b[0msubscriptionResults\u001b[0m \u001b[1;32min\u001b[0m \u001b[0mself\u001b[0m\u001b[1;33m.\u001b[0m\u001b[0m_subscriptionMapping\u001b[0m\u001b[1;33m.\u001b[0m\u001b[0mvalues\u001b[0m\u001b[1;33m(\u001b[0m\u001b[1;33m)\u001b[0m\u001b[1;33m:\u001b[0m\u001b[1;33m\u001b[0m\u001b[0m\n\u001b[0;32m    277\u001b[0m             \u001b[0msubscriptionResults\u001b[0m\u001b[1;33m.\u001b[0m\u001b[0mreset\u001b[0m\u001b[1;33m(\u001b[0m\u001b[1;33m)\u001b[0m\u001b[1;33m\u001b[0m\u001b[0m\n",
      "\u001b[1;32mC:\\Sumo\\tools\\traci\\connection.py\u001b[0m in \u001b[0;36m_sendExact\u001b[1;34m(self)\u001b[0m\n\u001b[0;32m     95\u001b[0m             \u001b[0mself\u001b[0m\u001b[1;33m.\u001b[0m\u001b[0m_socket\u001b[0m\u001b[1;33m.\u001b[0m\u001b[0mclose\u001b[0m\u001b[1;33m(\u001b[0m\u001b[1;33m)\u001b[0m\u001b[1;33m\u001b[0m\u001b[0m\n\u001b[0;32m     96\u001b[0m             \u001b[1;32mdel\u001b[0m \u001b[0mself\u001b[0m\u001b[1;33m.\u001b[0m\u001b[0m_socket\u001b[0m\u001b[1;33m\u001b[0m\u001b[0m\n\u001b[1;32m---> 97\u001b[1;33m             \u001b[1;32mraise\u001b[0m \u001b[0mFatalTraCIError\u001b[0m\u001b[1;33m(\u001b[0m\u001b[1;34m\"connection closed by SUMO\"\u001b[0m\u001b[1;33m)\u001b[0m\u001b[1;33m\u001b[0m\u001b[0m\n\u001b[0m\u001b[0;32m     98\u001b[0m         \u001b[1;32mfor\u001b[0m \u001b[0mcommand\u001b[0m \u001b[1;32min\u001b[0m \u001b[0mself\u001b[0m\u001b[1;33m.\u001b[0m\u001b[0m_queue\u001b[0m\u001b[1;33m:\u001b[0m\u001b[1;33m\u001b[0m\u001b[0m\n\u001b[0;32m     99\u001b[0m             \u001b[0mprefix\u001b[0m \u001b[1;33m=\u001b[0m \u001b[0mresult\u001b[0m\u001b[1;33m.\u001b[0m\u001b[0mread\u001b[0m\u001b[1;33m(\u001b[0m\u001b[1;34m\"!BBB\"\u001b[0m\u001b[1;33m)\u001b[0m\u001b[1;33m\u001b[0m\u001b[0m\n",
      "\u001b[1;31mFatalTraCIError\u001b[0m: connection closed by SUMO"
     ]
    }
   ],
   "source": [
    "# Take a step(s)\n",
    "SP.Runner.releaseTraci(Start_Time,typeRun,edgeLISTa,PERIOD_VARRIABLE,SUMO_outPUT_PREFIX,periodNamesLISTa,steps_TT)\n",
    "\n",
    "continue01 = 0\n",
    "continue01 = str(input(\"Press x to exit\"))\n",
    "while continue01 != \"x\":\n",
    "    SP.Runner.releaseTraci(Start_Time,typeRun,edgeLISTa,PERIOD_VARRIABLE,SUMO_outPUT_PREFIX,periodNamesLISTa,steps_TT)\n",
    "    continue01 = str(input(\"Press x to exit\"))\n",
    "    break"
   ]
  },
  {
   "cell_type": "code",
   "execution_count": null,
   "metadata": {
    "collapsed": true
   },
   "outputs": [],
   "source": [
    "typeRun = 'T'"
   ]
  },
  {
   "cell_type": "code",
   "execution_count": null,
   "metadata": {
    "collapsed": true
   },
   "outputs": [],
   "source": [
    "traci.close()\n"
   ]
  },
  {
   "cell_type": "markdown",
   "metadata": {
    "collapsed": true
   },
   "source": [
    "Look for \n",
    "Storage(a\n",
    "C:\\Sumo\\runs\\BelmontC_AOI_main\\BelmontC_AOI-outPUT\\BMAOI_C-EmissionFILES\\Emissions_output.xml"
   ]
  },
  {
   "cell_type": "code",
   "execution_count": null,
   "metadata": {
    "collapsed": true
   },
   "outputs": [],
   "source": [
    "edgeLISTa[1].Dynamic_Max_Speed"
   ]
  },
  {
   "cell_type": "code",
   "execution_count": null,
   "metadata": {
    "collapsed": true
   },
   "outputs": [],
   "source": [
    "logger_TEMPDF.loc[1,'ESAL'] = edgeLISTa[1].ESAL_TOT\n",
    "Condition_RTi = 100.00 - (edgeLISTa[1].ESAL_TOT) * 0.01339\n",
    "logger_TEMPDF.loc[1,'Condition_Index'] = Condition_RTi\n",
    "# maxSpeedo = logger_TEMPDF.loc[logger_TEMPDF['Belmont_AVEDic_ID'].str.contains(Belmont_AVEDic[n]),'Original_Max_Speed']\n",
    "maxSpeedo = edgeLISTa[1].originalMAXSPEED\n",
    "maxSpeed_i =(maxSpeedo - (maxSpeedo**((100-Condition_RTi)/96))+4.5675)\n",
    "edgeLISTa[1].Dynamic_Max_Speed = maxSpeed_i"
   ]
  },
  {
   "cell_type": "code",
   "execution_count": null,
   "metadata": {
    "collapsed": true
   },
   "outputs": [],
   "source": [
    "maxSpeed_i"
   ]
  },
  {
   "cell_type": "code",
   "execution_count": null,
   "metadata": {
    "collapsed": true
   },
   "outputs": [],
   "source": [
    "edgeLISTa[1].__dict__"
   ]
  },
  {
   "cell_type": "code",
   "execution_count": null,
   "metadata": {
    "collapsed": true
   },
   "outputs": [],
   "source": [
    "PATH_to_Save_to = \"/Sumo/runs/BelmontC_AOI_main/BelmontC_AOI-outPUT/BMAOI_C-DataFrames/BMAOI_edgeCasheFILES/Network_\" +SUMO_outPUT_PREFIX + \"_PeriodBook.xlsx\"\n",
    "logger_TEMPDF =pd.read_excel(PATH_to_Save_to)\n",
    "logger_TEMPDF.PCR[1]\n"
   ]
  },
  {
   "cell_type": "code",
   "execution_count": null,
   "metadata": {
    "collapsed": true
   },
   "outputs": [],
   "source": [
    "http://onlinepubs.trb.org/Onlinepubs/trr/1989/1215/1215-001.pdf\n",
    "#       PCR(t) = 90 - a * [exp(Age^b)-1] * log(ESAL/SNC^c) a = 0.6349; b = 0.4203; and c = 2.7062"
   ]
  },
  {
   "cell_type": "code",
   "execution_count": null,
   "metadata": {
    "collapsed": true
   },
   "outputs": [],
   "source": [
    "# PATH_Network_DF_Period_0t00_TEMPLATExlsx = '/GitHub/PhD_Modeling/Belmont_AOI_git/Belmont_AOI-runFILES/Network_DF_Period_0t00_TEMPLATE.xlsx'\n",
    "PATH_Network_DF_Period_0t00_TEMPLATExlsx = PATH_Network_DF_Period_0t00_TEMPLATExlsx = '/Dropbox/Phd_R_Ms/PhD_Modeling_DB_GIT/Belmont_AOI_git/Belmont_AOI-runFILES/Network_DF_Period_0t00_TEMPLATE.xlsx'\n",
    "PATH_Network_DF_Period_0t00_TEMPLATExlsx\n",
    "logger_TEMPDF =pd.read_excel(PATH_Network_DF_Period_0t00_TEMPLATExlsx)\n",
    "print(logger_TEMPDF.columns,\"\\nlogger_TEMPDF.AGE_0 = \",logger_TEMPDF.AGE_0)\n"
   ]
  },
  {
   "cell_type": "code",
   "execution_count": null,
   "metadata": {
    "collapsed": true
   },
   "outputs": [],
   "source": [
    "import sumoPython_git_A as SP\n"
   ]
  },
  {
   "cell_type": "code",
   "execution_count": null,
   "metadata": {
    "collapsed": true
   },
   "outputs": [],
   "source": [
    "logger_TEMPDF.loc[1,'AGE_0']"
   ]
  },
  {
   "cell_type": "code",
   "execution_count": null,
   "metadata": {
    "collapsed": true
   },
   "outputs": [],
   "source": [
    "edgeLISTa[1].Dynamic_Max_Speed\n"
   ]
  },
  {
   "cell_type": "code",
   "execution_count": null,
   "metadata": {
    "collapsed": true
   },
   "outputs": [],
   "source": [
    "logger_TEMPDF.loc[logger_TEMPDF['Belmont_AVEDic_ID'].str.contains(edgeLISTa[1].edgeID),'Dynamic_Max_Speed'] #== edgeLISTa[1].Dynamic_Max_Speed\n",
    "\n"
   ]
  },
  {
   "cell_type": "code",
   "execution_count": null,
   "metadata": {
    "collapsed": true
   },
   "outputs": [],
   "source": [
    "age_t = 4\n",
    "ESAL = 2\n",
    "SNC=2"
   ]
  },
  {
   "cell_type": "code",
   "execution_count": null,
   "metadata": {
    "collapsed": true
   },
   "outputs": [],
   "source": [
    "PCCR = 90-0.6349 * (np.exp(age_t**0.4203)-1) * np.log(ESAL/(SNC**2.7062))\n",
    "IRRI = 52 + 8.1 * ()"
   ]
  },
  {
   "cell_type": "code",
   "execution_count": null,
   "metadata": {
    "collapsed": true
   },
   "outputs": [],
   "source": [
    "age_now = (self.AGE_0+self.AGE_t/31556926)"
   ]
  },
  {
   "cell_type": "code",
   "execution_count": null,
   "metadata": {
    "collapsed": true,
    "scrolled": true
   },
   "outputs": [],
   "source": []
  },
  {
   "cell_type": "code",
   "execution_count": null,
   "metadata": {
    "collapsed": true
   },
   "outputs": [],
   "source": [
    "def set_some_more_try_to_integrate(edgeLISTa,logger_TEMPDF):\n",
    "    for n in range(len(edgeLISTa)):\n",
    "        edgeLISTa[n].AGE_0 = logger_TEMPDF.loc[n,'AGE_0']\n",
    "        edgeLISTa[n].ADDT_rand = logger_TEMPDF.loc[n,'ADTT_rand']\n",
    "        edgeLISTa[n].ASS_CALI = logger_TEMPDF.loc[n,'ASS_CALI']\n",
    "        edgeLISTa[n].SNC = logger_TEMPDF.loc[n,'SNC']\n",
    "        edgeLISTa[n].layer_1_dpth_in = logger_TEMPDF.loc[n,'layer_1_dpth_in']\n",
    "        edgeLISTa[n].layer1_6in_35_50 = logger_TEMPDF.loc[n,'layer1_6in_35_50']\n",
    "        edgeLISTa[n].layer2_6in_10_25 = logger_TEMPDF.loc[n,'layer2_6in_10_25']\n",
    "        edgeLISTa[n].layer3_12in_5_17 = logger_TEMPDF.loc[n,'layer3_12in_5_17']\n",
    "        edgeLISTa[n].AADT_Calc = logger_TEMPDF.loc[n,'ADTT_rand']\n",
    "\n",
    "set_some_more_try_to_integrate(edgeLISTa,logger_TEMPDF)\n",
    "self.meanSpeed = int(traci.edge.getLastStepMeanSpeed(self.edgeID))\n",
    "self.PCR = 90-0.6349 * (np.exp((self.AGE_0+self.AGE_t/31556926)**0.4203)-1) * np.log(self.ESAL_TOT/((self.SNC)**2.7062)\n",
    "\n",
    "self.IRI = 52+8.1*((self.AGE_0+self.AGE_t/31556926))+0.0009*self.ADDT_Calc\n",
    "\n",
    "edgeLISTa[1].__dict__"
   ]
  }
 ],
 "metadata": {
  "kernelspec": {
   "display_name": "Python 3",
   "language": "python",
   "name": "python3"
  },
  "language_info": {
   "codemirror_mode": {
    "name": "ipython",
    "version": 3
   },
   "file_extension": ".py",
   "mimetype": "text/x-python",
   "name": "python",
   "nbconvert_exporter": "python",
   "pygments_lexer": "ipython3",
   "version": "3.6.1"
  }
 },
 "nbformat": 4,
 "nbformat_minor": 2
}
