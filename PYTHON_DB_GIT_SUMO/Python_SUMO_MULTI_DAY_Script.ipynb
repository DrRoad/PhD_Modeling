{
 "cells": [
  {
   "cell_type": "markdown",
   "metadata": {},
   "source": [
    "## Lasted Worked on 3/5/2018"
   ]
  },
  {
   "cell_type": "code",
   "execution_count": null,
   "metadata": {
    "collapsed": true
   },
   "outputs": [],
   "source": [
    "import numpy as np\n",
    "import traci\n",
    "import traci.constants as tc\n",
    "import re\n",
    "import time\n",
    "import sumolib\n",
    "# import cProfile, pstats , io\n",
    "import pandas as pd\n",
    "import openpyxl as OPENxlsx\n",
    "sumoGUIBinary = \"C:/Sumo/bin/sumo-gui\" #-0.32.0\n",
    "sumoBinary = \"C:/Sumo/bin/sumo\"\n",
    "pd.set_option('display.max_rows', 5)"
   ]
  },
  {
   "cell_type": "code",
   "execution_count": null,
   "metadata": {},
   "outputs": [],
   "source": [
    "import sumoPython_git_A as SP"
   ]
  },
  {
   "cell_type": "code",
   "execution_count": null,
   "metadata": {},
   "outputs": [],
   "source": [
    "PennDOT_AADT_day_month_TG3_DF = pd.read_excel(\"C:\\Dropbox\\Phd_R_Ms\\Asset_Use_N_Management_Complete_Model\\DropBox_ToolBox__MASTER__refresh_with_GIT\\PennDOT AADT factors by day of week and month.xlsx\")\n",
    "PennDOT_Daily_Variance_TG3_DF = pd.read_excel(\"C:\\Dropbox\\Phd_R_Ms\\Asset_Use_N_Management_Complete_Model\\DropBox_ToolBox__MASTER__refresh_with_GIT\\PennDOT vphph factors_TG3.xlsx\")\n",
    "\n",
    "Month_LIST = PennDOT_AADT_day_month_TG3_DF.columns.tolist()\n",
    "Day_LIST = PennDOT_AADT_day_month_TG3_DF.index[0:7].tolist()\n",
    "print(Month_LIST,\"\\n\\n\", Day_LIST)\n",
    "simMONTH = int(input(\"Greetings human.\\nWhat month are you seeking?   \"))\n",
    "simWEEKnum = 1\n",
    "\n",
    "configPATH_LIST = list()\n",
    "for day in range(len(Day_LIST)):\n",
    "    configPATH_LIST.append('C:\\Dropbox\\Phd_R_Ms\\PhD_Modeling_DB_GIT\\Belmont_AOI_git\\Belmont_AOI-runFILES\\BMAOI_sumcfg_MONTH_DAY_FILES\\BMAOI_sumcfg_'+Month_LIST[simMONTH]+'_'+Day_LIST[day]+'.sumocfg')"
   ]
  },
  {
   "cell_type": "markdown",
   "metadata": {},
   "source": [
    "configPATH_LIST"
   ]
  },
  {
   "cell_type": "code",
   "execution_count": null,
   "metadata": {},
   "outputs": [],
   "source": [
    "for simDAY in range(len(configPATH_LIST)):\n",
    "    print(\"$$$$$******$$$$$$********\\nIts a new day \",Month_LIST[simMONTH],\", \",Day_LIST[simDAY],\"\\n\",configPATH_LIST[simDAY])\n",
    "    configPATH = configPATH_LIST[simDAY]\n",
    "    print(\"configPATH = \",configPATH)\n",
    "    sumoCmd = [sumoBinary, \"-c\", configPATH, \"--start\"]\n",
    "    sumoGUICmd = [sumoGUIBinary, \"-c\", configPATH, \"--start\"]\n",
    "    # %colors Linux\n",
    "#     configPATH = configPATH_LIST[simDAY]\n",
    "#     print(\"configPATH = \",configPATH)\n",
    "#     sumoCmd = [sumoBinary, \"-c\", configPATH, \"--start\"]\n",
    "#     sumoGUICmd = [sumoGUIBinary, \"-c\", configPATH, \"--start\"]\n",
    "    PERIOD_VARRIABLE = 3600#SP.Initializer.inputPeriod_asNumber(new=1)\n",
    "    fileINFO = SP.RunFileInfo.GetSimulationRunPrefix(configPATH,display=1,prefix=1,port=1)\n",
    "    SUMO_outPUT_PREFIX = SP.RunFileInfo.GetSimulationRunPrefix(configPATH,display=0,prefix=1,port=0)\n",
    "    SUMO_Traci_PORT = int(SP.RunFileInfo.GetSimulationRunPrefix(configPATH,display=0,prefix=0,port=1))\n",
    "    SP.Initializer.startSUMO(sumoCmd,sumoGUICmd,SUMO_Traci_PORT,useCase=str(1),GUI_01=\"0\")\n",
    "        # Ask for Steps to take or Time to run until\n",
    "    typeRun = '2'#SP.Runner.runtypeAsker()\n",
    "    Start_Time = int(traci.simulation.getCurrentTime()/1000) \n",
    "    print(\"======\",SUMO_outPUT_PREFIX,\"======\")\n",
    "    #SP.Initializer.runSUMO(SUMO_Traci_PORT,useCase=\"Continue\")[0]\n",
    "    # estimated_Run_Time = input(\"...\\n\\n\\nHow long will you run this file for... \")\n",
    "    # if estimated_Run_Time == '':\n",
    "    estimated_Run_Time = 90000\n",
    "        # print(\"You did not specify how long you wanted to run until so the default value = \", estimated_Run_Time)\n",
    "    steps_TT = int(estimated_Run_Time)\n",
    "    # Initalize Files\n",
    "    if simDAY == 0:\n",
    "        edge_t0_PATH = '/Dropbox/Phd_R_Ms/PhD_Modeling_DB_GIT/Belmont_AOI_git/Belmont_AOI-runFILES/Network_DF_Period_0t00_TEMPLATE.xlsx'\n",
    "        edge_t0_DF = pd.read_excel(edge_t0_PATH)\n",
    "        edgeLISTa = SP.Edge.create_Edge_Instances(edge_t0_DF)\n",
    "    else:\n",
    "        edge_t0_DF = new_beginining_DF\n",
    "#         edgeLISTa = SP.Edge.create_Edge_Instances(edge_t0_DF)\n",
    "    wb = SP.Network_Period.load_n_create_Excel_NetworkFile(SUMO_outPUT_PREFIX,PERIOD_VARRIABLE,steps_TT,PATH=None)[0]\n",
    "    periodNamesLISTa = SP.Network_Period.load_n_create_Excel_NetworkFile(SUMO_outPUT_PREFIX,PERIOD_VARRIABLE,steps_TT,display=0)[1]\n",
    "\n",
    "    # Take a step(s)\n",
    "    SP.Runner.releaseTraci(edge_t0_DF,Start_Time,typeRun,edgeLISTa,PERIOD_VARRIABLE,SUMO_outPUT_PREFIX,periodNamesLISTa,steps_TT)\n",
    "    ###Create a new excel file for next day. if simDAY == 0: load from TEMPLATE / else: Load from first sheet from last bit of code \n",
    "    new_beginining_DF = SP.Network_Period.fillOutworksheet(edge_t0_DF,SUMO_outPUT_PREFIX,periodCounter=24,edgeLISTa=edgeLISTa)\n",
    "    print(len(wb.get_sheet_names()),wb.get_sheet_names(),\"\\nnew_beginining_DF = \", new_beginining_DF,\"\\nedge_t0_DF = \" , edge_t0_DF) #wb = SP.Network_Period.load_n_create_Excel_NetworkFile(SUMO_outPUT_PREFIX,PERIOD_VARRIABLE,steps_TT,PATH=None)[0]\n",
    "#     last_sheet = len(wb.get_sheet_names())\n",
    "#     new_beginining_DF  = pd.DataFrame(wb[get_sheet_names()[last_sheet]].values)\n",
    "    print(\"Testing edgeLISTa[48].__dict__ ...\\n\",edgeLISTa[48].__dict__,\"\\n======\",SUMO_outPUT_PREFIX,\"======\")\n",
    "    traci.close()"
   ]
  },
  {
   "cell_type": "code",
   "execution_count": null,
   "metadata": {
    "collapsed": true
   },
   "outputs": [],
   "source": [
    "## Its not changing SUMOcfg PATHS "
   ]
  },
  {
   "cell_type": "code",
   "execution_count": null,
   "metadata": {},
   "outputs": [],
   "source": [
    "new_beginining_DF = SP.Network_Period.fillOutworksheet(edge_t0_DF,SUMO_outPUT_PREFIX,periodCounter=24,edgeLISTa=edgeLISTa)\n",
    "# edgeLISTa = Edge.create_Edge_Instances(edge_t0_DF)\n"
   ]
  },
  {
   "cell_type": "code",
   "execution_count": null,
   "metadata": {},
   "outputs": [],
   "source": []
  },
  {
   "cell_type": "code",
   "execution_count": null,
   "metadata": {
    "collapsed": true
   },
   "outputs": [],
   "source": [
    "new_beginining_DF"
   ]
  },
  {
   "cell_type": "code",
   "execution_count": null,
   "metadata": {
    "collapsed": true
   },
   "outputs": [],
   "source": []
  },
  {
   "cell_type": "code",
   "execution_count": null,
   "metadata": {
    "collapsed": true
   },
   "outputs": [],
   "source": []
  },
  {
   "cell_type": "code",
   "execution_count": null,
   "metadata": {
    "collapsed": true
   },
   "outputs": [],
   "source": []
  },
  {
   "cell_type": "code",
   "execution_count": null,
   "metadata": {
    "collapsed": true
   },
   "outputs": [],
   "source": []
  },
  {
   "cell_type": "markdown",
   "metadata": {},
   "source": [
    "loading_FROM = input(\"\\n\\t\\t<><><> press d to run from Drexel location <><><>\")\n",
    "print(\"loading_FROM = \",loading_FROM)\n",
    "if loading_FROM == str(\"d\"):\n",
    "    configPATH = \"C:/Dropbox/Phd_R_Ms/PhD_Modeling_DB_GIT/Belmont_AOI_git/Belmont_AOI-runFILES/BMAOI_TRACI_DXL.sumocfg\"\n",
    "else:\n",
    "    configPATH = \"C:/Dropbox/Phd_R_Ms/PhD_Modeling_DB_GIT/Belmont_AOI_git/Belmont_AOI-runFILES/BMAOI_TRACI_DB.sumocfg\"\n",
    "print(\"configPATH = \",configPATH)"
   ]
  },
  {
   "cell_type": "code",
   "execution_count": null,
   "metadata": {},
   "outputs": [],
   "source": [
    "configPATH = \"C:/Dropbox/Phd_R_Ms/PhD_Modeling_DB_GIT/Belmont_AOI_git/Belmont_AOI-runFILES/BMAOI_TRACI_DB.sumocfg\"\n",
    "print(\"configPATH = \",configPATH)\n",
    "PERIOD_VARRIABLE = 3600#SP.Initializer.inputPeriod_asNumber(new=1)\n",
    "fileINFO = SP.RunFileInfo.GetSimulationRunPrefix(display=1,prefix=1,port=1)\n",
    "SUMO_outPUT_PREFIX = SP.RunFileInfo.GetSimulationRunPrefix(display=0,prefix=1,port=0)\n",
    "SUMO_Traci_PORT = int(SP.RunFileInfo.GetSimulationRunPrefix(display=0,prefix=0,port=1))\n",
    "SP.Initializer.startSUMO(SUMO_Traci_PORT,useCase=str(1),GUI_01=0)\n",
    "    # Ask for Steps to take or Time to run until\n",
    "typeRun = SP.Runner.runtypeAsker()\n",
    "Start_Time = int(traci.simulation.getCurrentTime()/1000) #SP.Initializer.runSUMO(SUMO_Traci_PORT,useCase=\"Continue\")[0]\n",
    "# estimated_Run_Time = input(\"...\\n\\n\\nHow long will you run this file for... \")\n",
    "# if estimated_Run_Time == '':\n",
    "estimated_Run_Time = 90000\n",
    "    # print(\"You did not specify how long you wanted to run until so the default value = \", estimated_Run_Time)\n",
    "steps_TT = int(estimated_Run_Time)\n",
    "# Initalize Files\n",
    "print(\"======\",SUMO_outPUT_PREFIX,\"======\")\n",
    "edgeLISTa = SP.Edge.create_Edge_Instances()\n",
    "wb = SP.Network_Period.load_n_create_Excel_NetworkFile(SUMO_outPUT_PREFIX,PERIOD_VARRIABLE,steps_TT,PATH=None)[0]\n",
    "periodNamesLISTa = SP.Network_Period.load_n_create_Excel_NetworkFile(SUMO_outPUT_PREFIX,PERIOD_VARRIABLE,steps_TT,display=0)[1]\n",
    "\n"
   ]
  },
  {
   "cell_type": "code",
   "execution_count": null,
   "metadata": {
    "collapsed": true,
    "scrolled": true
   },
   "outputs": [],
   "source": [
    "# Take a step(s)\n",
    "SP.Runner.releaseTraci(Start_Time,typeRun,edgeLISTa,PERIOD_VARRIABLE,SUMO_outPUT_PREFIX,periodNamesLISTa,steps_TT)\n",
    "\n",
    "continue01 = 0\n",
    "continue01 = str(input(\"Press x to exit\"))\n",
    "while continue01 != \"x\":\n",
    "    SP.Runner.releaseTraci(Start_Time,typeRun,edgeLISTa,PERIOD_VARRIABLE,SUMO_outPUT_PREFIX,periodNamesLISTa,steps_TT)\n",
    "    continue01 = str(input(\"Press x to exit\"))\n",
    "    break"
   ]
  },
  {
   "cell_type": "code",
   "execution_count": null,
   "metadata": {
    "collapsed": true
   },
   "outputs": [],
   "source": [
    "SP.Network_Period.fillOutworksheet(SUMO_outPUT_PREFIX,periodCounter = 90000,edgeLISTa=edgeLISTa)"
   ]
  },
  {
   "cell_type": "code",
   "execution_count": null,
   "metadata": {
    "collapsed": true
   },
   "outputs": [],
   "source": [
    "PATH_to_Save_to = \"/Dropbox/Phd_R_Ms/PhD_Modeling_DB_GIT/BMAOI_Dbox-DataFrames/Network_\" +SUMO_outPUT_PREFIX + \"_PeriodBook.xlsx\"\n",
    "wb =  OPENxlsx.load_workbook(filename = PATH_to_Save_to)"
   ]
  },
  {
   "cell_type": "code",
   "execution_count": null,
   "metadata": {
    "collapsed": true
   },
   "outputs": [],
   "source": [
    "http://onlinepubs.trb.org/Onlinepubs/trr/1989/1215/1215-001.pdf\n",
    "#       PCR(t) = 90 - a * [exp(Age^b)-1] * log(ESAL/SNC^c) a = 0.6349; b = 0.4203; and c = 2.7062"
   ]
  }
 ],
 "metadata": {
  "kernelspec": {
   "display_name": "Python 3",
   "language": "python",
   "name": "python3"
  },
  "language_info": {
   "codemirror_mode": {
    "name": "ipython",
    "version": 3
   },
   "file_extension": ".py",
   "mimetype": "text/x-python",
   "name": "python",
   "nbconvert_exporter": "python",
   "pygments_lexer": "ipython3",
   "version": "3.5.4"
  }
 },
 "nbformat": 4,
 "nbformat_minor": 2
}
