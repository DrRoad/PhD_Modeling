{
 "cells": [
  {
   "cell_type": "code",
   "execution_count": 26,
   "metadata": {},
   "outputs": [],
   "source": [
    " #open('/Dropbox/Phd_R_Ms/PhD_Modeling_DB_GIT/Belmont_AOI_git/Belmont_AOI-runFILES/Run_list_FILE.txt') #open(caliXMLTESTPATH,'r')\n",
    "XMLdataRL = open(Run_list_TXT).readlines()\n",
    "# Run_list_TXT.close()"
   ]
  },
  {
   "cell_type": "code",
   "execution_count": 37,
   "metadata": {},
   "outputs": [
    {
     "name": "stdout",
     "output_type": "stream",
     "text": [
      "37\n",
      "\n",
      "0038\n"
     ]
    }
   ],
   "source": [
    "Run_list_TXT = '/Dropbox/Phd_R_Ms/PhD_Modeling_DB_GIT/Belmont_AOI_git/Belmont_AOI-runFILES/Run_list_FILE.txt'\n",
    "with open(Run_list_TXT,'a') as f:\n",
    "    XMLdataRL = open(Run_list_TXT).readlines()\n",
    "    run_LIST = list()\n",
    "    for line in range(len(XMLdataRL)):\n",
    "        if '00' in XMLdataRL[line]:\n",
    "            run_LIST.append(int(XMLdataRL[line]))\n",
    "        else:\n",
    "            next\n",
    "    print(max(run_LIST))\n",
    "    new_run = '\\n00'+str(max(run_LIST)+1)\n",
    "    f.write(new_run)\n",
    "print(new_run)"
   ]
  },
  {
   "cell_type": "code",
   "execution_count": 31,
   "metadata": {},
   "outputs": [
    {
     "name": "stdout",
     "output_type": "stream",
     "text": [
      "31\n"
     ]
    }
   ],
   "source": [
    "run_LIST = list()\n",
    "for line in range(len(XMLdataRL)):\n",
    "    run_LIST.append(int(XMLdataRL[line]))\n",
    "print(max(run_LIST))\n"
   ]
  },
  {
   "cell_type": "code",
   "execution_count": null,
   "metadata": {
    "collapsed": true
   },
   "outputs": [],
   "source": [
    "XML_sumocfg = open('/Dropbox/Phd_R_Ms/PhD_Modeling_DB_GIT/Belmont_AOI_git/Belmont_AOI-runFILES/Run_list_FILE.txt','r') #open(caliXMLTESTPATH,'r')\n",
    "XMLdataRL = XML_sumocfg.readlines()\n",
    "XML_sumocfg.close()\n",
    "# <output-prefix value=\"BMAOI-RUN_0_0031-\"/>"
   ]
  }
 ],
 "metadata": {
  "kernelspec": {
   "display_name": "Python 3",
   "language": "python",
   "name": "python3"
  },
  "language_info": {
   "codemirror_mode": {
    "name": "ipython",
    "version": 3
   },
   "file_extension": ".py",
   "mimetype": "text/x-python",
   "name": "python",
   "nbconvert_exporter": "python",
   "pygments_lexer": "ipython3",
   "version": "3.5.4"
  }
 },
 "nbformat": 4,
 "nbformat_minor": 2
}
