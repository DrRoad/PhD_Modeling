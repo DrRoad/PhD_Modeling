{
 "cells": [
  {
   "cell_type": "code",
   "execution_count": 1,
   "metadata": {
    "collapsed": true
   },
   "outputs": [],
   "source": [
    "import numpy as np\n",
    "import traci\n",
    "import traci.constants as tc\n",
    "import re\n",
    "import time\n",
    "import sumolib\n",
    "# import cProfile, pstats , io\n",
    "import pandas as pd\n",
    "\n",
    "import openpyxl as OPENxlsx\n"
   ]
  },
  {
   "cell_type": "code",
   "execution_count": 2,
   "metadata": {},
   "outputs": [
    {
     "name": "stdout",
     "output_type": "stream",
     "text": [
      "Your new sumoPython_git_A has been loaded!\n"
     ]
    }
   ],
   "source": [
    "import sumoPython_git_A as SP"
   ]
  },
  {
   "cell_type": "code",
   "execution_count": 3,
   "metadata": {
    "collapsed": true
   },
   "outputs": [],
   "source": [
    "pd.set_option('display.max_rows', 5)"
   ]
  },
  {
   "cell_type": "code",
   "execution_count": 4,
   "metadata": {},
   "outputs": [
    {
     "name": "stdout",
     "output_type": "stream",
     "text": [
      "\n",
      "\n",
      "Press [1] to enter a user defined Period_Interval.\n",
      "Press anything else to continue default is seconds 3600 or 1 hour? ... \n",
      "\n",
      "\n",
      "PERIOD_VARRIABLE =  3600 \n",
      "\n",
      "    <output-prefix value=\"BMAOI-RUN_8.5-\"/>\n",
      "\n",
      "    <output-prefix value=\"BMAOI-RUN_8.5-\"/>\n",
      "\n",
      "    <output-prefix value=\"BMAOI-RUN_8.5-\"/>\n",
      "\n",
      "Press Zero to use GUI? (0)\n",
      "\n",
      "Confirm with: BMAOI-TRACI.sumocfg .. port in File: ..5454\n",
      "Please select a port...\t\n",
      "\n",
      "\t\tTrying port ..   5454 \n",
      "\n",
      "\n",
      "\n",
      "useCase =  1\n",
      "\n",
      "Beginning Journey Now\n",
      "\tPlease See Gui for Show\n",
      "\n",
      "\n",
      "\n",
      "Push T to Run Simulation until the end\n",
      "Push 2 to run for XXX Steps\n",
      "Push 3 to run for X number of periods\n",
      "Push 4 to run until input time\n",
      "Current Step_Time : 1.0\n",
      "\n",
      "\tEnter Run Type Here: T\n",
      "You pressed T = typeRun\n"
     ]
    }
   ],
   "source": [
    "PERIOD_VARRIABLE = SP.Initializer.inputPeriod_asNumber(new=1)\n",
    "fileINFO = SP.RunFileInfo.GetSimulationRunPrefix(display=0)\n",
    "SUMO_outPUT_PREFIX = SP.RunFileInfo.GetSimulationRunPrefix(display=0)[0]\n",
    "SUMO_Traci_PORT = int(SP.RunFileInfo.GetSimulationRunPrefix(display=0)[1])\n",
    "SP.Initializer.startSUMO(SUMO_Traci_PORT,useCase=str(1))\n",
    "    # Ask for Steps to take or Time to run until\n",
    "typeRun = SP.Runner.runtypeAsker()\n",
    "Start_Time = int(traci.simulation.getCurrentTime()/1000) #SP.Initializer.runSUMO(SUMO_Traci_PORT,useCase=\"Continue\")[0]\n",
    "# estimated_Run_Time = input(\"...\\n\\n\\nHow long will you run this file for... \")\n",
    "# if estimated_Run_Time == '':\n",
    "estimated_Run_Time = 90000\n",
    "    # print(\"You did not specify how long you wanted to run until so the default value = \", estimated_Run_Time)\n",
    "steps_TT = int(estimated_Run_Time)"
   ]
  },
  {
   "cell_type": "code",
   "execution_count": 5,
   "metadata": {},
   "outputs": [
    {
     "name": "stdout",
     "output_type": "stream",
     "text": [
      "====== RUN_8.5 ======\n",
      "\n",
      "\t\t\t\t<><>Please wait creating Edge Instances<><>\n",
      "\n",
      "Edge =  47 <><><><><><><><><><><><><><><><><><><><><><><><><><><><><><><><><><><><><><><><><><><><><><><>\n",
      "Edge =  48 \n",
      "Edge =  49 \n",
      "Edge =  50 \n",
      "Edge =  51 \n",
      "Edge =  52 \n",
      "Edge =  53 >\n",
      "Edge =  54 ><>\n",
      "Edge =  55 ><><>\n",
      "Edge =  56 ><><><>\n",
      "Edge =  57 ><><><><>\n",
      "Edge =  58 ><><><><><>\n",
      "Edge =  59 ><><><><><><>\n",
      "Edge =  60 ><><><><><><><>\n",
      "Edge =  61 ><><><><><><><><>\n",
      "Edge =  62 ><><><><><><><><><>\n",
      "Edge =  63 ><><><><><><><><><><>\n",
      "Edge =  64 ><><><><><><><><><><><>\n",
      "Edge =  65 ><><><><><><><><><><><><>\n",
      "Edge =  66 ><><><><><><><><><><><><><>\n",
      "Edge =  67 ><><><><><><><><><><><><><><>\n",
      "Edge =  68 ><><><><><><><><><><><><><><><>\n",
      "Edge =  69 ><><><><><><><><><><><><><><><><>\n",
      "Edge =  70 ><><><><><><><><><><><><><><><><><>\n",
      "Edge =  71 ><><><><><><><><><><><><><><><><><><>\n",
      "Edge =  72 ><><><><><><><><><><><><><><><><><><><>\n",
      "Edge =  73 ><><><><><><><><><><><><><><><><><><><><>\n",
      "Edge =  74 ><><><><><><><><><><><><><><><><><><><><><>\n",
      "Edge =  75 ><><><><><><><><><><><><><><><><><><><><><><>\n",
      "Edge =  76 ><><><><><><><><><><><><><><><><><><><><><><><>\n",
      "Edge =  77 ><><><><><><><><><><><><><><><><><><><><><><><><>\n",
      "Edge =  78 ><><><><><><><><><><><><><><><><><><><><><><><><><>\n",
      "Edge =  79 ><><><><><><><><><><><><><><><><><><><><><><><><><><>\n",
      "<><><><><><><><><><><><><><><><><><><><><><><><><><><><><><><><><>\n",
      "\t\t\t\t<<<Edge Instances loaded on edgeLISTa>>>\n",
      "\n",
      "Testing edgeLISTa[4].__dict__ ...\n",
      " {'layer_1_dpth_in': 6, 'SNC': 11.419589831565199, 'ASS_CALI': nan, 'originalMAXSPEED': 27.87, 'AGE_0': 7, 'AVE_QLTH': 0, 'vehidLIST': {'vehID_k': 'veh_k_Type'}, 'AADT_Calc': 14686.0, 'PCR': 0, 'adaptTraveltime': -1.0, 'ESAL_TOT': 0, 'net': <sumolib.net.Net object at 0x000001B4B6233E80>, 'meanSpeed': 27.78, 'truckCount': 0, 'layer1_6in_35_50': 0.46000000000000002, 'layer3_12in_5_17': 0.11, 'Effort': -1.0, 'AGE_t': 0, 'Dynamic_Max_Speed': 27.87, 'ADDT_rand': 14686.0, 'layer2_6in_10_25': 0.23999999999999999, 'carCount': 0, 'IRI': 0, 'edgeID': '-196358954#0', 'ADDT_Calc': 0, 'Bel_Dic_ID': 4} \n",
      "\n",
      "Loading and creating Excel Network File SUMO_outPUT_PREFIX =  RUN_8.5\n",
      "\n",
      "wb.get_sheet_names()[0] =  Sheet\n",
      "\n",
      "Removing wb.get_sheet_names()[0] =  Sheet\n",
      "\n",
      "wb.get_sheet_names()[0] =  Sheet\n",
      "\n",
      "Removing wb.get_sheet_names()[0] =  Sheet\n"
     ]
    }
   ],
   "source": [
    "# Initalize Files\n",
    "print(\"======\",SUMO_outPUT_PREFIX,\"======\")\n",
    "edgeLISTa = SP.Edge.create_Edge_Instances()\n",
    "wb = SP.Network_Period.load_n_create_Excel_NetworkFile(SUMO_outPUT_PREFIX,PERIOD_VARRIABLE,steps_TT,PATH=None)[0]\n",
    "periodNamesLISTa = SP.Network_Period.load_n_create_Excel_NetworkFile(SUMO_outPUT_PREFIX,PERIOD_VARRIABLE,steps_TT,display=0)[1]\n",
    "\n"
   ]
  },
  {
   "cell_type": "code",
   "execution_count": 6,
   "metadata": {
    "scrolled": false
   },
   "outputs": [
    {
     "name": "stdout",
     "output_type": "stream",
     "text": [
      "\t\t\t\t====== RUN_8.5 ======\n",
      "\t\t\t\t====== RUN_8.5 ======\n",
      "\n",
      "\n",
      "<><><periodCounter =  1\n",
      "\n",
      "\n",
      "Reset_Edge_CasheFiles has started\n",
      "\n",
      "[[[<><><>]]]\n",
      "Starting myWrite_to_excel()\n",
      "\t PATH_to_Save_to:  /Sumo/runs/BelmontC_AOI_main/BelmontC_AOI-outPUT/BMAOI_C-DataFrames/BMAOI_edgeCasheFILES/Network_RUN_8.5_PeriodBook.xlsx \n",
      "\t Current Worksheet:  <Worksheet \"Period_1_to_3601\"> \n",
      "\n",
      "[[[<><><>]]]\n",
      "\t\t\t\t<Writing Headers>\n",
      "\n",
      "Please be true ...  True\n",
      "\n",
      ">>>Data written to:: wb[wb.get_sheet_names()[periodCounter-1]]=  <Worksheet \"Period_1_to_3601\"> \n",
      "\t\t\t\t\t this should match ws:  <Worksheet \"Period_1_to_3601\"> \n",
      "[[[[<<<<Next Period>>>>]]]]:  Period_3601_to_7201\n",
      "\n",
      "\n",
      "<><><><Changing SUMO EGDE MAX SPEED><><><>\n",
      "\n",
      "<>\n",
      "<>><<><><><><\n",
      "\n",
      "\n",
      "\\<><><><\t\t<><><><><><\t\tI'm a failure... getMaxSpeed<>\n",
      "<>><<><><><><\n",
      "\n",
      "\n",
      "\\<><><><\t\t<><><><><><\n",
      "Testing edgeLISTa[48].__dict__ ...\n",
      " {'OCPNY': 0.06788842379260611, 'layer_1_dpth_in': 6, 'SNC': 7.7689233851706101, 'ASS_CALI': nan, 'originalMAXSPEED': 27.87, 'AGE_0': 7, 'AVE_QLTH': 0, 'vehidLIST': {'vehID_k': 'veh_k_Type'}, 'AADT_Calc': 5312.6675325839087, 'PCR': 104.08684459349621, 'adaptTraveltime': -1.0, 'ESAL_TOT': 19.675299999999954, 'net': <sumolib.net.Net object at 0x000001B4CFA62B38>, 'meanSpeed': 7, 'truckCount': 63, 'layer1_6in_35_50': 0.37, 'layer3_12in_5_17': 0.059999999999999998, 'Effort': -1.0, 'AGE_t': 3600, 'Dynamic_Max_Speed': 31.43, 'ADDT_rand': 5312.6675325839087, 'layer2_6in_10_25': 0.13, 'carCount': 179, 'IRI': 52.00092584112914, 'edgeID': '387423966', 'ADDT_Calc': 0, 'Bel_Dic_ID': 48} \n",
      "====== RUN_8.5 ======\n",
      "\t\t\t\t====== RUN_8.5 ======\n",
      "\t\t\t\t====== RUN_8.5 ======\n",
      "\n",
      "\n",
      "<><><periodCounter =  2\n",
      "\n",
      "\n",
      "Reset_Edge_CasheFiles has started\n",
      "\n",
      "[[[<><><>]]]\n",
      "Starting myWrite_to_excel()\n",
      "\t PATH_to_Save_to:  /Sumo/runs/BelmontC_AOI_main/BelmontC_AOI-outPUT/BMAOI_C-DataFrames/BMAOI_edgeCasheFILES/Network_RUN_8.5_PeriodBook.xlsx \n",
      "\t Current Worksheet:  <Worksheet \"Period_3601_to_7201\"> \n",
      "\n",
      "[[[<><><>]]]\n",
      "\t\t\t\t<Writing Headers>\n",
      "\n",
      "Please be true ...  True\n",
      "\n",
      ">>>Data written to:: wb[wb.get_sheet_names()[periodCounter-1]]=  <Worksheet \"Period_3601_to_7201\"> \n",
      "\t\t\t\t\t this should match ws:  <Worksheet \"Period_3601_to_7201\"> \n",
      "[[[[<<<<Next Period>>>>]]]]:  Period_7201_to_10801\n",
      "\n",
      "\n",
      "<><><><Changing SUMO EGDE MAX SPEED><><><>\n",
      "\n",
      "<>\n",
      "<>><<><><><><\n",
      "\n",
      "\n",
      "\\<><><><\t\t<><><><><><\t\tI'm a failure... getMaxSpeed<>\n",
      "<>><<><><><><\n",
      "\n",
      "\n",
      "\\<><><><\t\t<><><><><><\n",
      "Testing edgeLISTa[48].__dict__ ...\n",
      " {'OCPNY': 0.05575292834781383, 'layer_1_dpth_in': 6, 'SNC': 7.7689233851706101, 'ASS_CALI': nan, 'originalMAXSPEED': 27.87, 'AGE_0': 7, 'AVE_QLTH': 0, 'vehidLIST': {'vehID_k': 'veh_k_Type'}, 'AADT_Calc': 5312.6675325839087, 'PCR': 101.12602536648642, 'adaptTraveltime': -1.0, 'ESAL_TOT': 33.76069999999987, 'net': <sumolib.net.Net object at 0x000001B4CFA62B38>, 'meanSpeed': 5, 'truckCount': 93, 'layer1_6in_35_50': 0.37, 'layer3_12in_5_17': 0.059999999999999998, 'Effort': -1.0, 'AGE_t': 7200, 'Dynamic_Max_Speed': 31.43, 'ADDT_rand': 5312.6675325839087, 'layer2_6in_10_25': 0.13, 'carCount': 301, 'IRI': 52.00184988550532, 'edgeID': '387423966', 'ADDT_Calc': 0, 'Bel_Dic_ID': 48} \n",
      "====== RUN_8.5 ======\n",
      "\t\t\t\t====== RUN_8.5 ======\n",
      "\t\t\t\t====== RUN_8.5 ======\n",
      "\n",
      "\n",
      "<><><periodCounter =  3\n",
      "memory use: 0.84246826171875\n",
      "\n",
      "\n",
      "Reset_Edge_CasheFiles has started\n",
      "memory use: 0.84222412109375\n",
      "\n",
      "\n",
      "Reset_Edge_CasheFiles has started\n",
      "\n",
      "[[[<><><>]]]\n",
      "Starting myWrite_to_excel()\n",
      "\t PATH_to_Save_to:  /Sumo/runs/BelmontC_AOI_main/BelmontC_AOI-outPUT/BMAOI_C-DataFrames/BMAOI_edgeCasheFILES/Network_RUN_8.5_PeriodBook.xlsx \n",
      "\t Current Worksheet:  <Worksheet \"Period_7201_to_10801\"> \n",
      "\n",
      "[[[<><><>]]]\n",
      "\t\t\t\t<Writing Headers>\n",
      "\n",
      "Please be true ...  True\n",
      "\n",
      ">>>Data written to:: wb[wb.get_sheet_names()[periodCounter-1]]=  <Worksheet \"Period_7201_to_10801\"> \n",
      "\t\t\t\t\t this should match ws:  <Worksheet \"Period_7201_to_10801\"> \n",
      "[[[[<<<<Next Period>>>>]]]]:  Period_10801_to_14401\n",
      "\n",
      "\n",
      "<><><><Changing SUMO EGDE MAX SPEED><><><>\n",
      "\n",
      "<>\n",
      "<>><<><><><><\n",
      "\n",
      "\n",
      "\\<><><><\t\t<><><><><><\t\tI'm a failure... getMaxSpeed<>\n",
      "<>><<><><><><\n",
      "\n",
      "\n",
      "\\<><><><\t\t<><><><><><\n",
      "Testing edgeLISTa[48].__dict__ ...\n",
      " {'OCPNY': 0.04766259805128564, 'layer_1_dpth_in': 6, 'SNC': 7.7689233851706101, 'ASS_CALI': nan, 'originalMAXSPEED': 27.87, 'AGE_0': 7, 'AVE_QLTH': 0, 'vehidLIST': {'vehID_k': 'veh_k_Type'}, 'AADT_Calc': 5312.6675325839087, 'PCR': 99.893629136817637, 'adaptTraveltime': -1.0, 'ESAL_TOT': 42.268800000000056, 'net': <sumolib.net.Net object at 0x000001B4CFA62B38>, 'meanSpeed': 5, 'truckCount': 110, 'layer1_6in_35_50': 0.37, 'layer3_12in_5_17': 0.059999999999999998, 'Effort': -1.0, 'AGE_t': 10800, 'Dynamic_Max_Speed': 31.420000000000002, 'ADDT_rand': 5312.6675325839087, 'layer2_6in_10_25': 0.13, 'carCount': 384, 'IRI': 52.00277392988151, 'edgeID': '387423966', 'ADDT_Calc': 0, 'Bel_Dic_ID': 48} \n",
      "====== RUN_8.5 ======\n",
      "\t\t\t\t====== RUN_8.5 ======\n",
      "\t\t\t\t====== RUN_8.5 ======\n",
      "\n",
      "\n",
      "<><><periodCounter =  4\n",
      "\n",
      "\n",
      "Reset_Edge_CasheFiles has started\n",
      "\n",
      "[[[<><><>]]]\n",
      "Starting myWrite_to_excel()\n",
      "\t PATH_to_Save_to:  /Sumo/runs/BelmontC_AOI_main/BelmontC_AOI-outPUT/BMAOI_C-DataFrames/BMAOI_edgeCasheFILES/Network_RUN_8.5_PeriodBook.xlsx \n",
      "\t Current Worksheet:  <Worksheet \"Period_10801_to_14401\"> \n",
      "\n",
      "[[[<><><>]]]\n",
      "\t\t\t\t<Writing Headers>\n",
      "\n",
      "Please be true ...  True\n",
      "\n",
      ">>>Data written to:: wb[wb.get_sheet_names()[periodCounter-1]]=  <Worksheet \"Period_10801_to_14401\"> \n",
      "\t\t\t\t\t this should match ws:  <Worksheet \"Period_10801_to_14401\"> \n",
      "[[[[<<<<Next Period>>>>]]]]:  Period_14401_to_18001\n",
      "\n",
      "\n",
      "<><><><Changing SUMO EGDE MAX SPEED><><><>\n",
      "\n",
      "<>\n",
      "<>><<><><><><\n",
      "\n",
      "\n",
      "\\<><><><\t\t<><><><><><\t\tI'm a failure... getMaxSpeed<>\n",
      "<>><<><><><><\n",
      "\n",
      "\n",
      "\\<><><><\t\t<><><><><><\n",
      "Testing edgeLISTa[48].__dict__ ...\n",
      " {'OCPNY': 0.030074923493615652, 'layer_1_dpth_in': 6, 'SNC': 7.7689233851706101, 'ASS_CALI': nan, 'originalMAXSPEED': 27.87, 'AGE_0': 7, 'AVE_QLTH': 0, 'vehidLIST': {'vehID_k': 'veh_k_Type'}, 'AADT_Calc': 5312.6675325839087, 'PCR': 98.917139493957038, 'adaptTraveltime': -1.0, 'ESAL_TOT': 50.508000000000195, 'net': <sumolib.net.Net object at 0x000001B4CFA62B38>, 'meanSpeed': 14, 'truckCount': 132, 'layer1_6in_35_50': 0.37, 'layer3_12in_5_17': 0.059999999999999998, 'Effort': -1.0, 'AGE_t': 14400, 'Dynamic_Max_Speed': 31.420000000000002, 'ADDT_rand': 5312.6675325839087, 'layer2_6in_10_25': 0.13, 'carCount': 440, 'IRI': 52.0036979742577, 'edgeID': '387423966', 'ADDT_Calc': 0, 'Bel_Dic_ID': 48} \n",
      "====== RUN_8.5 ======\n",
      "\t\t\t\t====== RUN_8.5 ======\n",
      "\t\t\t\t====== RUN_8.5 ======\n",
      "\n",
      "\n",
      "<><><periodCounter =  5\n",
      "\n",
      "\n",
      "Reset_Edge_CasheFiles has started\n",
      "\n",
      "[[[<><><>]]]\n",
      "Starting myWrite_to_excel()\n",
      "\t PATH_to_Save_to:  /Sumo/runs/BelmontC_AOI_main/BelmontC_AOI-outPUT/BMAOI_C-DataFrames/BMAOI_edgeCasheFILES/Network_RUN_8.5_PeriodBook.xlsx \n",
      "\t Current Worksheet:  <Worksheet \"Period_14401_to_18001\"> \n",
      "\n",
      "[[[<><><>]]]\n",
      "\t\t\t\t<Writing Headers>\n",
      "\n",
      "Please be true ...  True\n",
      "\n",
      ">>>Data written to:: wb[wb.get_sheet_names()[periodCounter-1]]=  <Worksheet \"Period_14401_to_18001\"> \n",
      "\t\t\t\t\t this should match ws:  <Worksheet \"Period_14401_to_18001\"> \n",
      "[[[[<<<<Next Period>>>>]]]]:  Period_18001_to_21601\n",
      "\n",
      "\n",
      "<><><><Changing SUMO EGDE MAX SPEED><><><>\n",
      "\n",
      "<>\n",
      "<>><<><><><><\n",
      "\n",
      "\n",
      "\\<><><><\t\t<><><><><><\t\tI'm a failure... getMaxSpeed<>\n",
      "<>><<><><><><\n",
      "\n",
      "\n",
      "\\<><><><\t\t<><><><><><\n",
      "Testing edgeLISTa[48].__dict__ ...\n",
      " {'OCPNY': 0.06384325864434202, 'layer_1_dpth_in': 6, 'SNC': 7.7689233851706101, 'ASS_CALI': nan, 'originalMAXSPEED': 27.87, 'AGE_0': 7, 'AVE_QLTH': 0, 'vehidLIST': {'vehID_k': 'veh_k_Type'}, 'AADT_Calc': 5312.6675325839087, 'PCR': 98.657035160358021, 'adaptTraveltime': -1.0, 'ESAL_TOT': 52.96260000000038, 'net': <sumolib.net.Net object at 0x000001B4CFA62B38>, 'meanSpeed': 6, 'truckCount': 156, 'layer1_6in_35_50': 0.37, 'layer3_12in_5_17': 0.059999999999999998, 'Effort': -1.0, 'AGE_t': 18000, 'Dynamic_Max_Speed': 31.420000000000002, 'ADDT_rand': 5312.6675325839087, 'layer2_6in_10_25': 0.13, 'carCount': 518, 'IRI': 52.00462201863388, 'edgeID': '387423966', 'ADDT_Calc': 0, 'Bel_Dic_ID': 48} \n",
      "====== RUN_8.5 ======\n",
      "\t\t\t\t====== RUN_8.5 ======\n",
      "\t\t\t\t====== RUN_8.5 ======\n",
      "\n",
      "\n",
      "<><><periodCounter =  6\n",
      "\n",
      "\n",
      "Reset_Edge_CasheFiles has started\n",
      "\n",
      "[[[<><><>]]]\n",
      "Starting myWrite_to_excel()\n",
      "\t PATH_to_Save_to:  /Sumo/runs/BelmontC_AOI_main/BelmontC_AOI-outPUT/BMAOI_C-DataFrames/BMAOI_edgeCasheFILES/Network_RUN_8.5_PeriodBook.xlsx \n",
      "\t Current Worksheet:  <Worksheet \"Period_18001_to_21601\"> \n",
      "\n",
      "[[[<><><>]]]\n",
      "\t\t\t\t<Writing Headers>\n",
      "\n",
      "Please be true ...  True\n",
      "\n",
      ">>>Data written to:: wb[wb.get_sheet_names()[periodCounter-1]]=  <Worksheet \"Period_18001_to_21601\"> \n",
      "\t\t\t\t\t this should match ws:  <Worksheet \"Period_18001_to_21601\"> \n",
      "[[[[<<<<Next Period>>>>]]]]:  Period_21601_to_25201\n",
      "\n",
      "\n",
      "<><><><Changing SUMO EGDE MAX SPEED><><><>\n",
      "\n"
     ]
    },
    {
     "name": "stdout",
     "output_type": "stream",
     "text": [
      "<>\n",
      "<>><<><><><><\n",
      "\n",
      "\n",
      "\\<><><><\t\t<><><><><><\t\tI'm a failure... getMaxSpeed<>\n",
      "<>><<><><><><\n",
      "\n",
      "\n",
      "\\<><><><\t\t<><><><><><\n",
      "Testing edgeLISTa[48].__dict__ ...\n",
      " {'OCPNY': 0.09673221006718491, 'layer_1_dpth_in': 6, 'SNC': 7.7689233851706101, 'ASS_CALI': nan, 'originalMAXSPEED': 27.87, 'AGE_0': 7, 'AVE_QLTH': 0, 'vehidLIST': {'vehID_k': 'veh_k_Type'}, 'AADT_Calc': 5312.6675325839087, 'PCR': 97.111599932073545, 'adaptTraveltime': -1.0, 'ESAL_TOT': 70.2033000000005, 'net': <sumolib.net.Net object at 0x000001B4CFA62B38>, 'meanSpeed': 3, 'truckCount': 202, 'layer1_6in_35_50': 0.37, 'layer3_12in_5_17': 0.059999999999999998, 'Effort': -1.0, 'AGE_t': 21600, 'Dynamic_Max_Speed': 31.399999999999999, 'ADDT_rand': 5312.6675325839087, 'layer2_6in_10_25': 0.13, 'carCount': 719, 'IRI': 52.005546063010065, 'edgeID': '387423966', 'ADDT_Calc': 0, 'Bel_Dic_ID': 48} \n",
      "====== RUN_8.5 ======\n",
      "\t\t\t\t====== RUN_8.5 ======\n",
      "\t\t\t\t====== RUN_8.5 ======\n",
      "\n",
      "\n",
      "<><><periodCounter =  7\n",
      "\n",
      "\n",
      "Reset_Edge_CasheFiles has started\n",
      "\n",
      "[[[<><><>]]]\n",
      "Starting myWrite_to_excel()\n",
      "\t PATH_to_Save_to:  /Sumo/runs/BelmontC_AOI_main/BelmontC_AOI-outPUT/BMAOI_C-DataFrames/BMAOI_edgeCasheFILES/Network_RUN_8.5_PeriodBook.xlsx \n",
      "\t Current Worksheet:  <Worksheet \"Period_21601_to_25201\"> \n",
      "\n",
      "[[[<><><>]]]\n",
      "\t\t\t\t<Writing Headers>\n",
      "\n",
      "Please be true ...  True\n",
      "\n",
      ">>>Data written to:: wb[wb.get_sheet_names()[periodCounter-1]]=  <Worksheet \"Period_21601_to_25201\"> \n",
      "\t\t\t\t\t this should match ws:  <Worksheet \"Period_21601_to_25201\"> \n",
      "[[[[<<<<Next Period>>>>]]]]:  Period_25201_to_28801\n",
      "\n",
      "\n",
      "<><><><Changing SUMO EGDE MAX SPEED><><><>\n",
      "\n",
      "<>\n",
      "<>><<><><><><\n",
      "\n",
      "\n",
      "\\<><><><\t\t<><><><><><\t\tI'm a failure... getMaxSpeed<>\n",
      "<>><<><><><><\n",
      "\n",
      "\n",
      "\\<><><><\t\t<><><><><><\n",
      "Testing edgeLISTa[48].__dict__ ...\n",
      " {'OCPNY': 0.264774245218084, 'layer_1_dpth_in': 6, 'SNC': 7.7689233851706101, 'ASS_CALI': nan, 'originalMAXSPEED': 27.87, 'AGE_0': 7, 'AVE_QLTH': 0, 'vehidLIST': {'vehID_k': 'veh_k_Type'}, 'AADT_Calc': 5312.6675325839087, 'PCR': 95.112123699239106, 'adaptTraveltime': -1.0, 'ESAL_TOT': 101.08679999999774, 'net': <sumolib.net.Net object at 0x000001B4CFA62B38>, 'meanSpeed': 1, 'truckCount': 318, 'layer1_6in_35_50': 0.37, 'layer3_12in_5_17': 0.059999999999999998, 'Effort': -1.0, 'AGE_t': 25200, 'Dynamic_Max_Speed': 31.379999999999999, 'ADDT_rand': 5312.6675325839087, 'layer2_6in_10_25': 0.13, 'carCount': 1124, 'IRI': 52.00647010738625, 'edgeID': '387423966', 'ADDT_Calc': 0, 'Bel_Dic_ID': 48} \n",
      "====== RUN_8.5 ======\n",
      "\t\t\t\t====== RUN_8.5 ======\n"
     ]
    },
    {
     "ename": "FatalTraCIError",
     "evalue": "connection closed by SUMO",
     "output_type": "error",
     "traceback": [
      "\u001b[1;31m---------------------------------------------------------------------------\u001b[0m",
      "\u001b[1;31mFatalTraCIError\u001b[0m                           Traceback (most recent call last)",
      "\u001b[1;32m<ipython-input-6-2ceb871442f3>\u001b[0m in \u001b[0;36m<module>\u001b[1;34m()\u001b[0m\n\u001b[0;32m      1\u001b[0m \u001b[1;31m# Take a step(s)\u001b[0m\u001b[1;33m\u001b[0m\u001b[1;33m\u001b[0m\u001b[0m\n\u001b[1;32m----> 2\u001b[1;33m \u001b[0mSP\u001b[0m\u001b[1;33m.\u001b[0m\u001b[0mRunner\u001b[0m\u001b[1;33m.\u001b[0m\u001b[0mreleaseTraci\u001b[0m\u001b[1;33m(\u001b[0m\u001b[0mStart_Time\u001b[0m\u001b[1;33m,\u001b[0m\u001b[0mtypeRun\u001b[0m\u001b[1;33m,\u001b[0m\u001b[0medgeLISTa\u001b[0m\u001b[1;33m,\u001b[0m\u001b[0mPERIOD_VARRIABLE\u001b[0m\u001b[1;33m,\u001b[0m\u001b[0mSUMO_outPUT_PREFIX\u001b[0m\u001b[1;33m,\u001b[0m\u001b[0mperiodNamesLISTa\u001b[0m\u001b[1;33m,\u001b[0m\u001b[0msteps_TT\u001b[0m\u001b[1;33m)\u001b[0m\u001b[1;33m\u001b[0m\u001b[0m\n\u001b[0m\u001b[0;32m      3\u001b[0m \u001b[1;33m\u001b[0m\u001b[0m\n\u001b[0;32m      4\u001b[0m \u001b[0mcontinue01\u001b[0m \u001b[1;33m=\u001b[0m \u001b[1;36m0\u001b[0m\u001b[1;33m\u001b[0m\u001b[0m\n\u001b[0;32m      5\u001b[0m \u001b[0mcontinue01\u001b[0m \u001b[1;33m=\u001b[0m \u001b[0mstr\u001b[0m\u001b[1;33m(\u001b[0m\u001b[0minput\u001b[0m\u001b[1;33m(\u001b[0m\u001b[1;34m\"Press x to exit\"\u001b[0m\u001b[1;33m)\u001b[0m\u001b[1;33m)\u001b[0m\u001b[1;33m\u001b[0m\u001b[0m\n",
      "\u001b[1;32mC:\\GitHub\\PhD_Modeling\\PYTHON_GIT_SUMO\\sumoPython_git_A.py\u001b[0m in \u001b[0;36mreleaseTraci\u001b[1;34m(Start_Time, typeRun, edgeLISTa, PERIOD_VARRIABLE, SUMO_outPUT_PREFIX, periodNamesLISTa, steps_TT)\u001b[0m\n\u001b[0;32m    438\u001b[0m             \u001b[1;32mwhile\u001b[0m \u001b[0mtraci\u001b[0m\u001b[1;33m.\u001b[0m\u001b[0msimulation\u001b[0m\u001b[1;33m.\u001b[0m\u001b[0mgetMinExpectedNumber\u001b[0m\u001b[1;33m(\u001b[0m\u001b[1;33m)\u001b[0m \u001b[1;33m>\u001b[0m \u001b[1;36m0\u001b[0m\u001b[1;33m:\u001b[0m\u001b[1;33m\u001b[0m\u001b[0m\n\u001b[0;32m    439\u001b[0m                 \u001b[1;31m#print(\"step No. = \", step,\" out of \",No_next_steps) #Showing the steps boggy downy machiny\u001b[0m\u001b[1;33m\u001b[0m\u001b[1;33m\u001b[0m\u001b[0m\n\u001b[1;32m--> 440\u001b[1;33m                 \u001b[0mtraci\u001b[0m\u001b[1;33m.\u001b[0m\u001b[0msimulationStep\u001b[0m\u001b[1;33m(\u001b[0m\u001b[1;33m)\u001b[0m\u001b[1;33m\u001b[0m\u001b[0m\n\u001b[0m\u001b[0;32m    441\u001b[0m                 \u001b[0mRunner\u001b[0m\u001b[1;33m.\u001b[0m\u001b[0mthingsTodoWhileStepping\u001b[0m\u001b[1;33m(\u001b[0m\u001b[0medgeLISTa\u001b[0m\u001b[1;33m,\u001b[0m\u001b[0mPERIOD_VARRIABLE\u001b[0m\u001b[1;33m,\u001b[0m\u001b[0mperiodCounter\u001b[0m\u001b[1;33m,\u001b[0m\u001b[0mSUMO_outPUT_PREFIX\u001b[0m\u001b[1;33m,\u001b[0m\u001b[0mperiodNamesLISTa\u001b[0m\u001b[1;33m)\u001b[0m\u001b[1;33m\u001b[0m\u001b[0m\n\u001b[0;32m    442\u001b[0m                 \u001b[0mperiodCounter\u001b[0m \u001b[1;33m+=\u001b[0m \u001b[1;36m1\u001b[0m\u001b[1;33m\u001b[0m\u001b[0m\n",
      "\u001b[1;32mC:\\Sumo\\tools\\traci\\__init__.py\u001b[0m in \u001b[0;36msimulationStep\u001b[1;34m(step)\u001b[0m\n\u001b[0;32m    107\u001b[0m     \"\"\"\n\u001b[0;32m    108\u001b[0m     \u001b[1;32mglobal\u001b[0m \u001b[0m_stepListeners\u001b[0m\u001b[1;33m\u001b[0m\u001b[0m\n\u001b[1;32m--> 109\u001b[1;33m     \u001b[0mresponses\u001b[0m \u001b[1;33m=\u001b[0m \u001b[0m_connections\u001b[0m\u001b[1;33m[\u001b[0m\u001b[1;34m\"\"\u001b[0m\u001b[1;33m]\u001b[0m\u001b[1;33m.\u001b[0m\u001b[0msimulationStep\u001b[0m\u001b[1;33m(\u001b[0m\u001b[0mstep\u001b[0m\u001b[1;33m)\u001b[0m\u001b[1;33m\u001b[0m\u001b[0m\n\u001b[0m\u001b[0;32m    110\u001b[0m     \u001b[1;32mfor\u001b[0m \u001b[0mlistener\u001b[0m \u001b[1;32min\u001b[0m \u001b[0m_stepListeners\u001b[0m\u001b[1;33m:\u001b[0m\u001b[1;33m\u001b[0m\u001b[0m\n\u001b[0;32m    111\u001b[0m         \u001b[0mlistener\u001b[0m\u001b[1;33m.\u001b[0m\u001b[0mstep\u001b[0m\u001b[1;33m(\u001b[0m\u001b[0mstep\u001b[0m\u001b[1;33m)\u001b[0m\u001b[1;33m\u001b[0m\u001b[0m\n",
      "\u001b[1;32mC:\\Sumo\\tools\\traci\\connection.py\u001b[0m in \u001b[0;36msimulationStep\u001b[1;34m(self, step)\u001b[0m\n\u001b[0;32m    273\u001b[0m         self._string += struct.pack(\"!BBi\", 1 +\n\u001b[0;32m    274\u001b[0m                                     1 + 4, tc.CMD_SIMSTEP, step)\n\u001b[1;32m--> 275\u001b[1;33m         \u001b[0mresult\u001b[0m \u001b[1;33m=\u001b[0m \u001b[0mself\u001b[0m\u001b[1;33m.\u001b[0m\u001b[0m_sendExact\u001b[0m\u001b[1;33m(\u001b[0m\u001b[1;33m)\u001b[0m\u001b[1;33m\u001b[0m\u001b[0m\n\u001b[0m\u001b[0;32m    276\u001b[0m         \u001b[1;32mfor\u001b[0m \u001b[0msubscriptionResults\u001b[0m \u001b[1;32min\u001b[0m \u001b[0mself\u001b[0m\u001b[1;33m.\u001b[0m\u001b[0m_subscriptionMapping\u001b[0m\u001b[1;33m.\u001b[0m\u001b[0mvalues\u001b[0m\u001b[1;33m(\u001b[0m\u001b[1;33m)\u001b[0m\u001b[1;33m:\u001b[0m\u001b[1;33m\u001b[0m\u001b[0m\n\u001b[0;32m    277\u001b[0m             \u001b[0msubscriptionResults\u001b[0m\u001b[1;33m.\u001b[0m\u001b[0mreset\u001b[0m\u001b[1;33m(\u001b[0m\u001b[1;33m)\u001b[0m\u001b[1;33m\u001b[0m\u001b[0m\n",
      "\u001b[1;32mC:\\Sumo\\tools\\traci\\connection.py\u001b[0m in \u001b[0;36m_sendExact\u001b[1;34m(self)\u001b[0m\n\u001b[0;32m     95\u001b[0m             \u001b[0mself\u001b[0m\u001b[1;33m.\u001b[0m\u001b[0m_socket\u001b[0m\u001b[1;33m.\u001b[0m\u001b[0mclose\u001b[0m\u001b[1;33m(\u001b[0m\u001b[1;33m)\u001b[0m\u001b[1;33m\u001b[0m\u001b[0m\n\u001b[0;32m     96\u001b[0m             \u001b[1;32mdel\u001b[0m \u001b[0mself\u001b[0m\u001b[1;33m.\u001b[0m\u001b[0m_socket\u001b[0m\u001b[1;33m\u001b[0m\u001b[0m\n\u001b[1;32m---> 97\u001b[1;33m             \u001b[1;32mraise\u001b[0m \u001b[0mFatalTraCIError\u001b[0m\u001b[1;33m(\u001b[0m\u001b[1;34m\"connection closed by SUMO\"\u001b[0m\u001b[1;33m)\u001b[0m\u001b[1;33m\u001b[0m\u001b[0m\n\u001b[0m\u001b[0;32m     98\u001b[0m         \u001b[1;32mfor\u001b[0m \u001b[0mcommand\u001b[0m \u001b[1;32min\u001b[0m \u001b[0mself\u001b[0m\u001b[1;33m.\u001b[0m\u001b[0m_queue\u001b[0m\u001b[1;33m:\u001b[0m\u001b[1;33m\u001b[0m\u001b[0m\n\u001b[0;32m     99\u001b[0m             \u001b[0mprefix\u001b[0m \u001b[1;33m=\u001b[0m \u001b[0mresult\u001b[0m\u001b[1;33m.\u001b[0m\u001b[0mread\u001b[0m\u001b[1;33m(\u001b[0m\u001b[1;34m\"!BBB\"\u001b[0m\u001b[1;33m)\u001b[0m\u001b[1;33m\u001b[0m\u001b[0m\n",
      "\u001b[1;31mFatalTraCIError\u001b[0m: connection closed by SUMO"
     ]
    }
   ],
   "source": [
    "# Take a step(s)\n",
    "SP.Runner.releaseTraci(Start_Time,typeRun,edgeLISTa,PERIOD_VARRIABLE,SUMO_outPUT_PREFIX,periodNamesLISTa,steps_TT)\n",
    "\n",
    "continue01 = 0\n",
    "continue01 = str(input(\"Press x to exit\"))\n",
    "while continue01 != \"x\":\n",
    "    SP.Runner.releaseTraci(Start_Time,typeRun,edgeLISTa,PERIOD_VARRIABLE,SUMO_outPUT_PREFIX,periodNamesLISTa,steps_TT)\n",
    "    continue01 = str(input(\"Press x to exit\"))\n",
    "    break"
   ]
  },
  {
   "cell_type": "code",
   "execution_count": null,
   "metadata": {
    "collapsed": true
   },
   "outputs": [],
   "source": []
  },
  {
   "cell_type": "code",
   "execution_count": null,
   "metadata": {
    "collapsed": true
   },
   "outputs": [],
   "source": [
    "traci.close()\n"
   ]
  },
  {
   "cell_type": "markdown",
   "metadata": {
    "collapsed": true
   },
   "source": [
    "Look for \n",
    "Storage(a\n",
    "C:\\Sumo\\runs\\BelmontC_AOI_main\\BelmontC_AOI-outPUT\\BMAOI_C-EmissionFILES\\Emissions_output.xml"
   ]
  },
  {
   "cell_type": "code",
   "execution_count": null,
   "metadata": {
    "collapsed": true
   },
   "outputs": [],
   "source": []
  },
  {
   "cell_type": "code",
   "execution_count": null,
   "metadata": {
    "collapsed": true
   },
   "outputs": [],
   "source": [
    "logger_TEMPDF.loc[1,'ESAL'] = edgeLISTa[1].ESAL_TOT\n",
    "Condition_RTi = 100.00 - (edgeLISTa[1].ESAL_TOT) * 0.01339\n",
    "logger_TEMPDF.loc[1,'Condition_Index'] = Condition_RTi\n",
    "# maxSpeedo = logger_TEMPDF.loc[logger_TEMPDF['Belmont_AVEDic_ID'].str.contains(Belmont_AVEDic[n]),'Original_Max_Speed']\n",
    "maxSpeedo = edgeLISTa[1].originalMAXSPEED\n",
    "maxSpeed_i =(maxSpeedo - (maxSpeedo**((100-Condition_RTi)/96))+4.5675)\n",
    "edgeLISTa[1].Dynamic_Max_Speed = maxSpeed_i"
   ]
  },
  {
   "cell_type": "code",
   "execution_count": null,
   "metadata": {
    "collapsed": true
   },
   "outputs": [],
   "source": [
    "maxSpeed_i"
   ]
  },
  {
   "cell_type": "code",
   "execution_count": null,
   "metadata": {
    "collapsed": true
   },
   "outputs": [],
   "source": [
    "edgeLISTa[1].__dict__"
   ]
  },
  {
   "cell_type": "code",
   "execution_count": null,
   "metadata": {
    "collapsed": true
   },
   "outputs": [],
   "source": [
    "PATH_to_Save_to = \"/Sumo/runs/BelmontC_AOI_main/BelmontC_AOI-outPUT/BMAOI_C-DataFrames/BMAOI_edgeCasheFILES/Network_\" +SUMO_outPUT_PREFIX + \"_PeriodBook.xlsx\"\n",
    "logger_TEMPDF =pd.read_excel(PATH_to_Save_to)\n",
    "logger_TEMPDF.PCR[1]\n"
   ]
  },
  {
   "cell_type": "code",
   "execution_count": null,
   "metadata": {
    "collapsed": true
   },
   "outputs": [],
   "source": [
    "http://onlinepubs.trb.org/Onlinepubs/trr/1989/1215/1215-001.pdf\n",
    "#       PCR(t) = 90 - a * [exp(Age^b)-1] * log(ESAL/SNC^c) a = 0.6349; b = 0.4203; and c = 2.7062"
   ]
  },
  {
   "cell_type": "code",
   "execution_count": null,
   "metadata": {
    "collapsed": true
   },
   "outputs": [],
   "source": [
    "PATH_Network_DF_Period_0t00_TEMPLATExlsx = '/GitHub/PhD_Modeling/Belmont_AOI_git/Belmont_AOI-runFILES/Network_DF_Period_0t00_TEMPLATE.xlsx'\n",
    "PATH_Network_DF_Period_0t00_TEMPLATExlsx\n",
    "logger_TEMPDF =pd.read_excel(PATH_Network_DF_Period_0t00_TEMPLATExlsx)\n",
    "print(logger_TEMPDF.columns,\"\\nlogger_TEMPDF.AGE_0 = \",logger_TEMPDF.AGE_0)\n"
   ]
  },
  {
   "cell_type": "code",
   "execution_count": null,
   "metadata": {
    "collapsed": true
   },
   "outputs": [],
   "source": [
    "edgeLISTa[1].Dynamic_Max_Speed\n"
   ]
  },
  {
   "cell_type": "code",
   "execution_count": null,
   "metadata": {
    "collapsed": true
   },
   "outputs": [],
   "source": [
    "logger_TEMPDF.loc[logger_TEMPDF['Belmont_AVEDic_ID'].str.contains(edgeLISTa[1].edgeID),'Dynamic_Max_Speed'] #== edgeLISTa[1].Dynamic_Max_Speed\n",
    "\n"
   ]
  },
  {
   "cell_type": "code",
   "execution_count": null,
   "metadata": {
    "collapsed": true
   },
   "outputs": [],
   "source": [
    "age_t = 4\n",
    "ESAL = 2\n",
    "SNC=2"
   ]
  },
  {
   "cell_type": "code",
   "execution_count": null,
   "metadata": {
    "collapsed": true
   },
   "outputs": [],
   "source": [
    "PCCR = 90-0.6349 * (np.exp(age_t**0.4203)-1) * np.log(ESAL/(SNC**2.7062))\n",
    "IRRI = 52 + 8.1 * ()"
   ]
  },
  {
   "cell_type": "code",
   "execution_count": null,
   "metadata": {
    "collapsed": true
   },
   "outputs": [],
   "source": [
    "age_now = (self.AGE_0+self.AGE_t/31556926)"
   ]
  },
  {
   "cell_type": "code",
   "execution_count": null,
   "metadata": {
    "collapsed": true,
    "scrolled": true
   },
   "outputs": [],
   "source": []
  },
  {
   "cell_type": "code",
   "execution_count": null,
   "metadata": {
    "collapsed": true
   },
   "outputs": [],
   "source": [
    "def set_some_more_try_to_integrate(edgeLISTa,logger_TEMPDF):\n",
    "    for n in range(len(edgeLISTa)):\n",
    "        edgeLISTa[n].AGE_0 = logger_TEMPDF.loc[n,'AGE_0']\n",
    "        edgeLISTa[n].ADDT_rand = logger_TEMPDF.loc[n,'ADTT_rand']\n",
    "        edgeLISTa[n].ASS_CALI = logger_TEMPDF.loc[n,'ASS_CALI']\n",
    "        edgeLISTa[n].SNC = logger_TEMPDF.loc[n,'SNC']\n",
    "        edgeLISTa[n].layer_1_dpth_in = logger_TEMPDF.loc[n,'layer_1_dpth_in']\n",
    "        edgeLISTa[n].layer1_6in_35_50 = logger_TEMPDF.loc[n,'layer1_6in_35_50']\n",
    "        edgeLISTa[n].layer2_6in_10_25 = logger_TEMPDF.loc[n,'layer2_6in_10_25']\n",
    "        edgeLISTa[n].layer3_12in_5_17 = logger_TEMPDF.loc[n,'layer3_12in_5_17']\n",
    "        edgeLISTa[n].AADT_Calc = logger_TEMPDF.loc[n,'ADTT_rand']\n",
    "\n",
    "set_some_more_try_to_integrate(edgeLISTa,logger_TEMPDF)\n",
    "self.meanSpeed = int(traci.edge.getLastStepMeanSpeed(self.edgeID))\n",
    "self.PCR = 90-0.6349 * (np.exp((self.AGE_0+self.AGE_t/31556926)**0.4203)-1) * np.log(self.ESAL_TOT/((self.SNC)**2.7062)\n",
    "\n",
    "self.IRI = 52+8.1*((self.AGE_0+self.AGE_t/31556926))+0.0009*self.ADDT_Calc\n",
    "\n",
    "edgeLISTa[1].__dict__"
   ]
  }
 ],
 "metadata": {
  "kernelspec": {
   "display_name": "Python 3",
   "language": "python",
   "name": "python3"
  },
  "language_info": {
   "codemirror_mode": {
    "name": "ipython",
    "version": 3
   },
   "file_extension": ".py",
   "mimetype": "text/x-python",
   "name": "python",
   "nbconvert_exporter": "python",
   "pygments_lexer": "ipython3",
   "version": "3.5.4"
  }
 },
 "nbformat": 4,
 "nbformat_minor": 2
}
